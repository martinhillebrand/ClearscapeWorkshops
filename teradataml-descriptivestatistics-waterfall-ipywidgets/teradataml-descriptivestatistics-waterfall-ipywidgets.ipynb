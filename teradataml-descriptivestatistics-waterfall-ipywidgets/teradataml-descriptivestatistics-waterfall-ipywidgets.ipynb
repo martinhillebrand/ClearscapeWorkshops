{
 "cells": [
  {
   "cell_type": "markdown",
   "id": "765ae2d7-cb8f-42b5-b2a2-c14f44e40389",
   "metadata": {},
   "source": [
    "# Workshop: `teradataml` & Descriptive Statistics"
   ]
  },
  {
   "cell_type": "code",
   "execution_count": null,
   "id": "436ec4fd-33a3-42ae-99a8-fe6b72e2f82d",
   "metadata": {
    "scrolled": true,
    "tags": []
   },
   "outputs": [],
   "source": [
    "!pip install teradataml --upgrade"
   ]
  },
  {
   "cell_type": "code",
   "execution_count": null,
   "id": "859ec49e-f9a2-45a2-ba64-92f86eaace6b",
   "metadata": {
    "tags": []
   },
   "outputs": [],
   "source": [
    "try:\n",
    "    import tdprepview\n",
    "except ImportError:\n",
    "    !pip install tdprepview\n",
    "    import tdprepview"
   ]
  },
  {
   "cell_type": "markdown",
   "id": "1ff191cc-46b9-41d0-ba87-61f113e09f0a",
   "metadata": {},
   "source": [
    "# Database connection and synthetic data upload"
   ]
  },
  {
   "cell_type": "markdown",
   "id": "e1b47273-952a-47fb-8858-08352ddf29a0",
   "metadata": {},
   "source": [
    "## Database Connection"
   ]
  },
  {
   "cell_type": "markdown",
   "id": "1200ead0",
   "metadata": {},
   "source": [
    "This code cell imports the teradataml package, prints its version, and creates a context for connecting to a Teradata database."
   ]
  },
  {
   "cell_type": "markdown",
   "id": "6432eb07",
   "metadata": {},
   "source": [
    "<br><br><div style=\" border-radius: 15px 15px 0 0; background: #a8d5e2; padding: 10px;\"></div>"
   ]
  },
  {
   "cell_type": "code",
   "execution_count": null,
   "id": "3d61deb9",
   "metadata": {},
   "outputs": [],
   "source": [
    "import teradataml as tdml\n",
    "print(tdml.__version__)\n",
    "tdml.create_context(host=\"___\", username=\"demo_user\", password=\"___\")"
   ]
  },
  {
   "cell_type": "markdown",
   "id": "da05b81a",
   "metadata": {},
   "source": [
    "<details>\n",
    "  <summary style=\"font-weight:bold; color:#9b870c;\">Hint</summary>\n",
    "  <div style=\"background-color:#fff9db; padding:10px; border-radius:5px; margin-top:5px;\">\n",
    "To create a context, you need to provide the server URL, username, and the database name. These are required to establish a connection to the Teradata environment.\n",
    "  </div>\n",
    "</details>"
   ]
  },
  {
   "cell_type": "markdown",
   "id": "80b05dd1",
   "metadata": {},
   "source": [
    "<details>\n",
    "  <summary style=\"font-weight:bold; color:#0c9b3b;\">Solution</summary>\n",
    "  <div style=\"background-color:#dbffdb; padding:10px; border-radius:5px; margin-top:5px;\">\n",
    "\n",
    "```python\n",
    "import teradataml as tdml\n",
    "print(tdml.__version__)\n",
    "tdml.create_context(\"see at the clearscape dashboard\",\n",
    "                    \"demo_user\", \"only you know :)\")\n",
    "```\n",
    "  </div>\n",
    "</details>"
   ]
  },
  {
   "cell_type": "markdown",
   "id": "c2bd996a",
   "metadata": {},
   "source": [
    "<div style=\" border-radius: 0 0 15px 15px ; background: #a8d5e2; padding: 10px;\"></div><br><br>"
   ]
  },
  {
   "cell_type": "markdown",
   "id": "4a4986a9-2c48-41e0-9fb6-c6b8bbdc0302",
   "metadata": {},
   "source": [
    "## Data Upload"
   ]
  },
  {
   "cell_type": "markdown",
   "id": "0af6fb8d",
   "metadata": {},
   "source": [
    "This code cell runs a notebook to generate data tables, uploads the tables to the Teradata database, and checks the data types of the tables."
   ]
  },
  {
   "cell_type": "code",
   "execution_count": null,
   "id": "23566bf3-b67b-4ee8-8e50-24d142c60923",
   "metadata": {},
   "outputs": [],
   "source": [
    "%run tables-ddls-banking.ipynb #  generates the data\n",
    "\n",
    "my_tables_dict = {\n",
    "        \"Customer_Dim\": customer_dim,\n",
    "        \"Account_Dim\": account_dim,\n",
    "        \"Account_Customer_Map\": account_customer_map,\n",
    "        \"Transaction_Fact\": transaction_fact,\n",
    "        \"Balance_Fact\": balance_fact,\n",
    "        \"Interaction_Fact\": interaction_fact,\n",
    "        \"Master_Table\": master_table,\n",
    "        \"Customer_Details\":customer_details\n",
    "    }\n",
    "\n",
    "#upload\n",
    "import warnings\n",
    "warnings.filterwarnings('ignore', category=FutureWarning)\n",
    "for tablename, table in my_tables_dict.items():\n",
    "    tdml.copy_to_sql(table, tablename,if_exists=\"replace\",primary_index= table.columns[0])\n",
    "    print(tablename, \" uploaded\")\n",
    "\n",
    "# check tdtypes\n",
    "types_dict = {}\n",
    "for tablename in my_tables_dict.keys():\n",
    "    types_dict[tablename] = tdml.DataFrame(tablename).tdtypes._column_names_and_types"
   ]
  },
  {
   "cell_type": "markdown",
   "id": "10ce4b48-1930-4402-bc22-dc1d2acda556",
   "metadata": {},
   "source": [
    "## Function for pretty printing SQLs"
   ]
  },
  {
   "cell_type": "markdown",
   "id": "9d7a1052",
   "metadata": {},
   "source": [
    "This code cell defines a function `prettyprint_sql` that formats SQL queries for better readability."
   ]
  },
  {
   "cell_type": "code",
   "execution_count": null,
   "id": "ee3acc64-0aeb-476a-9600-308b1f779411",
   "metadata": {},
   "outputs": [],
   "source": [
    "import sqlparse\n",
    "def prettyprint_sql(query):\n",
    "    print(sqlparse.format(\n",
    "            query,\n",
    "            reindent=True, \n",
    "            keyword_case='upper'\n",
    "    ))"
   ]
  },
  {
   "cell_type": "markdown",
   "id": "4f7c49d6-e5ea-4d1f-a06d-efe058521a53",
   "metadata": {},
   "source": [
    "## Inspect Data"
   ]
  },
  {
   "cell_type": "code",
   "execution_count": null,
   "id": "8ec39c23-d54f-461b-8e22-f97f79110882",
   "metadata": {},
   "outputs": [],
   "source": [
    "import ipywidgets as widgets\n",
    "from IPython.display import display\n",
    "import pandas as pd\n",
    "\n",
    "def display_dataframes_in_tabs(table_names):\n",
    "    # Temporarily set pandas display options to ensure all columns are visible\n",
    "    with pd.option_context('display.max_columns', None):\n",
    "        # Create a list to hold each tab's contents and their titles\n",
    "        tab_contents = []\n",
    "        tab_titles = table_names\n",
    "        \n",
    "        for table_name in table_names:\n",
    "            # Get the first ten rows of the DataFrame\n",
    "            df_head = tdml.DataFrame(table_name)\n",
    "            table_output = widgets.Output()  # Create an output widget for the table\n",
    "            with table_output:\n",
    "                display(df_head)  # Display the DataFrame inside the output widget\n",
    "            tab_contents.append(table_output)  # Add to tab contents list\n",
    "\n",
    "        # Create the tabs widget\n",
    "        tabs = widgets.Tab(children=tab_contents)\n",
    "        \n",
    "        # Set tab titles\n",
    "        for i, title in enumerate(tab_titles):\n",
    "            tabs.set_title(i, title)\n",
    "\n",
    "        # Display the tabs\n",
    "        display(tabs)"
   ]
  },
  {
   "cell_type": "markdown",
   "id": "55edc45b-6021-405f-afb9-1a195df39b38",
   "metadata": {},
   "source": [
    "This code cell displays multible tabs, each one displaying the first ten rows of a table"
   ]
  },
  {
   "cell_type": "markdown",
   "id": "ec4f74c7",
   "metadata": {},
   "source": [
    "<br><br><div style=\" border-radius: 15px 15px 0 0; background: #a8d5e2; padding: 10px;\"></div>"
   ]
  },
  {
   "cell_type": "code",
   "execution_count": null,
   "id": "6a3a15a9",
   "metadata": {},
   "outputs": [],
   "source": [
    "display_dataframes_in_tabs(___)  # Pass the keys of the dictionary to the function"
   ]
  },
  {
   "cell_type": "markdown",
   "id": "957d527b",
   "metadata": {},
   "source": [
    "<details>\n",
    "  <summary style=\"font-weight:bold; color:#9b870c;\">Hint</summary>\n",
    "  <div style=\"background-color:#fff9db; padding:10px; border-radius:5px; margin-top:5px;\">\n",
    "You need to pass the keys of the dictionary `my_tables_dict` to the function `display_dataframes_in_tabs`. Use the `.keys()` method to get the keys.\n",
    "  </div>\n",
    "</details>"
   ]
  },
  {
   "cell_type": "markdown",
   "id": "b605e457",
   "metadata": {},
   "source": [
    "<details>\n",
    "  <summary style=\"font-weight:bold; color:#0c9b3b;\">Solution</summary>\n",
    "  <div style=\"background-color:#dbffdb; padding:10px; border-radius:5px; margin-top:5px;\">\n",
    "\n",
    "```python\n",
    "display_dataframes_in_tabs(my_tables_dict.keys())\n",
    "```\n",
    "  </div>\n",
    "</details>"
   ]
  },
  {
   "cell_type": "markdown",
   "id": "70b2e972",
   "metadata": {},
   "source": [
    "<div style=\" border-radius: 0 0 15px 15px ; background: #a8d5e2; padding: 10px;\"></div><br><br>"
   ]
  },
  {
   "cell_type": "markdown",
   "id": "4603bcd9-d43f-4589-bc69-2f3383d488d0",
   "metadata": {},
   "source": [
    "# Introduction to Python Client teradataml & tdml DataFrames"
   ]
  },
  {
   "cell_type": "markdown",
   "id": "8da2933f-0bd0-4204-9587-372476585882",
   "metadata": {},
   "source": [
    "## teradataml DataFrame Creation + Properties\n"
   ]
  },
  {
   "cell_type": "markdown",
   "id": "83535fe4",
   "metadata": {},
   "source": [
    "This code cell imports the teradataml package."
   ]
  },
  {
   "cell_type": "code",
   "execution_count": null,
   "id": "d1df54d4-2c31-456a-b890-2159097f57ac",
   "metadata": {},
   "outputs": [],
   "source": [
    "import teradataml as tdml"
   ]
  },
  {
   "cell_type": "markdown",
   "id": "039426b4",
   "metadata": {},
   "source": [
    "This code cell creates DataFrame objects from tables in the Teradata database, including creating from table name in the default database, from a query, and from a table in a non-default database. It also inspects the created DataFrame objects."
   ]
  },
  {
   "cell_type": "markdown",
   "id": "7696cd7a",
   "metadata": {},
   "source": [
    "<br><br><div style=\" border-radius: 15px 15px 0 0; background: #a8d5e2; padding: 10px;\"></div>"
   ]
  },
  {
   "cell_type": "code",
   "execution_count": null,
   "id": "691b44c7",
   "metadata": {},
   "outputs": [],
   "source": [
    "#create from tablename in current default database\n",
    "DF_Customer_Dim = tdml.DataFrame(\"___\")  # Specify the table name\n",
    "\n",
    "#create from query\n",
    "DF_Account_Dim = tdml.DataFrame.from_query(\"SELECT * FROM ___\")  # Complete the query with the table name\n",
    "\n",
    "#create from tablename in non-default database, this is preferred\n",
    "DF_Account_Customer_Map = tdml.DataFrame(tdml.in_schema(\"___\", \"___\"))  # Specify the schema and table name\n",
    "\n",
    "# inspect\n",
    "DF_Customer_Dim"
   ]
  },
  {
   "cell_type": "markdown",
   "id": "3634f745",
   "metadata": {},
   "source": [
    "<details>\n",
    "  <summary style=\"font-weight:bold; color:#9b870c;\">Hint</summary>\n",
    "  <div style=\"background-color:#fff9db; padding:10px; border-radius:5px; margin-top:5px;\">\n",
    "For each DataFrame creation, ensure you specify the correct table name or schema. The first DataFrame is created directly from a table name, the second from a SQL query, and the third from a table in a specified schema.\n",
    "  </div>\n",
    "</details>"
   ]
  },
  {
   "cell_type": "markdown",
   "id": "9a04df6e",
   "metadata": {},
   "source": [
    "<details>\n",
    "  <summary style=\"font-weight:bold; color:#0c9b3b;\">Solution</summary>\n",
    "  <div style=\"background-color:#dbffdb; padding:10px; border-radius:5px; margin-top:5px;\">\n",
    "\n",
    "```python\n",
    "#create from tablename in current default database\n",
    "DF_Customer_Dim = tdml.DataFrame(\"Customer_Dim\")\n",
    "\n",
    "#create from query\n",
    "DF_Account_Dim= tdml.DataFrame.from_query(\"SELECT * FROM Account_Dim\")\n",
    "\n",
    "#create from tablename in non-default database, this is preferred\n",
    "DF_Account_Customer_Map = tdml.DataFrame(tdml.in_schema(\"demo_user\", \"Account_Customer_Map\" ))\n",
    "\n",
    "# inspect\n",
    "DF_Customer_Dim\n",
    "```\n",
    "  </div>\n",
    "</details>"
   ]
  },
  {
   "cell_type": "markdown",
   "id": "71a240df",
   "metadata": {},
   "source": [
    "<div style=\" border-radius: 0 0 15px 15px ; background: #a8d5e2; padding: 10px;\"></div><br><br>"
   ]
  },
  {
   "cell_type": "markdown",
   "id": "717fab5c-45f4-49f6-8178-9d63d2ffee69",
   "metadata": {},
   "source": [
    "***DataFrame Properties***"
   ]
  },
  {
   "cell_type": "markdown",
   "id": "bdcd42ca",
   "metadata": {},
   "source": [
    "This code cell retrieves the shape of the DataFrame DF_Customer_Dim."
   ]
  },
  {
   "cell_type": "markdown",
   "id": "d38a07bb",
   "metadata": {},
   "source": [
    "<br><br><div style=\" border-radius: 15px 15px 0 0; background: #a8d5e2; padding: 10px;\"></div>"
   ]
  },
  {
   "cell_type": "code",
   "execution_count": null,
   "id": "bc9159a2",
   "metadata": {},
   "outputs": [],
   "source": [
    "DF_Customer_Dim.___  # Access the shape attribute of the DataFrame"
   ]
  },
  {
   "cell_type": "markdown",
   "id": "5b876b05",
   "metadata": {},
   "source": [
    "<details>\n",
    "  <summary style=\"font-weight:bold; color:#9b870c;\">Hint</summary>\n",
    "  <div style=\"background-color:#fff9db; padding:10px; border-radius:5px; margin-top:5px;\">\n",
    "To find the dimensions of a DataFrame, use the `.shape` attribute. \n",
    "  </div>\n",
    "</details>"
   ]
  },
  {
   "cell_type": "markdown",
   "id": "2c41819c",
   "metadata": {},
   "source": [
    "<details>\n",
    "  <summary style=\"font-weight:bold; color:#0c9b3b;\">Solution</summary>\n",
    "  <div style=\"background-color:#dbffdb; padding:10px; border-radius:5px; margin-top:5px;\">\n",
    "\n",
    "```python\n",
    "DF_Customer_Dim.shape\n",
    "```\n",
    "  </div>\n",
    "</details>"
   ]
  },
  {
   "cell_type": "markdown",
   "id": "8261850c",
   "metadata": {},
   "source": [
    "<div style=\" border-radius: 0 0 15px 15px ; background: #a8d5e2; padding: 10px;\"></div><br><br>"
   ]
  },
  {
   "cell_type": "markdown",
   "id": "fb6b259c",
   "metadata": {},
   "source": [
    "This code cell retrieves the column names of the DataFrame DF_Customer_Dim."
   ]
  },
  {
   "cell_type": "markdown",
   "id": "66e0c65c",
   "metadata": {},
   "source": [
    "<br><br><div style=\" border-radius: 15px 15px 0 0; background: #a8d5e2; padding: 10px;\"></div>"
   ]
  },
  {
   "cell_type": "code",
   "execution_count": null,
   "id": "c231b3cb",
   "metadata": {},
   "outputs": [],
   "source": [
    "DF_Customer_Dim.___  # Access the columns attribute of the DataFrame"
   ]
  },
  {
   "cell_type": "markdown",
   "id": "45d9aef5",
   "metadata": {},
   "source": [
    "<details>\n",
    "  <summary style=\"font-weight:bold; color:#9b870c;\">Hint</summary>\n",
    "  <div style=\"background-color:#fff9db; padding:10px; border-radius:5px; margin-top:5px;\">\n",
    "To view the column names of a DataFrame, use the `columns` attribute. This attribute does not require parentheses as it is not a method.\n",
    "  </div>\n",
    "</details>"
   ]
  },
  {
   "cell_type": "markdown",
   "id": "b079fbc8",
   "metadata": {},
   "source": [
    "<details>\n",
    "  <summary style=\"font-weight:bold; color:#0c9b3b;\">Solution</summary>\n",
    "  <div style=\"background-color:#dbffdb; padding:10px; border-radius:5px; margin-top:5px;\">\n",
    "\n",
    "```python\n",
    "DF_Customer_Dim.columns\n",
    "```\n",
    "  </div>\n",
    "</details>"
   ]
  },
  {
   "cell_type": "markdown",
   "id": "94650f31",
   "metadata": {},
   "source": [
    "<div style=\" border-radius: 0 0 15px 15px ; background: #a8d5e2; padding: 10px;\"></div><br><br>"
   ]
  },
  {
   "cell_type": "markdown",
   "id": "80ae0e35",
   "metadata": {},
   "source": [
    "This code cell retrieves the data types of each column in the DataFrame DF_Customer_Dim."
   ]
  },
  {
   "cell_type": "markdown",
   "id": "acc3ca1c",
   "metadata": {},
   "source": [
    "<br><br><div style=\" border-radius: 15px 15px 0 0; background: #a8d5e2; padding: 10px;\"></div>"
   ]
  },
  {
   "cell_type": "code",
   "execution_count": null,
   "id": "1c0030ef",
   "metadata": {},
   "outputs": [],
   "source": [
    "DF_Customer_Dim.___  # Check the data types of the DataFrame columns"
   ]
  },
  {
   "cell_type": "markdown",
   "id": "27684de6",
   "metadata": {},
   "source": [
    "<details>\n",
    "  <summary style=\"font-weight:bold; color:#9b870c;\">Hint</summary>\n",
    "  <div style=\"background-color:#fff9db; padding:10px; border-radius:5px; margin-top:5px;\">\n",
    "Use the `dtypes` attribute to view the data types of each column in a DataFrame.\n",
    "  </div>\n",
    "</details>"
   ]
  },
  {
   "cell_type": "markdown",
   "id": "2ed2258b",
   "metadata": {},
   "source": [
    "<details>\n",
    "  <summary style=\"font-weight:bold; color:#0c9b3b;\">Solution</summary>\n",
    "  <div style=\"background-color:#dbffdb; padding:10px; border-radius:5px; margin-top:5px;\">\n",
    "\n",
    "```python\n",
    "DF_Customer_Dim.dtypes\n",
    "```\n",
    "  </div>\n",
    "</details>"
   ]
  },
  {
   "cell_type": "markdown",
   "id": "574df629",
   "metadata": {},
   "source": [
    "<div style=\" border-radius: 0 0 15px 15px ; background: #a8d5e2; padding: 10px;\"></div><br><br>"
   ]
  },
  {
   "cell_type": "markdown",
   "id": "a4f55697",
   "metadata": {},
   "source": [
    "This code cell attempts to retrieve the Teradata data types of the columns in the DataFrame DF_Customer_Dim."
   ]
  },
  {
   "cell_type": "markdown",
   "id": "550fa628",
   "metadata": {},
   "source": [
    "<br><br><div style=\" border-radius: 15px 15px 0 0; background: #a8d5e2; padding: 10px;\"></div>"
   ]
  },
  {
   "cell_type": "code",
   "execution_count": null,
   "id": "e084cf92",
   "metadata": {},
   "outputs": [],
   "source": [
    "DF_Customer_Dim.___  # Use the appropriate method to check the Teradata data types of the DataFrame"
   ]
  },
  {
   "cell_type": "markdown",
   "id": "2a94df89",
   "metadata": {},
   "source": [
    "<details>\n",
    "  <summary style=\"font-weight:bold; color:#9b870c;\">Hint</summary>\n",
    "  <div style=\"background-color:#fff9db; padding:10px; border-radius:5px; margin-top:5px;\">\n",
    "To check the Teradata data types of each column in a DataFrame, use the property (tdtypes) that provides this information. \n",
    "  </div>\n",
    "</details>"
   ]
  },
  {
   "cell_type": "markdown",
   "id": "d5149b9f",
   "metadata": {},
   "source": [
    "<details>\n",
    "  <summary style=\"font-weight:bold; color:#0c9b3b;\">Solution</summary>\n",
    "  <div style=\"background-color:#dbffdb; padding:10px; border-radius:5px; margin-top:5px;\">\n",
    "\n",
    "```python\n",
    "DF_Customer_Dim.tdtypes\n",
    "```\n",
    "  </div>\n",
    "</details>"
   ]
  },
  {
   "cell_type": "markdown",
   "id": "a58e9cf6",
   "metadata": {},
   "source": [
    "<div style=\" border-radius: 0 0 15px 15px ; background: #a8d5e2; padding: 10px;\"></div><br><br>"
   ]
  },
  {
   "cell_type": "markdown",
   "id": "c200f0a6-54b5-47d3-a3d0-3c3f1f29df38",
   "metadata": {},
   "source": [
    "## SQL within Python (1): dynamic query building using format strings & `tdml.DataFrame.from_query()` "
   ]
  },
  {
   "cell_type": "markdown",
   "id": "be669579",
   "metadata": {},
   "source": [
    "This code cell constructs a SQL query using format strings and a list of conditions. The final query is printed and executed using the teradataml package."
   ]
  },
  {
   "cell_type": "markdown",
   "id": "0b867062",
   "metadata": {},
   "source": [
    "<br><br><div style=\" border-radius: 15px 15px 0 0; background: #a8d5e2; padding: 10px;\"></div>"
   ]
  },
  {
   "cell_type": "code",
   "execution_count": null,
   "id": "5dbb8ac4",
   "metadata": {},
   "outputs": [],
   "source": [
    "# use format strings to construct queries\n",
    "query_f = \"SELECT Customer_Id FROM Customer_Dim WHERE {conditions} \"\n",
    "conditions_list = [\"Preferred_Language_Code = 'EN' \",\n",
    "                          \"Region IS IN ('BE', 'ZH') \"]\n",
    "\n",
    "query_final = query_f.format(conditions= \" AND \".join(___))  # Join conditions with 'AND'\n",
    "\n",
    "prettyprint_sql(___)  # Pretty print the final query\n",
    "\n",
    "tdml.DataFrame.from_query(___)  # Create DataFrame from the query"
   ]
  },
  {
   "cell_type": "markdown",
   "id": "64188037",
   "metadata": {},
   "source": [
    "<details>\n",
    "  <summary style=\"font-weight:bold; color:#9b870c;\">Hint</summary>\n",
    "  <div style=\"background-color:#fff9db; padding:10px; border-radius:5px; margin-top:5px;\">\n",
    "To construct the final query, you need to join the conditions in `conditions_list` with 'AND'. Then, use the `prettyprint_sql` function to display the query and `tdml.DataFrame.from_query` to execute it.\n",
    "  </div>\n",
    "</details>"
   ]
  },
  {
   "cell_type": "markdown",
   "id": "a2fd0139",
   "metadata": {},
   "source": [
    "<details>\n",
    "  <summary style=\"font-weight:bold; color:#0c9b3b;\">Solution</summary>\n",
    "  <div style=\"background-color:#dbffdb; padding:10px; border-radius:5px; margin-top:5px;\">\n",
    "\n",
    "```python\n",
    "# use format strings to construct queries\n",
    "query_f = \"SELECT Customer_Id FROM Customer_Dim WHERE {conditions} \"\n",
    "conditions_list = [\"Preferred_Language_Code = 'EN' \",\n",
    "                          \"Region IS IN ('BE', 'ZH') \"]\n",
    "\n",
    "query_final = query_f.format(conditions= \" AND \".join(conditions_list))\n",
    "\n",
    "prettyprint_sql(query_final)\n",
    "\n",
    "tdml.DataFrame.from_query(query_final)\n",
    "```\n",
    "  </div>\n",
    "</details>"
   ]
  },
  {
   "cell_type": "markdown",
   "id": "6c39c37d",
   "metadata": {},
   "source": [
    "<div style=\" border-radius: 0 0 15px 15px ; background: #a8d5e2; padding: 10px;\"></div><br><br>"
   ]
  },
  {
   "cell_type": "markdown",
   "id": "57884c40-9612-4c5e-b6a7-b37a508c8168",
   "metadata": {},
   "source": [
    "## Filtering DataFrames"
   ]
  },
  {
   "cell_type": "markdown",
   "id": "22eee8fe",
   "metadata": {},
   "source": [
    "This code filters the `DF_Customer_Dim` DataFrame based on the conditions that the Preferred Language Code is \"EN\" and the Region is either \"BE\" or \"ZH\". It then selects only the Customer_Id column and stores the result in `DF_myfilter`."
   ]
  },
  {
   "cell_type": "markdown",
   "id": "2d4324e1",
   "metadata": {},
   "source": [
    "<br><br><div style=\" border-radius: 15px 15px 0 0; background: #a8d5e2; padding: 10px;\"></div>"
   ]
  },
  {
   "cell_type": "code",
   "execution_count": null,
   "id": "09494433",
   "metadata": {},
   "outputs": [],
   "source": [
    "DF_myfilter = DF_Customer_Dim[\n",
    "    (DF_Customer_Dim[\"Preferred_Language_Code\"] == ___) &  # Filter for English language, EN\n",
    "    (DF_Customer_Dim[\"Region\"].isin([___, ___]))  # Filter for specific regions, BE, ZH\n",
    "][[___]]  # Select the Customer_Id column\n",
    "\n",
    "DF_myfilter"
   ]
  },
  {
   "cell_type": "markdown",
   "id": "efa185cc",
   "metadata": {},
   "source": [
    "<details>\n",
    "  <summary style=\"font-weight:bold; color:#9b870c;\">Hint</summary>\n",
    "  <div style=\"background-color:#fff9db; padding:10px; border-radius:5px; margin-top:5px;\">\n",
    "You need to filter the DataFrame based on the preferred language being \"EN\" and the region being either 'BE' or 'ZH'. After filtering, select only the \"Customer_Id\" column.\n",
    "  </div>\n",
    "</details>"
   ]
  },
  {
   "cell_type": "markdown",
   "id": "9d468f6f",
   "metadata": {},
   "source": [
    "<details>\n",
    "  <summary style=\"font-weight:bold; color:#0c9b3b;\">Solution</summary>\n",
    "  <div style=\"background-color:#dbffdb; padding:10px; border-radius:5px; margin-top:5px;\">\n",
    "\n",
    "```python\n",
    "DF_myfilter = DF_Customer_Dim[\n",
    "    (DF_Customer_Dim[\"Preferred_Language_Code\"] == \"EN\") &\n",
    "    (DF_Customer_Dim[\"Region\"].isin(['BE', 'ZH']))\n",
    "][[\"Customer_Id\"]]\n",
    "\n",
    "DF_myfilter\n",
    "```\n",
    "  </div>\n",
    "</details>"
   ]
  },
  {
   "cell_type": "markdown",
   "id": "866efe8d",
   "metadata": {},
   "source": [
    "<div style=\" border-radius: 0 0 15px 15px ; background: #a8d5e2; padding: 10px;\"></div><br><br>"
   ]
  },
  {
   "cell_type": "markdown",
   "id": "0e974108-c828-472c-8900-0246b079d3c8",
   "metadata": {},
   "source": [
    "## SQL within Python (2):  `show_query`, format strings,  `tdml.execute_sql()` to crystallise logic for later use"
   ]
  },
  {
   "cell_type": "markdown",
   "id": "0f6411e9",
   "metadata": {},
   "source": [
    "This code cell is used to inspect the SQL query behind the `DF_Account_Dim` DataFrame using the `prettyprint_sql` function."
   ]
  },
  {
   "cell_type": "code",
   "execution_count": null,
   "id": "4b1d6497-7ec2-4419-be9a-a003419a5af8",
   "metadata": {},
   "outputs": [],
   "source": [
    "# inspect the query behind a DF, not interesting\n",
    "prettyprint_sql(DF_Account_Dim.show_query())"
   ]
  },
  {
   "cell_type": "markdown",
   "id": "dece7150",
   "metadata": {},
   "source": [
    "This code cell is used to inspect the SQL query behind the processed `DF_myfilter` DataFrame using the `prettyprint_sql` function."
   ]
  },
  {
   "cell_type": "markdown",
   "id": "d728432e",
   "metadata": {},
   "source": [
    "<br><br><div style=\" border-radius: 15px 15px 0 0; background: #a8d5e2; padding: 10px;\"></div>"
   ]
  },
  {
   "cell_type": "code",
   "execution_count": null,
   "id": "0f1b6265",
   "metadata": {},
   "outputs": [],
   "source": [
    "# inspect the query behind a processed DF \n",
    "prettyprint_sql(DF_myfilter.____)  # Use the method to show the query of the DataFrame"
   ]
  },
  {
   "cell_type": "markdown",
   "id": "314b649e",
   "metadata": {},
   "source": [
    "<details>\n",
    "  <summary style=\"font-weight:bold; color:#9b870c;\">Hint</summary>\n",
    "  <div style=\"background-color:#fff9db; padding:10px; border-radius:5px; margin-top:5px;\">\n",
    "You need to call the `show_query()` method on the DataFrame object to retrieve the SQL query. Make sure to pass the correct DataFrame variable to the `prettyprint_sql` function.\n",
    "  </div>\n",
    "</details>"
   ]
  },
  {
   "cell_type": "markdown",
   "id": "9f82e8bd",
   "metadata": {},
   "source": [
    "<details>\n",
    "  <summary style=\"font-weight:bold; color:#0c9b3b;\">Solution</summary>\n",
    "  <div style=\"background-color:#dbffdb; padding:10px; border-radius:5px; margin-top:5px;\">\n",
    "\n",
    "```python\n",
    "# inspect the query behind a processed DF \n",
    "prettyprint_sql(DF_myfilter.show_query())\n",
    "```\n",
    "  </div>\n",
    "</details>"
   ]
  },
  {
   "cell_type": "markdown",
   "id": "c41acfa6",
   "metadata": {},
   "source": [
    "<div style=\" border-radius: 0 0 15px 15px ; background: #a8d5e2; padding: 10px;\"></div><br><br>"
   ]
  },
  {
   "cell_type": "markdown",
   "id": "f7f37835",
   "metadata": {},
   "source": [
    "This code cell replaces a view named `customer_BEZH_EN` with the query of the `DF_myfilter` DataFrame. It then executes the SQL query to create the view and retrieves the DataFrame associated with the view."
   ]
  },
  {
   "cell_type": "markdown",
   "id": "c808bb5c",
   "metadata": {},
   "source": [
    "<br><br><div style=\" border-radius: 15px 15px 0 0; background: #a8d5e2; padding: 10px;\"></div>"
   ]
  },
  {
   "cell_type": "code",
   "execution_count": null,
   "id": "861c0eb1",
   "metadata": {},
   "outputs": [],
   "source": [
    "replace_view_f = \"\"\"REPLACE VIEW {view_name} AS\n",
    "{query}\"\"\"\n",
    "view_name = \"customer_BEZH_EN\"  # Define the name of the view\n",
    "\n",
    "replace_view_ddl = replace_view_f.format(view_name = view_name, \n",
    "                                         query = ___.___)  # Use the method to get the query\n",
    "prettyprint_sql(replace_view_ddl)  # Pretty print the SQL statement\n",
    "\n",
    "tdml.execute_sql(replace_view_ddl)  # Execute the SQL statement\n",
    "\n",
    "tdml.DataFrame(___)  # Create a DataFrame from the view name"
   ]
  },
  {
   "cell_type": "markdown",
   "id": "3a7a21bd",
   "metadata": {},
   "source": [
    "<details>\n",
    "  <summary style=\"font-weight:bold; color:#9b870c;\">Hint</summary>\n",
    "  <div style=\"background-color:#fff9db; padding:10px; border-radius:5px; margin-top:5px;\">\n",
    "First, define the `view_name` variable with the appropriate view name. Then, ensure you call the `show_query()` method on the correct object to get the SQL query. Use the formatted SQL statement in the `prettyprint_sql`, `execute_sql`, and `DataFrame` functions.\n",
    "  </div>\n",
    "</details>"
   ]
  },
  {
   "cell_type": "markdown",
   "id": "c6189acd",
   "metadata": {},
   "source": [
    "<details>\n",
    "  <summary style=\"font-weight:bold; color:#0c9b3b;\">Solution</summary>\n",
    "  <div style=\"background-color:#dbffdb; padding:10px; border-radius:5px; margin-top:5px;\">\n",
    "\n",
    "```python\n",
    "replace_view_f =\"\"\"REPLACE VIEW {view_name} AS\n",
    "{query}\"\"\"\n",
    "view_name = \"customer_BEZH_EN\"\n",
    "\n",
    "\n",
    "replace_view_ddl = replace_view_f.format(view_name = view_name, \n",
    "                                         query = DF_myfilter.show_query())\n",
    "prettyprint_sql(replace_view_ddl)\n",
    "\n",
    "tdml.execute_sql(replace_view_ddl)\n",
    "\n",
    "tdml.DataFrame(view_name)\n",
    "```\n",
    "  </div>\n",
    "</details>"
   ]
  },
  {
   "cell_type": "markdown",
   "id": "e4f6893f",
   "metadata": {},
   "source": [
    "<div style=\" border-radius: 0 0 15px 15px ; background: #a8d5e2; padding: 10px;\"></div><br><br>"
   ]
  },
  {
   "cell_type": "markdown",
   "id": "d6fab052-d77a-4feb-befc-e4e1567d51b0",
   "metadata": {},
   "source": [
    "## Simple Joins"
   ]
  },
  {
   "cell_type": "markdown",
   "id": "dd4b5d40",
   "metadata": {},
   "source": [
    "This code retrieves the DataFrames `DF_Transaction_Fact` and `DF_Account_Customer_Map` using the `tdml.DataFrame` function to join transactions with customer_dim via the account_customer map."
   ]
  },
  {
   "cell_type": "code",
   "execution_count": null,
   "id": "01855d23-5bfe-4729-9305-04de033d2b83",
   "metadata": {},
   "outputs": [],
   "source": [
    "# join transactions with customer_dim via account_customer map\n",
    "DF_Transaction_Fact = tdml.DataFrame(\"Transaction_Fact\")\n",
    "\n",
    "DF_Account_Customer_Map = tdml.DataFrame(\"Account_Customer_Map\")"
   ]
  },
  {
   "cell_type": "markdown",
   "id": "aa647e35",
   "metadata": {},
   "source": [
    "This code cell references the DataFrame DF_Customer_Dim."
   ]
  },
  {
   "cell_type": "code",
   "execution_count": null,
   "id": "afd62039-30e6-4303-a0be-3115a9253087",
   "metadata": {},
   "outputs": [],
   "source": [
    "DF_Customer_Dim"
   ]
  },
  {
   "cell_type": "markdown",
   "id": "fa92dd72",
   "metadata": {},
   "source": [
    "This code cell references the DataFrame DF_Account_Customer_Map."
   ]
  },
  {
   "cell_type": "code",
   "execution_count": null,
   "id": "d5e7bbe9-d2d9-4291-a02c-82ffaabc879c",
   "metadata": {},
   "outputs": [],
   "source": [
    "DF_Account_Customer_Map"
   ]
  },
  {
   "cell_type": "markdown",
   "id": "c981e105",
   "metadata": {},
   "source": [
    "This code cell joins the DF_Transaction_Fact with DF_Account_Customer_Map and DF_Customer_Dim. It drops unnecessary columns and displays the SQL query used for the join operation."
   ]
  },
  {
   "cell_type": "markdown",
   "id": "b140d0c7",
   "metadata": {},
   "source": [
    "<br><br><div style=\" border-radius: 15px 15px 0 0; background: #a8d5e2; padding: 10px;\"></div>"
   ]
  },
  {
   "cell_type": "code",
   "execution_count": null,
   "id": "90f3e3aa",
   "metadata": {},
   "outputs": [],
   "source": [
    "DF_transaction_joined = DF_Transaction_Fact.join(\n",
    "    DF_Account_Customer_Map, \n",
    "    on = ___,  # Specify the column to join on\n",
    "    how = ___,  # Specify the type of join\n",
    "    rprefix = \"mymap\"  # Specify the prefix for the right DataFrame\n",
    ").join(\n",
    "    DF_Customer_Dim,\n",
    "    on = ___,  # Specify the column to join on\n",
    "    how = ___,  # Specify the type of join\n",
    "    lprefix = \"mymap\"  # Specify the prefix for the left DataFrame\n",
    ").drop(columns=[\"mymap_Account_Id\",\"mymap_Customer_Id\"])  # Drop unnecessary columns\n",
    "\n",
    "prettyprint_sql(DF_transaction_joined.show_query())\n",
    "\n",
    "DF_transaction_joined"
   ]
  },
  {
   "cell_type": "markdown",
   "id": "f9e772b2",
   "metadata": {},
   "source": [
    "<details>\n",
    "  <summary style=\"font-weight:bold; color:#9b870c;\">Hint</summary>\n",
    "  <div style=\"background-color:#fff9db; padding:10px; border-radius:5px; margin-top:5px;\">\n",
    "When joining DataFrames, ensure you specify the correct column names for the `on` parameter and choose the appropriate join type (`left`, `right`, `inner`, etc.). Use `rprefix` and `lprefix` to avoid column name conflicts. Finally, drop any columns that are not needed in the final DataFrame.\n",
    "  </div>\n",
    "</details>"
   ]
  },
  {
   "cell_type": "markdown",
   "id": "9aeef162",
   "metadata": {},
   "source": [
    "<details>\n",
    "  <summary style=\"font-weight:bold; color:#0c9b3b;\">Solution</summary>\n",
    "  <div style=\"background-color:#dbffdb; padding:10px; border-radius:5px; margin-top:5px;\">\n",
    "\n",
    "```python\n",
    "DF_transaction_joined = DF_Transaction_Fact.join(\n",
    "    DF_Account_Customer_Map, \n",
    "    on = \"Account_Id\", \n",
    "    how=\"left\", rprefix =\"mymap\"\n",
    ").join(\n",
    "    DF_Customer_Dim,\n",
    "    on = \"Customer_Id\",\n",
    "    how = \"left\", lprefix =\"mymap\"\n",
    ").drop(columns=[\"mymap_Account_Id\",\"mymap_Customer_Id\"])\n",
    "\n",
    "prettyprint_sql(DF_transaction_joined.show_query())\n",
    "\n",
    "DF_transaction_joined\n",
    "```\n",
    "  </div>\n",
    "</details>"
   ]
  },
  {
   "cell_type": "markdown",
   "id": "7319fbf5",
   "metadata": {},
   "source": [
    "<div style=\" border-radius: 0 0 15px 15px ; background: #a8d5e2; padding: 10px;\"></div><br><br>"
   ]
  },
  {
   "cell_type": "markdown",
   "id": "17bc7004",
   "metadata": {},
   "source": [
    "This code cell demonstrates an alternative approach to joining multiple tables using SQL query directly. It shows that proficient SQL users may find it faster to write the join operation in SQL rather than chaining operations in Python."
   ]
  },
  {
   "cell_type": "markdown",
   "id": "a641e1fd",
   "metadata": {},
   "source": [
    "<br><br><div style=\" border-radius: 15px 15px 0 0; background: #a8d5e2; padding: 10px;\"></div>"
   ]
  },
  {
   "cell_type": "code",
   "execution_count": null,
   "id": "27877b2e",
   "metadata": {},
   "outputs": [],
   "source": [
    "tdml.DataFrame.____(\"\"\"\n",
    "SELECT \n",
    "    mytransaction.*,\n",
    "    cust_dim.*\n",
    "FROM \n",
    "    Transaction_Fact AS mytransaction\n",
    "LEFT JOIN\n",
    "    Account_Customer_Map AS mymap\n",
    "ON\n",
    "    (mytransaction.___ = mymap.___) \n",
    "LEFT JOIN\n",
    "    Customer_Dim AS cust_dim\n",
    "ON \n",
    "    (mymap.___ = cust_dim.___)  \n",
    "\n",
    "\"\"\"   \n",
    ")"
   ]
  },
  {
   "cell_type": "markdown",
   "id": "a62e1b43",
   "metadata": {},
   "source": [
    "<details>\n",
    "  <summary style=\"font-weight:bold; color:#9b870c;\">Hint</summary>\n",
    "  <div style=\"background-color:#fff9db; padding:10px; border-radius:5px; margin-top:5px;\">\n",
    "When performing a SQL JOIN, ensure that the fields you are joining on are correctly matched. Look for the common fields between the tables involved in the JOIN operations. use from_query to get a DataFrame based on a query.\n",
    "  </div>\n",
    "</details>"
   ]
  },
  {
   "cell_type": "markdown",
   "id": "4d9df8b7",
   "metadata": {},
   "source": [
    "<details>\n",
    "  <summary style=\"font-weight:bold; color:#0c9b3b;\">Solution</summary>\n",
    "  <div style=\"background-color:#dbffdb; padding:10px; border-radius:5px; margin-top:5px;\">\n",
    "\n",
    "```python\n",
    "tdml.DataFrame.from_query(\"\"\"\n",
    "SELECT \n",
    "    mytransaction.*,\n",
    "    cust_dim.*\n",
    "FROM \n",
    "    Transaction_Fact AS mytransaction\n",
    "LEFT JOIN\n",
    "    Account_Customer_Map AS mymap\n",
    "ON\n",
    "    (mytransaction.Account_id = mymap.Account_id) \n",
    "LEFT JOIN\n",
    "    Customer_Dim AS cust_dim\n",
    "ON \n",
    "    (mymap.Customer_Id = cust_dim.Customer_Id) \n",
    "\n",
    "\"\"\"   \n",
    ")\n",
    "```\n",
    "  </div>\n",
    "</details>"
   ]
  },
  {
   "cell_type": "markdown",
   "id": "4a2d8c39",
   "metadata": {},
   "source": [
    "<div style=\" border-radius: 0 0 15px 15px ; background: #a8d5e2; padding: 10px;\"></div><br><br>"
   ]
  },
  {
   "cell_type": "markdown",
   "id": "16d474c6-6a4a-42e1-95e3-17ac7d2d05aa",
   "metadata": {},
   "source": [
    "## DataFrame manipulation: simple aggregates"
   ]
  },
  {
   "cell_type": "markdown",
   "id": "f7cba679",
   "metadata": {},
   "source": [
    "This code cell calculates aggregate values based on the joined DataFrame DF_transaction_joined. It groups by \"Customer_Id\" and calculates the sum and mean of \"Transaction_Amount\". The SQL query used for this aggregation is displayed."
   ]
  },
  {
   "cell_type": "markdown",
   "id": "c5647856",
   "metadata": {},
   "source": [
    "<br><br><div style=\" border-radius: 15px 15px 0 0; background: #a8d5e2; padding: 10px;\"></div>"
   ]
  },
  {
   "cell_type": "code",
   "execution_count": null,
   "id": "67afbbae",
   "metadata": {},
   "outputs": [],
   "source": [
    "DF_tj = DF_transaction_joined\n",
    "DF_tr_agg = DF_tj.groupby(\"____\").agg(\n",
    "    [DF_tj['Transaction_Amount'].____().alias(\"Total_Transaction_Amount\"),  # Alias for total transaction amount\n",
    "     DF_tj['Transaction_Amount'].____().alias(\"Average_Transaction_Amount\"),  # Alias for average transaction amount\n",
    "    ])\n",
    "\n",
    "prettyprint_sql(DF_tr_agg.____())  # Show the SQL query for the aggregation\n",
    "\n",
    "DF_tr_agg"
   ]
  },
  {
   "cell_type": "markdown",
   "id": "0ae7bdbe",
   "metadata": {},
   "source": [
    "<details>\n",
    "  <summary style=\"font-weight:bold; color:#9b870c;\">Hint</summary>\n",
    "  <div style=\"background-color:#fff9db; padding:10px; border-radius:5px; margin-top:5px;\">\n",
    "You need to provide meaningful aliases for the aggregated columns. Think about what each aggregation represents. Also, ensure you call the method to display the SQL query for the DataFrame.\n",
    "  </div>\n",
    "</details>"
   ]
  },
  {
   "cell_type": "markdown",
   "id": "8c1de629",
   "metadata": {},
   "source": [
    "<details>\n",
    "  <summary style=\"font-weight:bold; color:#0c9b3b;\">Solution</summary>\n",
    "  <div style=\"background-color:#dbffdb; padding:10px; border-radius:5px; margin-top:5px;\">\n",
    "\n",
    "```python\n",
    "DF_tj = DF_transaction_joined\n",
    "DF_tr_agg = DF_tj.groupby(\"Customer_Id\").agg(\n",
    "    [DF_tj['Transaction_Amount'].sum().alias(\"Total_Transaction_Amount\"),\n",
    "     DF_tj['Transaction_Amount'].mean().alias(\"Average_Transaction_Amount\"),\n",
    "    ])\n",
    "\n",
    "prettyprint_sql(DF_tr_agg.show_query())\n",
    "\n",
    "DF_tr_agg\n",
    "```\n",
    "  </div>\n",
    "</details>"
   ]
  },
  {
   "cell_type": "markdown",
   "id": "463a2eba",
   "metadata": {},
   "source": [
    "<div style=\" border-radius: 0 0 15px 15px ; background: #a8d5e2; padding: 10px;\"></div><br><br>"
   ]
  },
  {
   "cell_type": "markdown",
   "id": "88ba8080-45be-42fd-8c7f-2b53ccb10f65",
   "metadata": {},
   "source": [
    "## Count Uniques and remove duplicates\n"
   ]
  },
  {
   "cell_type": "markdown",
   "id": "a2fba138",
   "metadata": {},
   "source": [
    "This code cell creates a DataFrame object named DF_master from the \"Master_Table\" table and prints the column names and shape of the DataFrame."
   ]
  },
  {
   "cell_type": "markdown",
   "id": "7880e901",
   "metadata": {},
   "source": [
    "<br><br><div style=\" border-radius: 15px 15px 0 0; background: #a8d5e2; padding: 10px;\"></div>"
   ]
  },
  {
   "cell_type": "code",
   "execution_count": null,
   "id": "dccd2ffd",
   "metadata": {},
   "outputs": [],
   "source": [
    "DF_master = tdml.DataFrame(___)  # Create a DataFrame from table name \"Master_Table\"\n",
    "print(DF_master.___)  # Print the columns of the DataFrame\n",
    "print(DF_master.___)  # Print the shape of the DataFrame"
   ]
  },
  {
   "cell_type": "markdown",
   "id": "4050a49f",
   "metadata": {},
   "source": [
    "<details>\n",
    "  <summary style=\"font-weight:bold; color:#9b870c;\">Hint</summary>\n",
    "  <div style=\"background-color:#fff9db; padding:10px; border-radius:5px; margin-top:5px;\">\n",
    "To create a DataFrame, you need to specify the table name as a string. Use the `columns` attribute to get the column names and the `shape` attribute to get the dimensions of the DataFrame.\n",
    "  </div>\n",
    "</details>"
   ]
  },
  {
   "cell_type": "markdown",
   "id": "20bc97d5",
   "metadata": {},
   "source": [
    "<details>\n",
    "  <summary style=\"font-weight:bold; color:#0c9b3b;\">Solution</summary>\n",
    "  <div style=\"background-color:#dbffdb; padding:10px; border-radius:5px; margin-top:5px;\">\n",
    "\n",
    "```python\n",
    "DF_master = tdml.DataFrame(\"Master_Table\")\n",
    "print(DF_master.columns)\n",
    "print(DF_master.shape)\n",
    "```\n",
    "  </div>\n",
    "</details>"
   ]
  },
  {
   "cell_type": "markdown",
   "id": "3268e017",
   "metadata": {},
   "source": [
    "<div style=\" border-radius: 0 0 15px 15px ; background: #a8d5e2; padding: 10px;\"></div><br><br>"
   ]
  },
  {
   "cell_type": "markdown",
   "id": "c1c773cd",
   "metadata": {},
   "source": [
    "This code cell selects specific columns (\"Customer_Id\", \"City_Name\", \"Common_Transaction_Type\") from the DF_master DataFrame and counts the number of distinct values in each column."
   ]
  },
  {
   "cell_type": "markdown",
   "id": "e1b630a7",
   "metadata": {},
   "source": [
    "<br><br><div style=\" border-radius: 15px 15px 0 0; background: #a8d5e2; padding: 10px;\"></div>"
   ]
  },
  {
   "cell_type": "code",
   "execution_count": null,
   "id": "9fbeb76d",
   "metadata": {},
   "outputs": [],
   "source": [
    "columns_count_unique = [\"Customer_Id\", \"City_Name\", \"Common_Transaction_Type\"]\n",
    "\n",
    "DF_master._____(columns_count_unique  # Select the columns to count unique values\n",
    "                ).count(___=True)  # Count distinct values"
   ]
  },
  {
   "cell_type": "markdown",
   "id": "5396a700",
   "metadata": {},
   "source": [
    "<details>\n",
    "  <summary style=\"font-weight:bold; color:#9b870c;\">Hint</summary>\n",
    "  <div style=\"background-color:#fff9db; padding:10px; border-radius:5px; margin-top:5px;\">\n",
    "To count distinct values in a DataFrame, ensure you *select* the correct columns and use the `distinct` parameter correctly in the `count` method.\n",
    "  </div>\n",
    "</details>"
   ]
  },
  {
   "cell_type": "markdown",
   "id": "ebe298ef",
   "metadata": {},
   "source": [
    "<details>\n",
    "  <summary style=\"font-weight:bold; color:#0c9b3b;\">Solution</summary>\n",
    "  <div style=\"background-color:#dbffdb; padding:10px; border-radius:5px; margin-top:5px;\">\n",
    "\n",
    "```python\n",
    "columns_count_unique = [\"Customer_Id\",\"City_Name\",\"Common_Transaction_Type\"]\n",
    "\n",
    "DF_master.select(columns_count_unique\n",
    "                ).count(distinct=True)\n",
    "```\n",
    "  </div>\n",
    "</details>"
   ]
  },
  {
   "cell_type": "markdown",
   "id": "6b5d7640",
   "metadata": {},
   "source": [
    "<div style=\" border-radius: 0 0 15px 15px ; background: #a8d5e2; padding: 10px;\"></div><br><br>"
   ]
  },
  {
   "cell_type": "markdown",
   "id": "fd0c0f77",
   "metadata": {},
   "source": [
    "In this code cell, unique combinations of columns (\"City_Name\", \"Common_Transaction_Type\", \"Primary_Currency\") are selected from the DF_master DataFrame. The duplicates are then dropped, and the resulting DataFrame is converted to a pandas DataFrame, sorted, and displayed."
   ]
  },
  {
   "cell_type": "markdown",
   "id": "bf40c693",
   "metadata": {},
   "source": [
    "<br><br><div style=\" border-radius: 15px 15px 0 0; background: #a8d5e2; padding: 10px;\"></div>"
   ]
  },
  {
   "cell_type": "code",
   "execution_count": null,
   "id": "f850a313",
   "metadata": {},
   "outputs": [],
   "source": [
    "columns_unique_combos = [\"City_Name\",\n",
    "                         \"Common_Transaction_Type\",\n",
    "                         \"Primary_Currency\"]\n",
    "DF_combo = DF_master.select(___).drop_duplicate()  # Select and drop duplicates\n",
    "\n",
    "# Aggregate to pandas \n",
    "df_combo = DF_combo.to_pandas(all_rows = ___)  # Convert to pandas DataFrame, make sure all rows are transmited\n",
    "df_combo.sort_values(list(df_combo.columns))  # Sort values by all columns"
   ]
  },
  {
   "cell_type": "markdown",
   "id": "ac0550a9",
   "metadata": {},
   "source": [
    "<details>\n",
    "  <summary style=\"font-weight:bold; color:#9b870c;\">Hint</summary>\n",
    "  <div style=\"background-color:#fff9db; padding:10px; border-radius:5px; margin-top:5px;\">\n",
    "1. Use the list `columns_unique_combos` to select specific columns from `DF_master`.\n",
    "2. When converting to a pandas DataFrame, ensure all rows are included.\n",
    "3. To sort the DataFrame, use the list of its columns.\n",
    "  </div>\n",
    "</details>"
   ]
  },
  {
   "cell_type": "markdown",
   "id": "a237fffd",
   "metadata": {},
   "source": [
    "<details>\n",
    "  <summary style=\"font-weight:bold; color:#0c9b3b;\">Solution</summary>\n",
    "  <div style=\"background-color:#dbffdb; padding:10px; border-radius:5px; margin-top:5px;\">\n",
    "\n",
    "```python\n",
    "columns_unique_combos = [\"City_Name\",\n",
    "                         \"Common_Transaction_Type\",\n",
    "                         \"Primary_Currency\"]\n",
    "DF_combo = DF_master.select(columns_unique_combos).drop_duplicate()\n",
    "\n",
    "#aggreagte to pandas (only couple rows)\n",
    "df_combo = DF_combo.to_pandas(all_rows = True)\n",
    "df_combo.sort_values(list(df_combo.columns))\n",
    "```\n",
    "  </div>\n",
    "</details>"
   ]
  },
  {
   "cell_type": "markdown",
   "id": "972eea6a",
   "metadata": {},
   "source": [
    "<div style=\" border-radius: 0 0 15px 15px ; background: #a8d5e2; padding: 10px;\"></div><br><br>"
   ]
  },
  {
   "cell_type": "markdown",
   "id": "de68633f-e67c-46fb-84f2-c98ea39b3d24",
   "metadata": {},
   "source": [
    "## Select columns based on datatypes"
   ]
  },
  {
   "cell_type": "markdown",
   "id": "8d1102ce",
   "metadata": {},
   "source": [
    "This code cell retrieves the data types of columns in the DF_master DataFrame and categorizes them into integer, float, and string features. It then selects columns with float data types from the DF_master DataFrame."
   ]
  },
  {
   "cell_type": "code",
   "execution_count": null,
   "id": "c3c4ded0-e517-485d-bcbf-dd0c0a64afff",
   "metadata": {},
   "outputs": [],
   "source": [
    "master_types = DF_master.dtypes._column_names_and_types\n",
    "print(master_types)\n",
    "\n",
    "int_feats = [c[0] for c in master_types if c[1] == \"int\"]\n",
    "float_feats = [c[0] for c in master_types if c[1] == \"float\"]\n",
    "str_feats = [c[0] for c in master_types if c[1] == \"str\"]\n",
    "\n",
    "DF_master.select(float_feats)"
   ]
  },
  {
   "cell_type": "markdown",
   "id": "fa50f723-e1d1-4ca8-81a6-535ca0dbbeb6",
   "metadata": {},
   "source": [
    "## Create columns, constant values and case whens\n",
    "https://docs.teradata.com/r/Enterprise/Teradata-Package-for-Python-Function-Reference-20.00/teradataml-Data-Preparation-Functions/Date-and-Time-Functions/current_date"
   ]
  },
  {
   "cell_type": "markdown",
   "id": "7a2dd4ea",
   "metadata": {},
   "source": [
    "This code cell adds constants (campaign_id, campaign_author, campaign_planning_date) to the DF_master DataFrame for a campaign. The SQL query for displaying the DataFrame is printed, and the modified DataFrame DF_campaign is displayed."
   ]
  },
  {
   "cell_type": "markdown",
   "id": "447fa47a",
   "metadata": {},
   "source": [
    "<br><br><div style=\" border-radius: 15px 15px 0 0; background: #a8d5e2; padding: 10px;\"></div>"
   ]
  },
  {
   "cell_type": "code",
   "execution_count": null,
   "id": "f6181c2f",
   "metadata": {},
   "outputs": [],
   "source": [
    "# add constants to DF for a campaign\n",
    "from sqlalchemy import func as f\n",
    "\n",
    "thiscampaign_id = \"f3354_002\"\n",
    "thiscampaign_author = \"martin\"\n",
    "\n",
    "DF_campaign = DF_master.assign(\n",
    "    campaign_id = ___,\n",
    "    campaign_author = ___,\n",
    "    campaign_planning_date = f.___()  # Use an SQL function to get the current date\n",
    ")\n",
    "\n",
    "prettyprint_sql(DF_campaign.___())  # Show the SQL query\n",
    "\n",
    "DF_campaign"
   ]
  },
  {
   "cell_type": "markdown",
   "id": "3b400473",
   "metadata": {},
   "source": [
    "<details>\n",
    "  <summary style=\"font-weight:bold; color:#9b870c;\">Hint</summary>\n",
    "  <div style=\"background-color:#fff9db; padding:10px; border-radius:5px; margin-top:5px;\">\n",
    "You need to assign values to `thiscampaign_id` and `thiscampaign_author`. Use `f.current_date()` to get today's date. To display the SQL query, use the `show_query()` method on `DF_campaign`.\n",
    "  </div>\n",
    "</details>"
   ]
  },
  {
   "cell_type": "markdown",
   "id": "ec22fa41",
   "metadata": {},
   "source": [
    "<details>\n",
    "  <summary style=\"font-weight:bold; color:#0c9b3b;\">Solution</summary>\n",
    "  <div style=\"background-color:#dbffdb; padding:10px; border-radius:5px; margin-top:5px;\">\n",
    "\n",
    "```python\n",
    "# add constants to DF for a campaign\n",
    "from sqlalchemy import func as f\n",
    "\n",
    "thiscampaign_id = \"f3354_002\"\n",
    "thiscampaign_author = \"martin\"\n",
    "\n",
    "DF_campaign = DF_master.assign(\n",
    "    campaign_id = thiscampaign_id,\n",
    "    campaign_author = thiscampaign_author,\n",
    "    campaign_planning_date = f.current_date() # today\n",
    ")\n",
    "\n",
    "prettyprint_sql(DF_campaign.show_query())\n",
    "\n",
    "DF_campaign\n",
    "```\n",
    "  </div>\n",
    "</details>"
   ]
  },
  {
   "cell_type": "markdown",
   "id": "7ca94e98",
   "metadata": {},
   "source": [
    "<div style=\" border-radius: 0 0 15px 15px ; background: #a8d5e2; padding: 10px;\"></div><br><br>"
   ]
  },
  {
   "cell_type": "markdown",
   "id": "27b94b7b",
   "metadata": {},
   "source": [
    "This code cell demonstrates how to manually set new columns in a DataFrame using different options such as full SQL, SQL literal_column, and DataFrame Column Expression. It assigns new columns based on certain conditions like Customer_Segment and Region. The resulting DataFrame is displayed and returned."
   ]
  },
  {
   "cell_type": "markdown",
   "id": "a87bf85f",
   "metadata": {},
   "source": [
    "<br><br><div style=\" border-radius: 15px 15px 0 0; background: #a8d5e2; padding: 10px;\"></div>"
   ]
  },
  {
   "cell_type": "code",
   "execution_count": null,
   "id": "ecbdb039",
   "metadata": {},
   "outputs": [],
   "source": [
    "from sqlalchemy.sql import literal_column as col\n",
    "# works for both picking out a column and injecting in some SQL\n",
    "\n",
    "# manual settings of new columns\n",
    "DF_c2 = DF_campaign.___(\n",
    "    # Option 1: FULL SQL\n",
    "      flag_PB =  \n",
    "          col(\"CASE WHEN Customer_Segment = 'Private Banking' THEN 1 ELSE 0 END\"),\n",
    "        \n",
    "        # Option 2: pick out column with SQL literal_column\n",
    "     flag_ZH =\n",
    "        tdml.case([(___(\"Region\") == ___ , 1)], else_=0),      \n",
    "    \n",
    "    # Option 3: pick out column with DataFrame Column Expression\n",
    "    flag_BE =\n",
    "        tdml.case([(DF_campaign.___ == 'BE' , 1)], else_=0),\n",
    ")\n",
    "\n",
    "prettyprint_sql(DF_c2.show_query())\n",
    "\n",
    "DF_c2"
   ]
  },
  {
   "cell_type": "markdown",
   "id": "167d3130",
   "metadata": {},
   "source": [
    "<details>\n",
    "  <summary style=\"font-weight:bold; color:#9b870c;\">Hint</summary>\n",
    "  <div style=\"background-color:#fff9db; padding:10px; border-radius:5px; margin-top:5px;\">\n",
    "For the `flag_ZH` and `flag_BE` columns, you need to specify the region code that should be checked against the \"Region\" column. The first one should check for \"ZH\" and the second one for \"BE\".\n",
    "  </div>\n",
    "</details>"
   ]
  },
  {
   "cell_type": "markdown",
   "id": "d560ef8c",
   "metadata": {},
   "source": [
    "<details>\n",
    "  <summary style=\"font-weight:bold; color:#0c9b3b;\">Solution</summary>\n",
    "  <div style=\"background-color:#dbffdb; padding:10px; border-radius:5px; margin-top:5px;\">\n",
    "\n",
    "```python\n",
    "from sqlalchemy.sql import literal_column as col\n",
    "# works for both picking out a column and injecting in some SQL\n",
    "\n",
    "# manual settings of new columns\n",
    "DF_c2 = DF_campaign.assign(\n",
    "    # Option 1: FULL SQL\n",
    "      flag_PB =  \n",
    "          col(\"CASE WHEN Customer_Segment = 'Private Banking' THEN 1 ELSE 0 END\"),\n",
    "        \n",
    "        # Option 2: pick out column with SQL literal_column\n",
    "     flag_ZH =\n",
    "        tdml.case([(col(\"Region\") == \"ZH\" , 1)], else_=0),      \n",
    "    \n",
    "    # Option 3: pick out column with DataFrame Column Expression\n",
    "    flag_BE =\n",
    "        tdml.case([(DF_campaign.Region == \"BE\" , 1)], else_=0),\n",
    ")\n",
    "\n",
    "prettyprint_sql(DF_c2.show_query())\n",
    "\n",
    "DF_c2\n",
    "```\n",
    "  </div>\n",
    "</details>"
   ]
  },
  {
   "cell_type": "markdown",
   "id": "b84d34c1",
   "metadata": {},
   "source": [
    "<div style=\" border-radius: 0 0 15px 15px ; background: #a8d5e2; padding: 10px;\"></div><br><br>"
   ]
  },
  {
   "cell_type": "markdown",
   "id": "62f99e7f",
   "metadata": {},
   "source": [
    "This code cell shows how to create a dictionary of indicator columns based on unique regions in a DataFrame. It uses a dictionary comprehension to generate columns dynamically for each region. The indicator columns are then assigned to the campaign DataFrame. The resulting DataFrame is displayed and returned."
   ]
  },
  {
   "cell_type": "markdown",
   "id": "f6be090c",
   "metadata": {},
   "source": [
    "<br><br><div style=\" border-radius: 15px 15px 0 0; background: #a8d5e2; padding: 10px;\"></div>"
   ]
  },
  {
   "cell_type": "code",
   "execution_count": null,
   "id": "d4358b31",
   "metadata": {},
   "outputs": [],
   "source": [
    "# get unique regions\n",
    "my_regions = DF_master.select(\n",
    "        [___]  # Select the \"Region\" column\n",
    "    ).___().to_pandas()\n",
    "my_regions\n",
    "\n",
    "# create dict of same process\n",
    "indicator_columns_dict = {\n",
    "\n",
    "     \"flag_\"+region: tdml.case([(col(\"Region\") == ___ , 1)], else_=0)  # Compare each region\n",
    "\n",
    "    for region in ___.Region  # Iterate over the regions\n",
    "}\n",
    "\n",
    "DF_c3 = DF_campaign.___(**indicator_columns_dict)\n",
    "\n",
    "prettyprint_sql(DF_c3.show_query())\n",
    "DF_c3"
   ]
  },
  {
   "cell_type": "markdown",
   "id": "54a6ceb2",
   "metadata": {},
   "source": [
    "<details>\n",
    "  <summary style=\"font-weight:bold; color:#9b870c;\">Hint</summary>\n",
    "  <div style=\"background-color:#fff9db; padding:10px; border-radius:5px; margin-top:5px;\">\n",
    "First, ensure you are selecting the correct column name for regions. Then, when creating the dictionary, make sure to compare the correct column with each region. Finally, iterate over the correct attribute of the DataFrame to get the list of regions.\n",
    "  </div>\n",
    "</details>"
   ]
  },
  {
   "cell_type": "markdown",
   "id": "c38c75de",
   "metadata": {},
   "source": [
    "<details>\n",
    "  <summary style=\"font-weight:bold; color:#0c9b3b;\">Solution</summary>\n",
    "  <div style=\"background-color:#dbffdb; padding:10px; border-radius:5px; margin-top:5px;\">\n",
    "\n",
    "```python\n",
    "# get unique regions\n",
    "my_regions = DF_master.select(\n",
    "        [\"Region\"]\n",
    "    ).drop_duplicate().to_pandas()\n",
    "my_regions\n",
    "\n",
    "# create dict of same process\n",
    "indicator_columns_dict = {\n",
    "\n",
    "     \"flag_\"+region: tdml.case([(col(\"Region\") == region , 1)], else_=0)      \n",
    "\n",
    "    for region in my_regions.Region\n",
    "}\n",
    "\n",
    "DF_c3 = DF_campaign.assign(**indicator_columns_dict)\n",
    "\n",
    "prettyprint_sql(DF_c3.show_query())\n",
    "DF_c3\n",
    "```\n",
    "  </div>\n",
    "</details>"
   ]
  },
  {
   "cell_type": "markdown",
   "id": "bec9518c",
   "metadata": {},
   "source": [
    "<div style=\" border-radius: 0 0 15px 15px ; background: #a8d5e2; padding: 10px;\"></div><br><br>"
   ]
  },
  {
   "cell_type": "markdown",
   "id": "ad9ad8f8-fe7c-4df7-9d3f-bd35a50413cb",
   "metadata": {},
   "source": [
    "## Random Sampling of Rows"
   ]
  },
  {
   "cell_type": "code",
   "execution_count": null,
   "id": "2a4a8f02-6fb5-4426-812f-3e4a1aa4cc48",
   "metadata": {},
   "outputs": [],
   "source": [
    "DF_Customer_Dim"
   ]
  },
  {
   "cell_type": "markdown",
   "id": "1af0da8b",
   "metadata": {},
   "source": [
    "In this code cell, a sample of 10,000 rows is taken from the DataFrame DF_Customer_Dim using the sample method. The sampling is randomized across AMPs in Teradata. The resulting sampled DataFrame is displayed and returned."
   ]
  },
  {
   "cell_type": "markdown",
   "id": "6de54f00",
   "metadata": {},
   "source": [
    "<br><br><div style=\" border-radius: 15px 15px 0 0; background: #a8d5e2; padding: 10px;\"></div>"
   ]
  },
  {
   "cell_type": "code",
   "execution_count": null,
   "id": "9d90a6a9",
   "metadata": {},
   "outputs": [],
   "source": [
    "DF_c_sample = DF_Customer_Dim.___(\n",
    "    n= ___,  # Specify the number of samples to draw\n",
    "    randomize = ___,  # Determine if sampling should be randomized across AMPs\n",
    "                      )\n",
    "prettyprint_sql(DF_c_sample.show_query())"
   ]
  },
  {
   "cell_type": "markdown",
   "id": "ac848dc9",
   "metadata": {},
   "source": [
    "<details>\n",
    "  <summary style=\"font-weight:bold; color:#9b870c;\">Hint</summary>\n",
    "  <div style=\"background-color:#fff9db; padding:10px; border-radius:5px; margin-top:5px;\">\n",
    "Consider how many samples you want to draw from the DataFrame and whether you want the sampling to be randomized across AMPs. The `n` parameter specifies the number of samples, and `randomize` is a boolean indicating if the sampling should be randomized.\n",
    "  </div>\n",
    "</details>"
   ]
  },
  {
   "cell_type": "markdown",
   "id": "c8ed77ee",
   "metadata": {},
   "source": [
    "<details>\n",
    "  <summary style=\"font-weight:bold; color:#0c9b3b;\">Solution</summary>\n",
    "  <div style=\"background-color:#dbffdb; padding:10px; border-radius:5px; margin-top:5px;\">\n",
    "\n",
    "```python\n",
    "DF_c_sample = DF_Customer_Dim.sample(\n",
    "    n= 10000,\n",
    "    randomize = True, #Specifies if sampling should be done across AMPs in Teradata or per AMP.\n",
    "                      )\n",
    "prettyprint_sql(DF_c_sample.show_query())\n",
    "```\n",
    "  </div>\n",
    "</details>"
   ]
  },
  {
   "cell_type": "markdown",
   "id": "1664b03e",
   "metadata": {},
   "source": [
    "<div style=\" border-radius: 0 0 15px 15px ; background: #a8d5e2; padding: 10px;\"></div><br><br>"
   ]
  },
  {
   "cell_type": "markdown",
   "id": "c92f17e3",
   "metadata": {},
   "source": [
    "This code cell demonstrates consistent sampling with a hashing trick. It creates new columns 'myhashid' and 'myfilter' based on the hashing of Customer_Id with a salt. The 'myfilter' column is assigned based on a condition using the 'myhashid' column. The resulting DataFrame with the new columns is displayed and returned."
   ]
  },
  {
   "cell_type": "markdown",
   "id": "5af66e39",
   "metadata": {},
   "source": [
    "<br><br><div style=\" border-radius: 15px 15px 0 0; background: #a8d5e2; padding: 10px;\"></div>"
   ]
  },
  {
   "cell_type": "code",
   "execution_count": null,
   "id": "8e26b045",
   "metadata": {},
   "outputs": [],
   "source": [
    "# consistent sampling with hashing trick\n",
    "# if you want to understand this \"hashing trick\", look at the blog post\n",
    "# https://medium.com/@martinhillebrandtd/hash-your-way-to-data-science-glory-5cb07cea4d5f\n",
    "\n",
    "DF_CusDim_Hash = DF_Customer_Dim.assign(\n",
    "    myhashid = f.mod(f.abs(f.from_bytes(f.hashrow(DF_Customer_Dim.Customer_Id.expression + \"salt\"), \"base10\")), ___ ), # get the last digit of the integer\n",
    "    myfilter = col(\"CASE WHEN ___ < ___ THEN 1 ELSE 0 END\") # select 30 % of all rows\n",
    ")\n",
    "\n",
    "prettyprint_sql(DF_CusDim_Hash.show_query())\n",
    "\n",
    "DF_CusDim_Hash"
   ]
  },
  {
   "cell_type": "markdown",
   "id": "e1207bbf",
   "metadata": {},
   "source": [
    "<details>\n",
    "  <summary style=\"font-weight:bold; color:#9b870c;\">Hint</summary>\n",
    "  <div style=\"background-color:#fff9db; padding:10px; border-radius:5px; margin-top:5px;\">\n",
    "To implement the hashing trick, you need to add a \"salt\" to the customer ID expression, determine the modulus value for the hash, and set a threshold for filtering. The modulus value determines the range of hash IDs, and the threshold decides which IDs are selected.\n",
    "  </div>\n",
    "</details>"
   ]
  },
  {
   "cell_type": "markdown",
   "id": "04d60665",
   "metadata": {},
   "source": [
    "<details>\n",
    "  <summary style=\"font-weight:bold; color:#0c9b3b;\">Solution</summary>\n",
    "  <div style=\"background-color:#dbffdb; padding:10px; border-radius:5px; margin-top:5px;\">\n",
    "\n",
    "```python\n",
    "# consistent sampling with hashing trick\n",
    "# if you want to understand this \"hashing trick\", look at the blog post\n",
    "# https://medium.com/@martinhillebrandtd/hash-your-way-to-data-science-glory-5cb07cea4d5f\n",
    "\n",
    "DF_CusDim_Hash = DF_Customer_Dim.assign(\n",
    "    myhashid = f.mod(f.abs(f.from_bytes(f.hashrow(DF_Customer_Dim.Customer_Id.expression + \"salt\"), \"base10\")),10 ),\n",
    "    myfilter = col(\"CASE WHEN myhashid < 3 THEN 1 ELSE 0 END\")\n",
    ")\n",
    "\n",
    "prettyprint_sql(DF_CusDim_Hash.show_query())\n",
    "\n",
    "DF_CusDim_Hash\n",
    "```\n",
    "  </div>\n",
    "</details>"
   ]
  },
  {
   "cell_type": "markdown",
   "id": "20ded13d",
   "metadata": {},
   "source": [
    "<div style=\" border-radius: 0 0 15px 15px ; background: #a8d5e2; padding: 10px;\"></div><br><br>"
   ]
  },
  {
   "cell_type": "markdown",
   "id": "3d44e222-f764-47ab-9a9d-166a681c7044",
   "metadata": {},
   "source": [
    "# Data Quality Analysis"
   ]
  },
  {
   "cell_type": "markdown",
   "id": "9be40a44-8873-4b35-8d87-1bdbb38e653f",
   "metadata": {},
   "source": [
    "## Count Missing Values"
   ]
  },
  {
   "cell_type": "markdown",
   "id": "49ea87a1",
   "metadata": {},
   "source": [
    "This code cell counts missing values in the \"Customer_Details\" DataFrame and sorts the result in descending order based on the number of missing values."
   ]
  },
  {
   "cell_type": "markdown",
   "id": "7b176dc1",
   "metadata": {},
   "source": [
    "<br><br><div style=\" border-radius: 15px 15px 0 0; background: #a8d5e2; padding: 10px;\"></div>"
   ]
  },
  {
   "cell_type": "code",
   "execution_count": null,
   "id": "0e61dffd",
   "metadata": {},
   "outputs": [],
   "source": [
    "# count missing values\n",
    "DF_Customer_Details = tdml.DataFrame(\"Customer_Details\")\n",
    "ColumnSummary_Customer_Details = tdml.ColumnSummary(data = DF_Customer_Details, target_columns = ___.___, # all columns should be used\n",
    "                  volatile = True\n",
    "                  )\n",
    "\n",
    "ColumnSummary_Customer_Details.result.sort(\"NullCount\", ascending = ___) # sort so that columns with most NULLs appear on top"
   ]
  },
  {
   "cell_type": "markdown",
   "id": "a41ca16e",
   "metadata": {},
   "source": [
    "<details>\n",
    "  <summary style=\"font-weight:bold; color:#9b870c;\">Hint</summary>\n",
    "  <div style=\"background-color:#fff9db; padding:10px; border-radius:5px; margin-top:5px;\">\n",
    "1. Use the `columns` attribute of the DataFrame to specify the target columns.\n",
    "3. The `sort` method is used to order the results by the count of null values; ensure you specify the correct order.\n",
    "  </div>\n",
    "</details>"
   ]
  },
  {
   "cell_type": "markdown",
   "id": "ea5f3512",
   "metadata": {},
   "source": [
    "<details>\n",
    "  <summary style=\"font-weight:bold; color:#0c9b3b;\">Solution</summary>\n",
    "  <div style=\"background-color:#dbffdb; padding:10px; border-radius:5px; margin-top:5px;\">\n",
    "\n",
    "```python\n",
    "# count missing values\n",
    "DF_Customer_Details =  tdml.DataFrame(\"Customer_Details\")\n",
    "ColumnSummary_Customer_Details  = tdml.ColumnSummary(data = DF_Customer_Details, target_columns = DF_Customer_Details.columns,\n",
    "                  volatile = True\n",
    "                  )\n",
    "\n",
    "ColumnSummary_Customer_Details.result.sort(\"NullCount\", ascending = False)\n",
    "```\n",
    "  </div>\n",
    "</details>"
   ]
  },
  {
   "cell_type": "markdown",
   "id": "6128eea4",
   "metadata": {},
   "source": [
    "<div style=\" border-radius: 0 0 15px 15px ; background: #a8d5e2; padding: 10px;\"></div><br><br>"
   ]
  },
  {
   "cell_type": "markdown",
   "id": "ff00eeb9-1f0a-494e-b397-4302cae9b711",
   "metadata": {},
   "source": [
    "## Remove missing values"
   ]
  },
  {
   "cell_type": "markdown",
   "id": "aee6b2b1",
   "metadata": {},
   "source": [
    "This code cell deletes rows with missing values in the \"Street_Name\" and \"House_Number\" columns of the \"Customer_Details\" DataFrame, prints the shape of the resulting DataFrame, and shows the SQL query for the operation."
   ]
  },
  {
   "cell_type": "markdown",
   "id": "f4d27ca5",
   "metadata": {},
   "source": [
    "<br><br><div style=\" border-radius: 15px 15px 0 0; background: #a8d5e2; padding: 10px;\"></div>"
   ]
  },
  {
   "cell_type": "code",
   "execution_count": null,
   "id": "618cda77",
   "metadata": {},
   "outputs": [],
   "source": [
    "# Delete missing values\n",
    "DF_noNulls = DF_Customer_Details.dropna(subset=[___, ___])  # Specify columns to check for missing values\n",
    "print(DF_noNulls.___)  # Print the shape of the DataFrame\n",
    "prettyprint_sql(DF_noNulls.show_query())"
   ]
  },
  {
   "cell_type": "markdown",
   "id": "070ea788",
   "metadata": {},
   "source": [
    "<details>\n",
    "  <summary style=\"font-weight:bold; color:#9b870c;\">Hint</summary>\n",
    "  <div style=\"background-color:#fff9db; padding:10px; border-radius:5px; margin-top:5px;\">\n",
    "To remove rows with missing values, specify the column names in the `subset` parameter of `dropna`. Use `shape` to get the dimensions of the DataFrame and `show_query` to display the SQL query.\n",
    "  </div>\n",
    "</details>"
   ]
  },
  {
   "cell_type": "markdown",
   "id": "4d1446fa",
   "metadata": {},
   "source": [
    "<details>\n",
    "  <summary style=\"font-weight:bold; color:#0c9b3b;\">Solution</summary>\n",
    "  <div style=\"background-color:#dbffdb; padding:10px; border-radius:5px; margin-top:5px;\">\n",
    "\n",
    "```python\n",
    "# Delete missing values\n",
    "DF_noNulls = DF_Customer_Details.dropna(subset=[\"Street_Name\",\"House_Number\"] )\n",
    "print(DF_noNulls.shape)\n",
    "prettyprint_sql(DF_noNulls.show_query())\n",
    "```\n",
    "  </div>\n",
    "</details>"
   ]
  },
  {
   "cell_type": "markdown",
   "id": "184a04e7",
   "metadata": {},
   "source": [
    "<div style=\" border-radius: 0 0 15px 15px ; background: #a8d5e2; padding: 10px;\"></div><br><br>"
   ]
  },
  {
   "cell_type": "markdown",
   "id": "b101abcf-9ccd-42c9-a1c7-1eb79a091065",
   "metadata": {},
   "source": [
    "## indicator columns for missing values"
   ]
  },
  {
   "cell_type": "markdown",
   "id": "f358e91a",
   "metadata": {},
   "source": [
    "This code cell creates indicator columns for missing values in the \"Customer_Details\" DataFrame based on each column, assigns these indicator columns to a new DataFrame, and displays the SQL query for the operation."
   ]
  },
  {
   "cell_type": "markdown",
   "id": "cdf64d2f",
   "metadata": {},
   "source": [
    "<br><br><div style=\" border-radius: 15px 15px 0 0; background: #a8d5e2; padding: 10px;\"></div>"
   ]
  },
  {
   "cell_type": "code",
   "execution_count": null,
   "id": "630ce5cd",
   "metadata": {},
   "outputs": [],
   "source": [
    "# indicator columns for missing values\n",
    "this_cols = DF_Customer_Details.columns[1:]\n",
    "\n",
    "def get_missing_indicator(colname):\n",
    "    return f.decode(col(___).expression,  # Use the column name\n",
    "                 None, ___,  # if null then 1\n",
    "                 ___)  # else 0\n",
    "    \n",
    "missingindiciator_columns_dict = {\n",
    "    \"missing_\"+this_col: get_missing_indicator(this_col) \n",
    "    for this_col in ___  # Iterate over the columns\n",
    "}\n",
    "\n",
    "print(missingindiciator_columns_dict)\n",
    "\n",
    "DF_missingindicator_Customer_Details = DF_Customer_Details.assign(\n",
    "    drop_columns = True,\n",
    "    Customer_Id = col(\"Customer_Id\"),\n",
    "    ___ ____ # uses the kwargs trick\n",
    ")\n",
    "quality_query = DF_missingindicator_Customer_Details.show_query()\n",
    "prettyprint_sql(quality_query)\n",
    "DF_missingindicator_Customer_Details"
   ]
  },
  {
   "cell_type": "markdown",
   "id": "3960a854",
   "metadata": {},
   "source": [
    "<details>\n",
    "  <summary style=\"font-weight:bold; color:#9b870c;\">Hint</summary>\n",
    "  <div style=\"background-color:#fff9db; padding:10px; border-radius:5px; margin-top:5px;\">\n",
    "To create a missing indicator, use the `decode` function to check if a column value is null. If it is null, return 1; otherwise, return 0. Make sure to iterate over the correct columns and use the column name in the function. To use a dictionary as a named parameterlist you can use the double asterix **\n",
    "  </div>\n",
    "</details>"
   ]
  },
  {
   "cell_type": "markdown",
   "id": "6bd2accd",
   "metadata": {},
   "source": [
    "<details>\n",
    "  <summary style=\"font-weight:bold; color:#0c9b3b;\">Solution</summary>\n",
    "  <div style=\"background-color:#dbffdb; padding:10px; border-radius:5px; margin-top:5px;\">\n",
    "\n",
    "```python\n",
    "# indicator columns for missing values\n",
    "this_cols = DF_Customer_Details.columns[1:]\n",
    "\n",
    "def get_missing_indicator(colname):\n",
    "    return f.decode(col(colname).expression, \n",
    "                 None, 1, # if null then 1\n",
    "                 0) # else 0\n",
    "    \n",
    "missingindiciator_columns_dict = {\n",
    "    \"missing_\"+this_col:get_missing_indicator(this_col) \n",
    "    for this_col in this_cols\n",
    "}\n",
    "\n",
    "\n",
    "print(missingindiciator_columns_dict)\n",
    "\n",
    "DF_missingindicator_Customer_Details = DF_Customer_Details.assign(\n",
    "    drop_columns = True,\n",
    "    Customer_Id = col(\"Customer_Id\"),\n",
    "    **missingindiciator_columns_dict\n",
    ")\n",
    "quality_query = DF_missingindicator_Customer_Details.show_query()\n",
    "prettyprint_sql(quality_query)\n",
    "DF_missingindicator_Customer_Details\n",
    "```\n",
    "  </div>\n",
    "</details>"
   ]
  },
  {
   "cell_type": "markdown",
   "id": "ae80f087",
   "metadata": {},
   "source": [
    "<div style=\" border-radius: 0 0 15px 15px ; background: #a8d5e2; padding: 10px;\"></div><br><br>"
   ]
  },
  {
   "cell_type": "markdown",
   "id": "8ea118de",
   "metadata": {},
   "source": [
    "This code cell replaces a view named \"quality_customerdetails\" with the SQL query generated in the previous code cell, and then sorts the \"quality_customerdetails\" DataFrame in descending order based on the \"missing_House_Number\" column."
   ]
  },
  {
   "cell_type": "code",
   "execution_count": null,
   "id": "27c91372-1c70-4240-90fa-e2089eb6eb72",
   "metadata": {},
   "outputs": [],
   "source": [
    "tdml.execute_sql(f\"REPLACE VIEW quality_customerdetails AS ({quality_query})\")\n",
    "\n",
    "tdml.DataFrame(\"quality_customerdetails\").sort(\"missing_House_Number\", ascending = False)"
   ]
  },
  {
   "cell_type": "markdown",
   "id": "7dd52e70-42ef-4b29-bd23-e139ea5a50ee",
   "metadata": {},
   "source": [
    "# Descriptive Statistics"
   ]
  },
  {
   "cell_type": "markdown",
   "id": "a69fafec-f564-47d8-9f0e-9d798fe7df7f",
   "metadata": {},
   "source": [
    "## Frequencies of categorial variables"
   ]
  },
  {
   "cell_type": "markdown",
   "id": "80a7fe5c",
   "metadata": {},
   "source": [
    "This code cell identifies categorical variables in the \"DF_master\" DataFrame, removes the \"Customer_Id\" column from the list of categorical variables, generates a categorical summary for these variables, and sorts the result based on the column name and distinct value count."
   ]
  },
  {
   "cell_type": "markdown",
   "id": "ab3c4893",
   "metadata": {},
   "source": [
    "<br><br><div style=\" border-radius: 15px 15px 0 0; background: #a8d5e2; padding: 10px;\"></div>"
   ]
  },
  {
   "cell_type": "code",
   "execution_count": null,
   "id": "65b3f686",
   "metadata": {},
   "outputs": [],
   "source": [
    "categorical_variables =  [c[0] for c in DF_master.dtypes._column_names_and_types if c[1] == ___]  # Check for string type\n",
    "\n",
    "categorical_variables.remove(\"Customer_Id\")\n",
    "\n",
    "CategoricalSummary = tdml.CategoricalSummary(data = DF_master, target_columns= ___, volatile = True)  # Use the list of categorical variables\n",
    "\n",
    "DF_CatSum_Master = CategoricalSummary.result\n",
    "DF_CatSum_Master.sort([\"ColumnName\", \"DistinctValueCount\"])  # Sort by column name and distinct value count"
   ]
  },
  {
   "cell_type": "markdown",
   "id": "f7c53eae",
   "metadata": {},
   "source": [
    "<details>\n",
    "  <summary style=\"font-weight:bold; color:#9b870c;\">Hint</summary>\n",
    "  <div style=\"background-color:#fff9db; padding:10px; border-radius:5px; margin-top:5px;\">\n",
    "\n",
    "1. To identify categorical variables, check for columns with data type \"str\".\n",
    "\n",
    "2. Use the list of categorical variables as the target columns in the `CategoricalSummary`.\n",
    "\n",
    "  </div>\n",
    "</details>"
   ]
  },
  {
   "cell_type": "markdown",
   "id": "1621f536",
   "metadata": {},
   "source": [
    "<details>\n",
    "  <summary style=\"font-weight:bold; color:#0c9b3b;\">Solution</summary>\n",
    "  <div style=\"background-color:#dbffdb; padding:10px; border-radius:5px; margin-top:5px;\">\n",
    "\n",
    "```python\n",
    "categorical_variables =  [c[0] for c in DF_master.dtypes._column_names_and_types if c[1] == \"str\"]\n",
    "\n",
    "categorical_variables.remove(\"Customer_Id\")\n",
    "\n",
    "CategoricalSummary = tdml.CategoricalSummary(data = DF_master, target_columns= categorical_variables, volatile = True)\n",
    "\n",
    "DF_CatSum_Master = CategoricalSummary.result\n",
    "DF_CatSum_Master.sort([\"ColumnName\",\"DistinctValueCount\"])\n",
    "```\n",
    "  </div>\n",
    "</details>"
   ]
  },
  {
   "cell_type": "markdown",
   "id": "a1b71ba7",
   "metadata": {},
   "source": [
    "<div style=\" border-radius: 0 0 15px 15px ; background: #a8d5e2; padding: 10px;\"></div><br><br>"
   ]
  },
  {
   "cell_type": "markdown",
   "id": "a4d83818",
   "metadata": {},
   "source": [
    "This code cell adds columns to a DataFrame based on the original report. It calculates cumulative count, sum of counts, percentage, and cumulative percentage for each column. The DataFrame is then sorted by \"ColumnName\" and \"DistinctValue\"."
   ]
  },
  {
   "cell_type": "markdown",
   "id": "19a2e857",
   "metadata": {},
   "source": [
    "<br><br><div style=\" border-radius: 15px 15px 0 0; background: #a8d5e2; padding: 10px;\"></div>"
   ]
  },
  {
   "cell_type": "code",
   "execution_count": null,
   "id": "fc6ddbe5",
   "metadata": {},
   "outputs": [],
   "source": [
    "# add columns as per original report\n",
    "\n",
    "df_catsum_master = DF_CatSum_Master.assign(\n",
    "    cum_count = DF_CatSum_Master[\"DistinctValueCount\"].window(\n",
    "                    partition_columns=\"___\",  # Specify the column to partition by\n",
    "                    order_columns = \"___\",  # Specify the column to order by\n",
    "                    window_end_point = 0  \n",
    "                    ).sum(),\n",
    "    sum_counts = DF_CatSum_Master[\"DistinctValueCount\"].window(partition_columns=\"___\").sum(),  # Specify the partition column\n",
    "    percentage = f.round((col(\"DistinctValueCount\") / col(\"___\") ) *100,2),  # Use the correct column \n",
    "    cum_percentage = f.round((col(\"cum_count\") / col(\"___\") ) *100,2),  # Use the correct column \n",
    ").to_pandas()\n",
    "\n",
    "df_catsum_master = df_catsum_master.sort_values([\"ColumnName\",\"DistinctValue\"])\n",
    "\n",
    "df_catsum_master.head()"
   ]
  },
  {
   "cell_type": "markdown",
   "id": "595b8870",
   "metadata": {},
   "source": [
    "<details>\n",
    "  <summary style=\"font-weight:bold; color:#9b870c;\">Hint</summary>\n",
    "  <div style=\"background-color:#fff9db; padding:10px; border-radius:5px; margin-top:5px;\">\n",
    "When using window functions, ensure you specify the correct columns for partitioning and ordering. The `window_end_point` is typically set to 0 for cumulative calculations. For sorting, use the columns that define the order of your data.\n",
    "  </div>\n",
    "</details>"
   ]
  },
  {
   "cell_type": "markdown",
   "id": "7c1e4739",
   "metadata": {},
   "source": [
    "<details>\n",
    "  <summary style=\"font-weight:bold; color:#0c9b3b;\">Solution</summary>\n",
    "  <div style=\"background-color:#dbffdb; padding:10px; border-radius:5px; margin-top:5px;\">\n",
    "\n",
    "```python\n",
    "# add columns as per original report\n",
    "\n",
    "df_catsum_master = DF_CatSum_Master.assign(\n",
    "    cum_count = DF_CatSum_Master[\"DistinctValueCount\"].window(\n",
    "                    partition_columns=\"ColumnName\",\n",
    "                    order_columns = \"DistinctValue\",\n",
    "                    window_end_point = 0\n",
    "                    ).sum(),\n",
    "    sum_counts = DF_CatSum_Master[\"DistinctValueCount\"].window(partition_columns=\"ColumnName\").sum(),\n",
    "    percentage = f.round((col(\"DistinctValueCount\") / col(\"sum_counts\") ) *100,2),\n",
    "    cum_percentage = f.round((col(\"cum_count\") / col(\"sum_counts\") ) *100,2),\n",
    ").to_pandas()\n",
    "\n",
    "df_catsum_master = df_catsum_master.sort_values([\"ColumnName\",\"DistinctValue\"])\n",
    "\n",
    "df_catsum_master.head()\n",
    "```\n",
    "  </div>\n",
    "</details>"
   ]
  },
  {
   "cell_type": "markdown",
   "id": "42f03ba9",
   "metadata": {},
   "source": [
    "<div style=\" border-radius: 0 0 15px 15px ; background: #a8d5e2; padding: 10px;\"></div><br><br>"
   ]
  },
  {
   "cell_type": "markdown",
   "id": "22735ddc",
   "metadata": {},
   "source": [
    "This code cell defines a function to generate a categorical summary for a DataFrame. It identifies categorical columns, computes additional metrics, creates a plot showing the frequency of categories for each column, and returns the summary DataFrame and the plot. The function is then called with a DataFrame and specific columns to ignore."
   ]
  },
  {
   "cell_type": "code",
   "execution_count": null,
   "id": "dbd6fc49-75c3-431c-a177-a1e3797cd5fa",
   "metadata": {},
   "outputs": [],
   "source": [
    "import plotly.graph_objects as go\n",
    "from plotly.subplots import make_subplots\n",
    "import plotly.express as px\n",
    "import pandas as pd\n",
    "from sqlalchemy.sql import literal_column \n",
    "# add constants to DF for a campaign\n",
    "from sqlalchemy import func as f\n",
    "\n",
    "def generate_categorical_summary(this_DF, ignore_columns = [\"Customer_id\"]):\n",
    "    # Identify categorical columns\n",
    "    categorical_variables = [c[0] for c in this_DF.dtypes._column_names_and_types if c[1] == \"str\"]\n",
    "    categorical_variables = [c for c in categorical_variables if c not in ignore_columns]\n",
    "    \n",
    "    # Generate Categorical Summary\n",
    "    CategoricalSummary = tdml.CategoricalSummary(data=this_DF, target_columns=categorical_variables)\n",
    "    DF_CatSum = CategoricalSummary.result\n",
    "\n",
    "    # Compute additional metrics\n",
    "    \n",
    "    DF_CatSum2 = DF_CatSum.assign(\n",
    "        cum_count=DF_CatSum[\"DistinctValueCount\"].window(\n",
    "            partition_columns=\"ColumnName\",\n",
    "            order_columns=\"DistinctValue\",\n",
    "            window_end_point=0\n",
    "        ).sum(),\n",
    "        sum_counts=DF_CatSum[\"DistinctValueCount\"].window(partition_columns=\"ColumnName\").sum(),\n",
    "        percentage=f.round((literal_column(\"DistinctValueCount\") / literal_column(\"sum_counts\")) * 100, 2),\n",
    "        cum_percentage=f.round((literal_column(\"cum_count\") / literal_column(\"sum_counts\")) * 100, 2)\n",
    "    )\n",
    "    \n",
    "    df_catsum = DF_CatSum2.to_pandas()\n",
    "    df_catsum = df_catsum.sort_values([\"ColumnName\", \"DistinctValue\"])\n",
    "\n",
    "    # Create plot\n",
    "    fig = make_subplots(rows=len(categorical_variables), cols=1, shared_xaxes=False, subplot_titles=categorical_variables)\n",
    "    for i, col in enumerate(categorical_variables, start=1):\n",
    "        df_col = df_catsum[df_catsum['ColumnName'] == col]\n",
    "        fig.add_trace(\n",
    "            go.Bar(\n",
    "                x=df_col['DistinctValue'],\n",
    "                y=df_col['DistinctValueCount'],\n",
    "                name=col,\n",
    "                marker_color=px.colors.qualitative.Plotly[:len(df_col['DistinctValue'])],\n",
    "                showlegend=False\n",
    "            ),\n",
    "            row=i, col=1\n",
    "        )\n",
    "    \n",
    "    fig.update_layout(height=300*len(categorical_variables), title=\"Frequency of Categories for Each Column\")\n",
    "    #fig.show()\n",
    "    \n",
    "    return df_catsum, fig\n",
    "      \n",
    "\n",
    "df_catsum, fig = generate_categorical_summary(DF_Customer_Dim, ignore_columns=[\"Account_Id\", \"Customer_Id\"])\n",
    "\n",
    "print(df_catsum.head())\n",
    "\n",
    "fig.show()"
   ]
  },
  {
   "cell_type": "markdown",
   "id": "c3c8381c-8346-49a1-b8bd-997200a13f3a",
   "metadata": {},
   "source": [
    "## Binning of continuous variables\n",
    "\n",
    "https://docs.teradata.com/r/Enterprise_IntelliFlex_Lake_VMware/Vantage-Analytics-Library-User-Guide/Descriptive-Statistics\n",
    "\n",
    "https://docs.teradata.com/r/Enterprise/Teradata-Package-for-Python-Function-Reference-20.00/teradataml-Vantage-Analytics-Library-Functions\n",
    "\n"
   ]
  },
  {
   "cell_type": "markdown",
   "id": "5610d23d",
   "metadata": {},
   "source": [
    "This code cell creates a DataFrame object for the \"Transaction_Fact\" table in the \"demo_user\" schema."
   ]
  },
  {
   "cell_type": "code",
   "execution_count": null,
   "id": "68a9d925-af14-4951-a3a0-568abc32b10a",
   "metadata": {},
   "outputs": [],
   "source": [
    "DF_Transaction_Fact = tdml.DataFrame(tdml.in_schema(\"demo_user\",\"Transaction_Fact\"))\n",
    "\n",
    "DF_Transaction_Fact"
   ]
  },
  {
   "cell_type": "markdown",
   "id": "80635e07-200f-4ce4-8392-8250a6d640e3",
   "metadata": {},
   "source": [
    "### equal width binning with Histogramm"
   ]
  },
  {
   "cell_type": "markdown",
   "id": "d8236cc6",
   "metadata": {},
   "source": [
    "This code cell creates a histogram using equal-width binning for the \"Transaction_Amount\" column in the \"DF_Transaction_Fact\" DataFrame. It calculates the cumulative percentage for each bin and sorts the DataFrame by label."
   ]
  },
  {
   "cell_type": "markdown",
   "id": "6e24a2dd",
   "metadata": {},
   "source": [
    "<br><br><div style=\" border-radius: 15px 15px 0 0; background: #a8d5e2; padding: 10px;\"></div>"
   ]
  },
  {
   "cell_type": "code",
   "execution_count": null,
   "id": "c86bc686",
   "metadata": {},
   "outputs": [],
   "source": [
    "Hist_eqw = tdml.Histogram(\n",
    "    data = ___,  # Provide the DataFrame containing the data\n",
    "    target_columns= [\"Transaction_Amount\"],\n",
    "    method_type= \"EQUAL-WIDTH\", nbins = ___,  # Specify the number of bins, should be 10.\n",
    "    volatile = True)\n",
    "           \n",
    "DF_hist = Hist_eqw.result\n",
    "\n",
    "DF_hist2 = DF_hist.assign(Bin_Percent_cumulative = DF_hist.Bin_Percent.___([\"Label\"])).sort(\"Label\") # choose the function that can do cumulative sums\n",
    "\n",
    "DF_hist2"
   ]
  },
  {
   "cell_type": "markdown",
   "id": "ab777a4d",
   "metadata": {},
   "source": [
    "<details>\n",
    "  <summary style=\"font-weight:bold; color:#9b870c;\">Hint</summary>\n",
    "  <div style=\"background-color:#fff9db; padding:10px; border-radius:5px; margin-top:5px;\">\n",
    "Ensure you specify the DataFrame that contains the transaction data and decide on the number of bins for the histogram. When sorting, consider which column you want to use to order the data.\n",
    "      \n",
    "`csum` is what you are looking for.\n",
    "  </div>\n",
    "</details>"
   ]
  },
  {
   "cell_type": "markdown",
   "id": "ca0e4dc1",
   "metadata": {},
   "source": [
    "<details>\n",
    "  <summary style=\"font-weight:bold; color:#0c9b3b;\">Solution</summary>\n",
    "  <div style=\"background-color:#dbffdb; padding:10px; border-radius:5px; margin-top:5px;\">\n",
    "\n",
    "```python\n",
    "Hist_eqw = tdml.Histogram(\n",
    "    data = DF_Transaction_Fact,\n",
    "    target_columns= [\"Transaction_Amount\"],\n",
    "    method_type= \"EQUAL-WIDTH\", nbins = 10, volatile = True)\n",
    "           \n",
    "\n",
    "DF_hist = Hist_eqw.result\n",
    "\n",
    "DF_hist2 = DF_hist.assign(Bin_Percent_cumulative = DF_hist.Bin_Percent.csum([\"Label\"])).sort(\"Label\")\n",
    "\n",
    "DF_hist2\n",
    "```\n",
    "  </div>\n",
    "</details>"
   ]
  },
  {
   "cell_type": "markdown",
   "id": "991997f5",
   "metadata": {},
   "source": [
    "<div style=\" border-radius: 0 0 15px 15px ; background: #a8d5e2; padding: 10px;\"></div><br><br>"
   ]
  },
  {
   "cell_type": "markdown",
   "id": "a4e8fcb5-fa68-443b-8a5f-b8307bd0a63b",
   "metadata": {},
   "source": [
    "### Variable Width binning with Histogramm, predefined"
   ]
  },
  {
   "cell_type": "markdown",
   "id": "93c4e928-60f7-4188-bd9e-e93bc1dd909e",
   "metadata": {},
   "source": [
    "https://docs.teradata.com/r/Enterprise/Teradata-Package-for-Python-Function-Reference-20.00/teradataml-Vantage-Analytics-Library-Functions/Descriptive-Statistics/Histogram"
   ]
  },
  {
   "cell_type": "markdown",
   "id": "e9394a50",
   "metadata": {},
   "source": [
    "This code cell uses the histogram function from Teradata's Vantage Analytic Library (VAL) to create a histogram for the \"Transaction_Amount\" column in the \"DF_Transaction_Fact\" DataFrame. It calculates the cumulative percentage for each bin, materializes the DataFrame, and sorts it by bin."
   ]
  },
  {
   "cell_type": "markdown",
   "id": "550aa794",
   "metadata": {},
   "source": [
    "<br><br><div style=\" border-radius: 15px 15px 0 0; background: #a8d5e2; padding: 10px;\"></div>"
   ]
  },
  {
   "cell_type": "code",
   "execution_count": null,
   "id": "116c50cb",
   "metadata": {},
   "outputs": [],
   "source": [
    "# we use the histogram function from teradata's Vantage Analytic Library (VAL)\n",
    "tdml.configure.val_install_location = \"val\"  # Set the VAL installation location\n",
    "\n",
    "histobj = tdml.valib.Histogram(data= DF_Transaction_Fact, columns =[\"Transaction_Amount\"], boundaries=[1,500,2000,5000])  # Create a histogram object\n",
    "\n",
    "DF_hist = histobj.___  # Get the result of the histogram\n",
    "\n",
    "DF_hist = DF_hist.assign(Bin_Percent_cumulative = DF_hist.xpct.___([\"xbin\"]))  # Calculate cumulative percentage\n",
    "\n",
    "DF_hist = DF_hist.___()  # Materialize the DataFrame\n",
    "\n",
    "DF_hist.sort(\"xbin\")  # Sort the DataFrame by 'xbin'"
   ]
  },
  {
   "cell_type": "markdown",
   "id": "b0e53528",
   "metadata": {},
   "source": [
    "<details>\n",
    "  <summary style=\"font-weight:bold; color:#9b870c;\">Hint</summary>\n",
    "  <div style=\"background-color:#fff9db; padding:10px; border-radius:5px; margin-top:5px;\">\n",
    "1. Set the VAL installation location using a string.\n",
    "2. Use the appropriate DataFrame as input data for the histogram.\n",
    "3. Access the result attribute of the histogram object.\n",
    "4. Use the cumulative sum function to calculate the cumulative percentage.\n",
    "5. Materialize the DataFrame to finalize the changes.\n",
    "  </div>\n",
    "</details>"
   ]
  },
  {
   "cell_type": "markdown",
   "id": "d43a52ce",
   "metadata": {},
   "source": [
    "<details>\n",
    "  <summary style=\"font-weight:bold; color:#0c9b3b;\">Solution</summary>\n",
    "  <div style=\"background-color:#dbffdb; padding:10px; border-radius:5px; margin-top:5px;\">\n",
    "\n",
    "```python\n",
    "# we use the histogram function from teradata's Vantage Analytic Library (VAL)\n",
    "tdml.configure.val_install_location = \"val\"\n",
    "\n",
    "histobj = tdml.valib.Histogram(data= DF_Transaction_Fact,columns =[\"Transaction_Amount\"], boundaries=[1,500,2000,5000])\n",
    "\n",
    "DF_hist = histobj.result\n",
    "\n",
    "DF_hist = DF_hist.assign(Bin_Percent_cumulative = DF_hist.xpct.csum([\"xbin\"]))\n",
    "\n",
    "DF_hist = DF_hist.materialize()\n",
    "\n",
    "DF_hist.sort(\"xbin\")\n",
    "```\n",
    "  </div>\n",
    "</details>"
   ]
  },
  {
   "cell_type": "markdown",
   "id": "b17a1922",
   "metadata": {},
   "source": [
    "<div style=\" border-radius: 0 0 15px 15px ; background: #a8d5e2; padding: 10px;\"></div><br><br>"
   ]
  },
  {
   "cell_type": "markdown",
   "id": "eb74e90e-f1e8-4071-a047-6ef37037a908",
   "metadata": {},
   "source": [
    "### Variable Width Quantile based"
   ]
  },
  {
   "cell_type": "markdown",
   "id": "fa894110",
   "metadata": {},
   "source": [
    "This code cell creates a histogram object using the Teradata Python package. It specifies the data source, columns to be used for the histogram, and the number of quantiles to be generated."
   ]
  },
  {
   "cell_type": "markdown",
   "id": "eae330c2",
   "metadata": {},
   "source": [
    "<br><br><div style=\" border-radius: 15px 15px 0 0; background: #a8d5e2; padding: 10px;\"></div>"
   ]
  },
  {
   "cell_type": "code",
   "execution_count": null,
   "id": "ba9fc318",
   "metadata": {},
   "outputs": [],
   "source": [
    "histobj = tdml.valib.Histogram(data= DF_Transaction_Fact, columns =[\"___\"], quantiles=___) # we want to have 8 quantiles"
   ]
  },
  {
   "cell_type": "markdown",
   "id": "d95ce6af",
   "metadata": {},
   "source": [
    "<details>\n",
    "  <summary style=\"font-weight:bold; color:#9b870c;\">Hint</summary>\n",
    "  <div style=\"background-color:#fff9db; padding:10px; border-radius:5px; margin-top:5px;\">\n",
    "You need to specify the data source, the column you want to create a histogram for, and the number of quantiles. The data source is likely a DataFrame, and the column name should match one in the DataFrame.\n",
    "  </div>\n",
    "</details>"
   ]
  },
  {
   "cell_type": "markdown",
   "id": "c7f84deb",
   "metadata": {},
   "source": [
    "<details>\n",
    "  <summary style=\"font-weight:bold; color:#0c9b3b;\">Solution</summary>\n",
    "  <div style=\"background-color:#dbffdb; padding:10px; border-radius:5px; margin-top:5px;\">\n",
    "\n",
    "```python\n",
    "histobj = tdml.valib.Histogram(data= DF_Transaction_Fact,columns =[\"Transaction_Amount\"], quantiles=8)\n",
    "```\n",
    "  </div>\n",
    "</details>"
   ]
  },
  {
   "cell_type": "markdown",
   "id": "876b4eae",
   "metadata": {},
   "source": [
    "<div style=\" border-radius: 0 0 15px 15px ; background: #a8d5e2; padding: 10px;\"></div><br><br>"
   ]
  },
  {
   "cell_type": "markdown",
   "id": "b09581a9",
   "metadata": {},
   "source": [
    "This code cell retrieves the result of the histogram object created in the previous cell, converts it to a Pandas DataFrame, sorts the data based on the 'xbeg' column, extracts the quantile values, and prints them. It also sorts the DataFrame based on the 'xbeg' column."
   ]
  },
  {
   "cell_type": "code",
   "execution_count": null,
   "id": "2fec07c4-18be-4c19-b83e-80ee21a975b5",
   "metadata": {},
   "outputs": [],
   "source": [
    "DF_hist_quantile = histobj.result\n",
    "df_hist_quantile = DF_hist_quantile.to_pandas().reset_index()\n",
    "df_hist_quantile = df_hist_quantile.sort_values(\"xbeg\")\n",
    "quantiles = list(df_hist_quantile.xbeg)[1:]\n",
    "print(\"thresholds:\", str(quantiles))\n",
    "DF_hist_quantile.sort(\"xbeg\")"
   ]
  },
  {
   "cell_type": "markdown",
   "id": "1a92b897-ea31-49c9-b3fb-d0043fc841d9",
   "metadata": {},
   "source": [
    "### bin a column based on thresholds"
   ]
  },
  {
   "cell_type": "markdown",
   "id": "33b204b6",
   "metadata": {},
   "source": [
    "This code cell defines a function that bins the values of a specified column in a DataFrame based on given thresholds. It creates bins for values less than or equal to the first threshold, values falling within each threshold range, values greater than the last threshold, and NULL values."
   ]
  },
  {
   "cell_type": "code",
   "execution_count": null,
   "id": "bc4e5c14-73a7-4cf7-a522-5dacaa2d5499",
   "metadata": {},
   "outputs": [],
   "source": [
    "def get_column_binned(thisDF, column_name, thresholds):\n",
    "    thiscol = thisDF[column_name]\n",
    "    bins = []\n",
    "    \n",
    "    # Add the first bin (values <= first threshold)\n",
    "    bins.append((thiscol <= thresholds[0], f\"bin_{str(0).zfill(3)}: ]-∞;{thresholds[0]}]\"))\n",
    "    \n",
    "    # Add the middle bins\n",
    "    for i in range(len(thresholds) - 1):\n",
    "        lower_th, upper_th = thresholds[i], thresholds[i + 1]\n",
    "        bin_number = str(i + 1).zfill(3)\n",
    "        bins.append(((thiscol > lower_th) & (thiscol <= upper_th), f\"bin_{bin_number}: ]{lower_th};{upper_th}]\"))\n",
    "    \n",
    "    # Add the last bin (values > last threshold)\n",
    "    bin_number = str(len(thresholds)).zfill(3)\n",
    "    bins.append((thiscol > thresholds[-1], f\"bin_{bin_number}: ]{thresholds[-1]};+∞]\"))\n",
    "\n",
    "    # Add the NULL bin \n",
    "    bin_number = str(len(thresholds)+1).zfill(3)\n",
    "    bins.append((thiscol == None, f\"bin_{bin_number}: NULL\"))\n",
    "    \n",
    "    return tdml.case(bins)\n"
   ]
  },
  {
   "cell_type": "markdown",
   "id": "c63ecf0c",
   "metadata": {},
   "source": [
    "This code cell assigns a new column to the DataFrame 'DF_Transaction_Fact' by binning the 'Transaction_Amount' column using the function defined in a previous cell. It then displays the SQL query generated for the DataFrame and shows the resulting DataFrame with the binned column."
   ]
  },
  {
   "cell_type": "markdown",
   "id": "86777f25",
   "metadata": {},
   "source": [
    "<br><br><div style=\" border-radius: 15px 15px 0 0; background: #a8d5e2; padding: 10px;\"></div>"
   ]
  },
  {
   "cell_type": "code",
   "execution_count": null,
   "id": "db186699",
   "metadata": {},
   "outputs": [],
   "source": [
    "DF_binned = DF_Transaction_Fact.____( # add new columns\n",
    "    Transaction_Amount_binned = get_column_binned(DF_Transaction_Fact, \"Transaction_Amount\", thresholds=___))  # Specify the thresholds for binning\n",
    "prettyprint_sql(DF_binned.show_query())  # Show the SQL query for the binned DataFrame\n",
    "DF_binned"
   ]
  },
  {
   "cell_type": "markdown",
   "id": "d9918dbb",
   "metadata": {},
   "source": [
    "<details>\n",
    "  <summary style=\"font-weight:bold; color:#9b870c;\">Hint</summary>\n",
    "  <div style=\"background-color:#fff9db; padding:10px; border-radius:5px; margin-top:5px;\">\n",
    "To bin the \"Transaction_Amount\" column, you need to specify the thresholds, which are typically quantiles or specific values. After binning, use the `show_query()` method to display the SQL query representation of the DataFrame.\n",
    "  </div>\n",
    "</details>"
   ]
  },
  {
   "cell_type": "markdown",
   "id": "a79f0184",
   "metadata": {},
   "source": [
    "<details>\n",
    "  <summary style=\"font-weight:bold; color:#0c9b3b;\">Solution</summary>\n",
    "  <div style=\"background-color:#dbffdb; padding:10px; border-radius:5px; margin-top:5px;\">\n",
    "\n",
    "```python\n",
    "DF_binned = DF_Transaction_Fact.assign(\n",
    "    Transaction_Amount_binned = get_column_binned(DF_Transaction_Fact,\"Transaction_Amount\", thresholds=quantiles))\n",
    "prettyprint_sql(DF_binned.show_query())\n",
    "DF_binned\n",
    "```\n",
    "  </div>\n",
    "</details>"
   ]
  },
  {
   "cell_type": "markdown",
   "id": "a7681788",
   "metadata": {},
   "source": [
    "<div style=\" border-radius: 0 0 15px 15px ; background: #a8d5e2; padding: 10px;\"></div><br><br>"
   ]
  },
  {
   "cell_type": "markdown",
   "id": "9976c851",
   "metadata": {},
   "source": [
    "This code cell generates a categorical summary of the 'Transaction_Amount_binned' column from the DataFrame 'DF_binned' and displays the summary along with a figure."
   ]
  },
  {
   "cell_type": "code",
   "execution_count": null,
   "id": "61c28e1a-7b70-4c55-9583-2e5b5468a661",
   "metadata": {},
   "outputs": [],
   "source": [
    "df_catsum, fig = generate_categorical_summary(DF_binned.select([\"Transaction_Amount_binned\"]))\n",
    "\n",
    "print(df_catsum.head())\n",
    "\n",
    "fig.show()"
   ]
  },
  {
   "cell_type": "markdown",
   "id": "108eef04-b3cc-48c1-9661-1ca85e8191aa",
   "metadata": {},
   "source": [
    "# Waterfall Analysis: Aggregation & Visualisation"
   ]
  },
  {
   "cell_type": "markdown",
   "id": "1b400976-ee50-41ff-9557-240f17d6e905",
   "metadata": {},
   "source": [
    "## Define Data and Filters"
   ]
  },
  {
   "cell_type": "markdown",
   "id": "561d35d5",
   "metadata": {},
   "source": [
    "This code cell creates a Teradata DataFrame object named 'DF_master' based on the table 'Master_Table'."
   ]
  },
  {
   "cell_type": "code",
   "execution_count": null,
   "id": "90b7a444-d999-403d-9225-aed67dcf7a16",
   "metadata": {},
   "outputs": [],
   "source": [
    "DF_master = tdml.DataFrame(\"Master_Table\")"
   ]
  },
  {
   "cell_type": "markdown",
   "id": "6acc26a9",
   "metadata": {},
   "source": [
    "In this code cell, a list of conditions (CND) is defined to filter the data based on various criteria. The filters include region, segment, class, language, accounts, currency, transaction amount, balance, channel, interaction type, interactions, lowest balance, transaction type, city, and average transaction amount. The filter columns are extracted from the conditions."
   ]
  },
  {
   "cell_type": "markdown",
   "id": "e908ce18",
   "metadata": {},
   "source": [
    "<br><br><div style=\" border-radius: 15px 15px 0 0; background: #a8d5e2; padding: 10px;\"></div>"
   ]
  },
  {
   "cell_type": "code",
   "execution_count": null,
   "id": "0858fbc2",
   "metadata": {},
   "outputs": [],
   "source": [
    "CND = [\n",
    "    (\"region_filter\", \"Region NOT IN ('GE', 'VD')\"),\n",
    "    (\"segment_filter\", \"Customer_Segment NOT IN ('Private Banking')\"),\n",
    "    (\"class_filter\", \"Customer_Class <> 'A'\"),\n",
    "    (\"language_filter\", \"Preferred_Language_Code IN ('EN', 'DE')\"),\n",
    "    (\"accounts_filter\", \"Num_Accounts > 1\"),\n",
    "    (\"currency_filter\", \"Primary_Currency NOT IN ('EUR', 'USD')\"),\n",
    "    (\"transaction_amount_filter\", \"Total_Transaction_Amount > 50000\"),\n",
    "    (\"balance_filter\", \"Current_Balance IS NOT NULL\"),\n",
    "    (\"channel_filter\", \"Preferred_Channel <> 'Phone'\"),\n",
    "    (\"interaction_type_filter\", \"Frequent_Interaction_Type IN ('Inquiry', 'Service Request')\"),\n",
    "    (\"interactions_filter\", \"Total_Interactions >= 5\"),\n",
    "    (\"lowest_balance_filter\", \"Lowest_Balance > 0\"),\n",
    "    (\"transaction_type_filter\", \"Common_Transaction_Type = 'Credit'\"),\n",
    "    (\"city_filter\", \"City_Name NOT IN ('Zurich', 'Geneva')\"),\n",
    "    (\"avg_transaction_filter\", \"Average_Transaction_Amount < 10000\")\n",
    "]\n",
    "filter_cols = [c[_] for c in ___]  # Extract the first element of each tuple in the list, to have a list of column names"
   ]
  },
  {
   "cell_type": "markdown",
   "id": "68621af7",
   "metadata": {},
   "source": [
    "<details>\n",
    "  <summary style=\"font-weight:bold; color:#9b870c;\">Hint</summary>\n",
    "  <div style=\"background-color:#fff9db; padding:10px; border-radius:5px; margin-top:5px;\">\n",
    "To extract the first element from each tuple in a list, you can use a list comprehension. The list `CND` contains tuples, and you need to iterate over them to get the first item of each tuple. We do not start counting at 1....\n",
    "  </div>\n",
    "</details>"
   ]
  },
  {
   "cell_type": "markdown",
   "id": "8678bb34",
   "metadata": {},
   "source": [
    "<details>\n",
    "  <summary style=\"font-weight:bold; color:#0c9b3b;\">Solution</summary>\n",
    "  <div style=\"background-color:#dbffdb; padding:10px; border-radius:5px; margin-top:5px;\">\n",
    "\n",
    "```python\n",
    "CND = [\n",
    "    (\"region_filter\", \"Region NOT IN ('GE', 'VD')\"),\n",
    "    (\"segment_filter\", \"Customer_Segment NOT IN ('Private Banking')\"),\n",
    "    (\"class_filter\", \"Customer_Class <> 'A'\"),\n",
    "    (\"language_filter\", \"Preferred_Language_Code IN ('EN', 'DE')\"),\n",
    "    (\"accounts_filter\", \"Num_Accounts > 1\"),\n",
    "    (\"currency_filter\", \"Primary_Currency NOT IN ('EUR', 'USD')\"),\n",
    "    (\"transaction_amount_filter\", \"Total_Transaction_Amount > 50000\"),\n",
    "    (\"balance_filter\", \"Current_Balance IS NOT NULL\"),\n",
    "    (\"channel_filter\", \"Preferred_Channel <> 'Phone'\"),\n",
    "    (\"interaction_type_filter\", \"Frequent_Interaction_Type IN ('Inquiry', 'Service Request')\"),\n",
    "    (\"interactions_filter\", \"Total_Interactions >= 5\"),\n",
    "    (\"lowest_balance_filter\", \"Lowest_Balance > 0\"),\n",
    "    (\"transaction_type_filter\", \"Common_Transaction_Type = 'Credit'\"),\n",
    "    (\"city_filter\", \"City_Name NOT IN ('Zurich', 'Geneva')\"),\n",
    "    (\"avg_transaction_filter\", \"Average_Transaction_Amount < 10000\")\n",
    "]\n",
    "filter_cols = [c[0] for c in CND]\n",
    "```\n",
    "  </div>\n",
    "</details>"
   ]
  },
  {
   "cell_type": "markdown",
   "id": "9d7d3b56",
   "metadata": {},
   "source": [
    "<div style=\" border-radius: 0 0 15px 15px ; background: #a8d5e2; padding: 10px;\"></div><br><br>"
   ]
  },
  {
   "cell_type": "markdown",
   "id": "90f033ed",
   "metadata": {},
   "source": [
    "This code cell applies the defined filters from CND to the 'DF_master' DataFrame and assigns binary values (1 or 0) based on whether the conditions are met. The resulting DataFrame is then converted to a temporary table 'master_filter' in Teradata."
   ]
  },
  {
   "cell_type": "markdown",
   "id": "0cd5edb6",
   "metadata": {},
   "source": [
    "<br><br><div style=\" border-radius: 15px 15px 0 0; background: #a8d5e2; padding: 10px;\"></div>"
   ]
  },
  {
   "cell_type": "code",
   "execution_count": null,
   "id": "20b2ea4b",
   "metadata": {},
   "outputs": [],
   "source": [
    "from sqlalchemy.sql import literal_column as col\n",
    "\n",
    "DF_master_filter = DF_master.assign(\n",
    "    **{filter_name: col(f\"___ ___ ({filter_sql}) ___ 1 ___ 0 END\")  # which SQL construct could be used here?\n",
    "       for (filter_name, filter_sql) in ___}  # Provide the correct iterable for filter names and SQL\n",
    ")\n",
    "prettyprint_sql(DF_master_filter.show_query())\n",
    "\n",
    "DF_master_filter.to_sql(\"master_filter\", temporary=True, types={c: tdml.BYTEINT for c in filter_cols})  # Specify the columns for types\n",
    "DF_master_filter = tdml.DataFrame(\"master_filter\")  # Provide the correct table name\n",
    "DF_master_filter"
   ]
  },
  {
   "cell_type": "markdown",
   "id": "b87ae841",
   "metadata": {},
   "source": [
    "<details>\n",
    "  <summary style=\"font-weight:bold; color:#9b870c;\">Hint</summary>\n",
    "  <div style=\"background-color:#fff9db; padding:10px; border-radius:5px; margin-top:5px;\">\n",
    "You need to fill in the SQL condition for filtering, the iterable that provides filter names and SQL conditions, the columns for which types are specified, and the table name for creating a DataFrame. Look at how SQL conditions are structured and how DataFrames are created and manipulated. You might want to remember CASE WHEN THEN ELSE END.\n",
    "  </div>\n",
    "</details>"
   ]
  },
  {
   "cell_type": "markdown",
   "id": "c763165b",
   "metadata": {},
   "source": [
    "<details>\n",
    "  <summary style=\"font-weight:bold; color:#0c9b3b;\">Solution</summary>\n",
    "  <div style=\"background-color:#dbffdb; padding:10px; border-radius:5px; margin-top:5px;\">\n",
    "\n",
    "```python\n",
    "from sqlalchemy.sql import literal_column  as col\n",
    "\n",
    "DF_master_filter = DF_master.assign(\n",
    "    **{filter_name: col(f\"CASE WHEN ({filter_sql}) THEN 1 ELSE 0 END\") \n",
    "       for (filter_name, filter_sql) in CND}\n",
    ")\n",
    "prettyprint_sql(DF_master_filter.show_query())\n",
    "\n",
    "DF_master_filter.to_sql(\"master_filter\", temporary = True,types= {c:tdml.BYTEINT for c in filter_cols})\n",
    "DF_master_filter = tdml.DataFrame(\"master_filter\")\n",
    "DF_master_filter\n",
    "```\n",
    "  </div>\n",
    "</details>"
   ]
  },
  {
   "cell_type": "markdown",
   "id": "2c4c5749",
   "metadata": {},
   "source": [
    "<div style=\" border-radius: 0 0 15px 15px ; background: #a8d5e2; padding: 10px;\"></div><br><br>"
   ]
  },
  {
   "cell_type": "markdown",
   "id": "28535a39-7700-49f0-9d6a-34085b4bf299",
   "metadata": {},
   "source": [
    "## Create Pre-Count Tables of all Combinations"
   ]
  },
  {
   "cell_type": "markdown",
   "id": "4eada480",
   "metadata": {},
   "source": [
    "In this code cell, a new DataFrame 'DF_WF' is created by grouping the 'DF_master_filter' DataFrame based on the filter columns and counting the number of unique 'Customer_Id' values for each combination of filters. The resulting DataFrame is then saved as a table 'waterfall_base' in Teradata."
   ]
  },
  {
   "cell_type": "markdown",
   "id": "daf6ff4b",
   "metadata": {},
   "source": [
    "<br><br><div style=\" border-radius: 15px 15px 0 0; background: #a8d5e2; padding: 10px;\"></div>"
   ]
  },
  {
   "cell_type": "code",
   "execution_count": null,
   "id": "7c15dba9",
   "metadata": {},
   "outputs": [],
   "source": [
    "num_rows = 2**len(___)  # Calculate the number of rows based on filter columns\n",
    "print(f\"DF_WF will have maximum {num_rows} rows, as per the number of combinations of all filters is 2**({len(___)})\")\n",
    "DF_WF = (DF_master_filter\n",
    "     .select([\"Customer_Id\"]+___)  # Select Customer_Id and filter columns\n",
    "     .groupby(___)  # Group by filter columns\n",
    "     .agg(DF_master_filter.Customer_Id.___().alias(\"number_customers\"))  # Aggregate to count customers\n",
    ")\n",
    "prettyprint_sql(DF_WF.show_query())  # Print the SQL query\n",
    "\n",
    "DF_WF.to_sql(\"waterfall_base\", primary_index=___, if_exists= \"replace\")  # Save to SQL with primary index\n",
    "\n",
    "DF_WF = tdml.DataFrame(\"waterfall_base\")  # Load the DataFrame from SQL\n",
    "\n",
    "DF_WF  # Display the DataFrame"
   ]
  },
  {
   "cell_type": "markdown",
   "id": "16973420",
   "metadata": {},
   "source": [
    "<details>\n",
    "  <summary style=\"font-weight:bold; color:#9b870c;\">Hint</summary>\n",
    "  <div style=\"background-color:#fff9db; padding:10px; border-radius:5px; margin-top:5px;\">\n",
    "Identify the variable that holds the filter columns and use it consistently in the code. Remember to select, group by, and set the primary index using these filter columns.\n",
    "  </div>\n",
    "</details>"
   ]
  },
  {
   "cell_type": "markdown",
   "id": "c5ef5783",
   "metadata": {},
   "source": [
    "<details>\n",
    "  <summary style=\"font-weight:bold; color:#0c9b3b;\">Solution</summary>\n",
    "  <div style=\"background-color:#dbffdb; padding:10px; border-radius:5px; margin-top:5px;\">\n",
    "\n",
    "```python\n",
    "num_rows = 2**len(filter_cols)\n",
    "print(f\"DF_WF will have maximum {num_rows} rows, as per the number of combinations of all filters is 2**({len(filter_cols)})\")\n",
    "DF_WF = (DF_master_filter\n",
    "     .select([\"Customer_Id\"]+filter_cols)\n",
    "     .groupby(filter_cols)\n",
    "     .agg(DF_master_filter.Customer_Id.count().alias(\"number_customers\"))\n",
    ")\n",
    "prettyprint_sql(DF_WF.show_query())\n",
    "\n",
    "DF_WF.to_sql(\"waterfall_base\", primary_index=filter_cols, if_exists= \"replace\")\n",
    "\n",
    "DF_WF = tdml.DataFrame(\"waterfall_base\")\n",
    "\n",
    "DF_WF\n",
    "```\n",
    "  </div>\n",
    "</details>"
   ]
  },
  {
   "cell_type": "markdown",
   "id": "5470a3ab",
   "metadata": {},
   "source": [
    "<div style=\" border-radius: 0 0 15px 15px ; background: #a8d5e2; padding: 10px;\"></div><br><br>"
   ]
  },
  {
   "cell_type": "markdown",
   "id": "86023ca1",
   "metadata": {},
   "source": [
    "This code cell retrieves the sum of the number of customers from a table called waterfall_base based on all filter columns. The filter columns are specified in the filter_cols list. The objective is to get the total number of customers based on the provided filters."
   ]
  },
  {
   "cell_type": "markdown",
   "id": "c68f176f",
   "metadata": {},
   "source": [
    "<br><br><div style=\" border-radius: 15px 15px 0 0; background: #a8d5e2; padding: 10px;\"></div>"
   ]
  },
  {
   "cell_type": "code",
   "execution_count": null,
   "id": "85c5dd59",
   "metadata": {},
   "outputs": [],
   "source": [
    "# Aggregate function to sum up the customers\n",
    "# Right arithmetic operation for the where condition\n",
    "tdml.DataFrame.from_query(f\"\"\"\n",
    "    SELECT \n",
    "        ___(number_customers) as number_customers   \n",
    "    FROM\n",
    "        waterfall_base \n",
    "    WHERE {\" ___ \".join(filter_cols)} = {len(filter_cols)}\n",
    "\"\"\")"
   ]
  },
  {
   "cell_type": "markdown",
   "id": "0ffe5115",
   "metadata": {},
   "source": [
    "<details>\n",
    "  <summary style=\"font-weight:bold; color:#9b870c;\">Hint</summary>\n",
    "  <div style=\"background-color:#fff9db; padding:10px; border-radius:5px; margin-top:5px;\">\n",
    "To complete the SQL query, remember to use the correct column name for summing up the customers and specify the table from which you are selecting. The WHERE clause should ensure that the sum of the filter columns equals the number of columns.\n",
    "  </div>\n",
    "</details>"
   ]
  },
  {
   "cell_type": "markdown",
   "id": "05f2c631",
   "metadata": {},
   "source": [
    "<details>\n",
    "  <summary style=\"font-weight:bold; color:#0c9b3b;\">Solution</summary>\n",
    "  <div style=\"background-color:#dbffdb; padding:10px; border-radius:5px; margin-top:5px;\">\n",
    "\n",
    "```python\n",
    "\n",
    "tdml.DataFrame.from_query(f\"\"\"\n",
    "    SELECT \n",
    "        SUM(number_customers) as number_customers\n",
    "    FROM\n",
    "        waterfall_base\n",
    "    WHERE {\" + \".join(filter_cols)} = {len(filter_cols)}\n",
    "\"\"\")\n",
    "```\n",
    "  </div>\n",
    "</details>"
   ]
  },
  {
   "cell_type": "markdown",
   "id": "8c6fc442",
   "metadata": {},
   "source": [
    "<div style=\" border-radius: 0 0 15px 15px ; background: #a8d5e2; padding: 10px;\"></div><br><br>"
   ]
  },
  {
   "cell_type": "markdown",
   "id": "020c42f9-ef6f-4150-ac5c-34a4e2e7c07c",
   "metadata": {},
   "source": [
    "## Calculate number of remaining rows after applying sequence of filters"
   ]
  },
  {
   "cell_type": "markdown",
   "id": "f62ce224",
   "metadata": {},
   "source": [
    "This code cell defines three functions: get_number_customers_filter, get_number_customers_total, and get_waterfall_sequence. These functions are used to calculate the total number of customers, the number of customers after applying filters, and the sequence of customer reduction based on filters. The get_waterfall_sequence function utilizes the other two functions to generate the sequence."
   ]
  },
  {
   "cell_type": "markdown",
   "id": "7a176f5c",
   "metadata": {},
   "source": [
    "<br><br><div style=\" border-radius: 15px 15px 0 0; background: #a8d5e2; padding: 10px;\"></div>"
   ]
  },
  {
   "cell_type": "code",
   "execution_count": null,
   "id": "d6e03914",
   "metadata": {},
   "outputs": [],
   "source": [
    "def get_number_customers_filter(filter_columns, tablename = \"waterfall_base\"):\n",
    "    return tdml.execute_sql(f\"\"\"\n",
    "        SELECT \n",
    "            ZEROIFNULL(SUM(number_customers)) as number_customers\n",
    "        FROM\n",
    "            {tablename}\n",
    "        WHERE {\" + \".join(filter_columns)} = {len(filter_columns)}\n",
    "    \"\"\").fetchall()[0][0]\n",
    "\n",
    "def get_number_customers_total(tablename = \"waterfall_base\"):\n",
    "    return tdml.execute_sql(f\"\"\"\n",
    "        SELECT \n",
    "            ZEROIFNULL(SUM(number_customers)) as number_customers\n",
    "        FROM\n",
    "            {tablename}\n",
    "    \"\"\").fetchall()[0][0]\n",
    "\n",
    "def get_waterfall_sequence(filter_columns, tablename = \"waterfall_base\"):\n",
    "    total_customers = get_number_customers_total(tablename)\n",
    "    customers_after_filters = []\n",
    "    for i in range(1,len(filter_columns)+1):\n",
    "        customers_after_filters.append(\n",
    "            get_number_customers_filter(filter_columns[:i], tablename))\n",
    "\n",
    "    return total_customers, customers_after_filters\n",
    "    \n",
    "\n",
    "get_waterfall_sequence(___, tablename = \"waterfall_base\")  # Provide the filter columns"
   ]
  },
  {
   "cell_type": "markdown",
   "id": "01763bb9",
   "metadata": {},
   "source": [
    "<details>\n",
    "  <summary style=\"font-weight:bold; color:#9b870c;\">Hint</summary>\n",
    "  <div style=\"background-color:#fff9db; padding:10px; border-radius:5px; margin-top:5px;\">\n",
    " In the `get_waterfall_sequence` function call, provide the list of filter columns to be used.\n",
    "  </div>\n",
    "</details>"
   ]
  },
  {
   "cell_type": "markdown",
   "id": "8e9c9f00",
   "metadata": {},
   "source": [
    "<details>\n",
    "  <summary style=\"font-weight:bold; color:#0c9b3b;\">Solution</summary>\n",
    "  <div style=\"background-color:#dbffdb; padding:10px; border-radius:5px; margin-top:5px;\">\n",
    "\n",
    "```python\n",
    "def get_number_customers_filter(filter_columns, tablename = \"waterfall_base\"):\n",
    "    return tdml.execute_sql(f\"\"\"\n",
    "        SELECT \n",
    "            ZEROIFNULL(SUM(number_customers)) as number_customers\n",
    "        FROM\n",
    "            {tablename}\n",
    "        WHERE {\" + \".join(filter_columns)} = {len(filter_columns)}\n",
    "    \"\"\").fetchall()[0][0]\n",
    "\n",
    "def get_number_customers_total(tablename = \"waterfall_base\"):\n",
    "    return tdml.execute_sql(f\"\"\"\n",
    "        SELECT \n",
    "            ZEROIFNULL(SUM(number_customers)) as number_customers\n",
    "        FROM\n",
    "            {tablename}\n",
    "    \"\"\").fetchall()[0][0]\n",
    "\n",
    "def get_waterfall_sequence(filter_columns, tablename = \"waterfall_base\"):\n",
    "    total_customers = get_number_customers_total(tablename)\n",
    "    customers_after_filters = []\n",
    "    for i in range(1,len(filter_columns)+1):\n",
    "        customers_after_filters.append(\n",
    "            get_number_customers_filter(filter_columns[:i], tablename))\n",
    "\n",
    "    return total_customers, customers_after_filters\n",
    "    \n",
    "\n",
    "get_waterfall_sequence(filter_cols, tablename = \"waterfall_base\")\n",
    "```\n",
    "  </div>\n",
    "</details>"
   ]
  },
  {
   "cell_type": "markdown",
   "id": "df5246d0",
   "metadata": {},
   "source": [
    "<div style=\" border-radius: 0 0 15px 15px ; background: #a8d5e2; padding: 10px;\"></div><br><br>"
   ]
  },
  {
   "cell_type": "markdown",
   "id": "25bf8ed4-40bb-4fec-b490-90c447aeffab",
   "metadata": {},
   "source": [
    "## create plotly waterfall chart"
   ]
  },
  {
   "cell_type": "markdown",
   "id": "c41720f7",
   "metadata": {},
   "source": [
    "This code cell creates a waterfall chart using the Plotly library. The chart visualizes the reduction in the number of customers based on different filters. The create_waterfall_chart function prepares the data for the chart and generates the visualization. It takes the Conditions and Decisions (CND), total customers, and customers after filters as input."
   ]
  },
  {
   "cell_type": "code",
   "execution_count": null,
   "id": "4ed4f77e-9fd0-4b15-a621-d3001c6541cb",
   "metadata": {},
   "outputs": [],
   "source": [
    "import plotly.graph_objects as go\n",
    "\n",
    "def create_waterfall_chart(CND, total_customers, customers_after_filters ):\n",
    "    \n",
    "    # Prepare data for the waterfall chart\n",
    "    x_labels = [f\"{name}\\n{condition}\" for name, condition in CND]  # Combine name and SQL condition\n",
    "    y_values = [total_customers] + customers_after_filters  # Start with the total, then apply each filter\n",
    "    x_labels.append(\"Remaining Customers\")  # Add label for the final bar\n",
    "    remaining_customers = customers_after_filters[-1]\n",
    "    \n",
    "    # Calculate the differences for the waterfall bars\n",
    "    diff_values = [y_values[0] - y_values[1]]  # Initial drop from total to the first filter\n",
    "    diff_values += [y_values[i] - y_values[i + 1] for i in range(1, len(y_values) - 1)]\n",
    "    diff_values = [- y_value for y_value in diff_values] \n",
    "    \n",
    "    # Create the waterfall chart\n",
    "    fig = go.Figure(go.Waterfall(\n",
    "        name=\"Waterfall Analysis\",\n",
    "        x=[\"All Customers\"] + x_labels,\n",
    "        y=[total_customers] + diff_values + [remaining_customers],  # Starting bar and placeholders\n",
    "        measure=[\"absolute\"] + [\"relative\"] * len(customers_after_filters) + [\"absolute\"],  # Absolute start, relative drops, absolute end\n",
    "        text=[f\"{val:,}\" for val in [total_customers] + diff_values],  # Add text annotations\n",
    "        decreasing={\"marker\": {\"color\": \"red\"}},\n",
    "        connector={\"line\": {\"color\": \"black\", \"dash\": \"dot\"}},\n",
    "        textposition = [\"inside\"] + [\"outside\"] * len(diff_values) + [\"outside\"]  # Use \"outside\" for diffs\n",
    "    ))\n",
    "    \n",
    "    # Update layout\n",
    "    fig.update_layout(\n",
    "        title=\"Customer Reduction Waterfall Chart\",\n",
    "        xaxis_title=\"Filters (Name and SQL Condition)\",\n",
    "        yaxis_title=\"Number of Customers\",\n",
    "        showlegend=False,\n",
    "        height=800\n",
    "    )\n",
    "    \n",
    "    return fig\n",
    "\n",
    "create_waterfall_chart(CND[:5], *get_waterfall_sequence(filter_cols[:5], tablename = \"waterfall_base\"))"
   ]
  },
  {
   "cell_type": "markdown",
   "id": "2dfada31-b462-4f6e-aafe-f1f6fe8a9cbd",
   "metadata": {},
   "source": [
    "## Create Interactive Widget for waterfall analyis"
   ]
  },
  {
   "cell_type": "markdown",
   "id": "010b219b",
   "metadata": {},
   "source": [
    "This code cell creates an interactive widget for generating waterfall charts based on selected filters. The waterfall_widget function utilizes IPywidgets and Plotly to create a user interface where users can select filters and view corresponding waterfall charts. The function dynamically updates the chart based on the selected filters."
   ]
  },
  {
   "cell_type": "code",
   "execution_count": null,
   "id": "fab654b2-5fb6-4d4f-8feb-75c3c423845e",
   "metadata": {},
   "outputs": [],
   "source": [
    "import ipywidgets as widgets\n",
    "import plotly.graph_objects as go\n",
    "from IPython.display import display\n",
    "\n",
    "def waterfall_widget(this_CND, tablename=\"waterfall_base\"):\n",
    "    # Extract allowed filter names from CND\n",
    "    allowed_tags = [c[0] for c in this_CND]\n",
    "\n",
    "    # Create a TagsInput widget for selecting filters in order, ensuring no duplicates\n",
    "    filter_tags = widgets.TagsInput(\n",
    "        value=[],\n",
    "        allowed_tags=allowed_tags,\n",
    "        placeholder=\"Select filters in order...\",\n",
    "        description=\"Filters:\",\n",
    "        allow_duplicates=False  # Ensure no duplicates are allowed\n",
    "    )\n",
    "\n",
    "    # Create a button to trigger the plot function\n",
    "    plot_button = widgets.Button(\n",
    "        description=\"Plot Waterfall\",\n",
    "        button_style=\"primary\",  # Styles the button\n",
    "        tooltip=\"Click to plot the waterfall chart\",\n",
    "        icon=\"bar-chart\"  # Optional icon\n",
    "    )\n",
    "\n",
    "    # Placeholder for a Plotly figure, initially empty\n",
    "    fig_placeholder = widgets.Output()\n",
    "\n",
    "    # Function to be called when the button is clicked\n",
    "    def on_plot_button_click(b):\n",
    "        with fig_placeholder:\n",
    "            fig_placeholder.clear_output()  # Clear previous plot output\n",
    "\n",
    "            # Debug: Check if the function is triggered\n",
    "            #print(\"Button clicked!\")  \n",
    "            \n",
    "            # Read the selected filters from the TagsInput\n",
    "            selected_filters = filter_tags.value\n",
    "            #print(\"Selected filters:\", selected_filters)  # Debug: Print selected filters\n",
    "\n",
    "            if not selected_filters:\n",
    "                #print(\"No filters selected!\")\n",
    "                return\n",
    "\n",
    "            # Get the waterfall sequence using the selected filters\n",
    "            total_customers, customers_after_filters = get_waterfall_sequence(selected_filters, tablename)\n",
    "\n",
    "            # Reduce this_CND to only include selected filters, in the specified order\n",
    "            reduced_CND = [c for c in this_CND if c[0] in selected_filters]\n",
    "            reduced_CND = sorted(reduced_CND, key=lambda x: selected_filters.index(x[0]))\n",
    "\n",
    "            # Create a new waterfall chart\n",
    "            plot = create_waterfall_chart(reduced_CND, total_customers, customers_after_filters)\n",
    "            \n",
    "            # Display the plot using a standard Figure (non-widget)\n",
    "            fig = go.Figure(plot)\n",
    "            display(fig)\n",
    "\n",
    "    # Link the button click event to the function\n",
    "    plot_button.on_click(on_plot_button_click)\n",
    "\n",
    "    # Display the widgets and the figure placeholder\n",
    "    display(filter_tags, plot_button, fig_placeholder)\n"
   ]
  },
  {
   "cell_type": "markdown",
   "id": "b2639556",
   "metadata": {},
   "source": [
    "<br><br><div style=\" border-radius: 15px 15px 0 0; background: #a8d5e2; padding: 10px;\"></div>"
   ]
  },
  {
   "cell_type": "code",
   "execution_count": null,
   "id": "8bbc0d11",
   "metadata": {},
   "outputs": [],
   "source": [
    "waterfall_widget(___, tablename=___)  # Call the function with appropriate arguments"
   ]
  },
  {
   "cell_type": "markdown",
   "id": "f8b54bca",
   "metadata": {},
   "source": [
    "<details>\n",
    "  <summary style=\"font-weight:bold; color:#9b870c;\">Hint</summary>\n",
    "  <div style=\"background-color:#fff9db; padding:10px; border-radius:5px; margin-top:5px;\">\n",
    "You need to provide the correct arguments for the `waterfall_widget` function. The first argument is likely a variable or data structure, and the second is a string representing the table name.\n",
    "  </div>\n",
    "</details>"
   ]
  },
  {
   "cell_type": "markdown",
   "id": "729f8c68",
   "metadata": {},
   "source": [
    "<details>\n",
    "  <summary style=\"font-weight:bold; color:#0c9b3b;\">Solution</summary>\n",
    "  <div style=\"background-color:#dbffdb; padding:10px; border-radius:5px; margin-top:5px;\">\n",
    "\n",
    "```python\n",
    "waterfall_widget(CND, tablename=\"waterfall_base\")\n",
    "```\n",
    "  </div>\n",
    "</details>"
   ]
  },
  {
   "cell_type": "markdown",
   "id": "09ce48a8",
   "metadata": {},
   "source": [
    "<div style=\" border-radius: 0 0 15px 15px ; background: #a8d5e2; padding: 10px;\"></div><br><br>"
   ]
  },
  {
   "cell_type": "markdown",
   "id": "65b621ff-5c97-4231-baf7-39443ea4210b",
   "metadata": {},
   "source": [
    "# Clustering as an Alternative Technique to Random Sampling for Selection of E-Mail Adresses\n"
   ]
  },
  {
   "cell_type": "markdown",
   "id": "b563ec9e",
   "metadata": {},
   "source": [
    "Creates a DataFrame object named DF_master by reading the \"master_table\" table from the \"demo_user\" schema."
   ]
  },
  {
   "cell_type": "code",
   "execution_count": null,
   "id": "0fab309a-21e3-4604-98a4-49f94c382a1a",
   "metadata": {
    "scrolled": true
   },
   "outputs": [],
   "source": [
    "DF_master = tdml.DataFrame(tdml.in_schema(\"demo_user\",\"master_table\"))"
   ]
  },
  {
   "cell_type": "markdown",
   "id": "9715c8d6-c801-43e8-8a8b-e0b3725852e5",
   "metadata": {},
   "source": [
    "## transform the master dataset into numeric columns, then PCA"
   ]
  },
  {
   "cell_type": "markdown",
   "id": "cab7aa6b",
   "metadata": {},
   "source": [
    "Performs data preprocessing steps on the DF_master DataFrame, excluding the columns \"Customer_Id\" and \"Master_Bank_Customer_Id\", and then applies Principal Component Analysis (PCA) with 10 components. Fits a Pipeline object to the preprocessed data."
   ]
  },
  {
   "cell_type": "code",
   "execution_count": null,
   "id": "a437c7d2-d63d-425d-992b-ce8ec943a6c6",
   "metadata": {},
   "outputs": [],
   "source": [
    "import tdprepview\n",
    "\n",
    "from tdprepview import Pipeline\n",
    "\n",
    "steps = eval(tdprepview.auto_code(DF_master, non_feature_cols=[\"Customer_Id\",\"Master_Bank_Customer_Id\"]))\n",
    "\n",
    "steps.append(  \n",
    "    ({'columns_exclude': ['Customer_Id', 'Master_Bank_Customer_Id']}, \n",
    "\t\t\t\t tdprepview.PCA(n_components=10)))\n",
    "print(steps)\n",
    "\n",
    "pl = Pipeline(steps)\n",
    "\n",
    "pl.fit(DF_master)"
   ]
  },
  {
   "cell_type": "markdown",
   "id": "411a1af7",
   "metadata": {},
   "source": [
    "Plots a Sankey diagram based on the data transformation steps performed by the Pipeline object pl."
   ]
  },
  {
   "cell_type": "code",
   "execution_count": null,
   "id": "60d0a995-e7f7-4694-a6db-684a442407a1",
   "metadata": {},
   "outputs": [],
   "source": [
    "pl.plot_sankey()"
   ]
  },
  {
   "cell_type": "markdown",
   "id": "9c311763",
   "metadata": {},
   "source": [
    "Transforms the DF_master DataFrame using the Pipeline object pl and displays the SQL query generated for the transformation. Prints the data types of the transformed DataFrame."
   ]
  },
  {
   "cell_type": "markdown",
   "id": "3bf8d591",
   "metadata": {},
   "source": [
    "<br><br><div style=\" border-radius: 15px 15px 0 0; background: #a8d5e2; padding: 10px;\"></div>"
   ]
  },
  {
   "cell_type": "code",
   "execution_count": null,
   "id": "395624c5",
   "metadata": {},
   "outputs": [],
   "source": [
    "DF_master_transformed = pl.transform(___)  # Transform the DataFrame using the appropriate function\n",
    "prettyprint_sql(DF_master_transformed.show_query())  # Pretty print the SQL query of the transformed DataFrame\n",
    "\n",
    "DF_master_transformed.___  # Access the teradata data types of the transformed DataFrame"
   ]
  },
  {
   "cell_type": "markdown",
   "id": "97f94e52",
   "metadata": {},
   "source": [
    "<details>\n",
    "  <summary style=\"font-weight:bold; color:#9b870c;\">Hint</summary>\n",
    "  <div style=\"background-color:#fff9db; padding:10px; border-radius:5px; margin-top:5px;\">\n",
    "First, ensure you are transforming the correct DataFrame using the `pl.transform` function. Then, use the `show_query` method to retrieve the SQL query from the transformed DataFrame. Finally, access the data types of the transformed DataFrame using the `tdtypes` attribute.\n",
    "  </div>\n",
    "</details>"
   ]
  },
  {
   "cell_type": "markdown",
   "id": "b6677d36",
   "metadata": {},
   "source": [
    "<details>\n",
    "  <summary style=\"font-weight:bold; color:#0c9b3b;\">Solution</summary>\n",
    "  <div style=\"background-color:#dbffdb; padding:10px; border-radius:5px; margin-top:5px;\">\n",
    "\n",
    "```python\n",
    "DF_master_transformed = pl.transform(DF_master)\n",
    "prettyprint_sql(DF_master_transformed.show_query())\n",
    "\n",
    "DF_master_transformed.tdtypes\n",
    "```\n",
    "  </div>\n",
    "</details>"
   ]
  },
  {
   "cell_type": "markdown",
   "id": "653d9cd7",
   "metadata": {},
   "source": [
    "<div style=\" border-radius: 0 0 15px 15px ; background: #a8d5e2; padding: 10px;\"></div><br><br>"
   ]
  },
  {
   "cell_type": "markdown",
   "id": "2457b38c",
   "metadata": {},
   "source": [
    "Drops the column \"Master_Bank_Customer_Id\" from the DF_master_transformed DataFrame, then saves the DataFrame as a table named \"cluster_input\" in the database with the primary index set to \"Customer_Id\". Creates a new DataFrame object DF_input_clustering by reading the \"cluster_input\" table."
   ]
  },
  {
   "cell_type": "markdown",
   "id": "db25f29a",
   "metadata": {},
   "source": [
    "<br><br><div style=\" border-radius: 15px 15px 0 0; background: #a8d5e2; padding: 10px;\"></div>"
   ]
  },
  {
   "cell_type": "code",
   "execution_count": null,
   "id": "bf828bb6",
   "metadata": {},
   "outputs": [],
   "source": [
    "(DF_master_transformed\n",
    "     .drop(columns=[\"Master_Bank_Customer_Id\"])\n",
    "     .to_sql(\"cluster_input\", if_exists = \"replace\", primary_index = ___))  # Define primary index\n",
    "\n",
    "DF_input_clustering = tdml.DataFrame(___)  # Use the table name from above\n",
    "\n",
    "DF_input_clustering"
   ]
  },
  {
   "cell_type": "markdown",
   "id": "26a85898",
   "metadata": {},
   "source": [
    "<details>\n",
    "  <summary style=\"font-weight:bold; color:#9b870c;\">Hint</summary>\n",
    "  <div style=\"background-color:#fff9db; padding:10px; border-radius:5px; margin-top:5px;\">\n",
    "Identify the column you want to drop from the DataFrame. Then, specify the name of the SQL table you want to create and the primary index for that table. Finally, ensure you use the same table name when creating the `tdml.DataFrame`.\n",
    "  </div>\n",
    "</details>"
   ]
  },
  {
   "cell_type": "markdown",
   "id": "437fc85b",
   "metadata": {},
   "source": [
    "<details>\n",
    "  <summary style=\"font-weight:bold; color:#0c9b3b;\">Solution</summary>\n",
    "  <div style=\"background-color:#dbffdb; padding:10px; border-radius:5px; margin-top:5px;\">\n",
    "\n",
    "```python\n",
    "(DF_master_transformed\n",
    "     .drop(columns=[\"Master_Bank_Customer_Id\"])\n",
    "     .to_sql(\"cluster_input\", if_exists = \"replace\", primary_index = \"Customer_Id\"))\n",
    "\n",
    "DF_input_clustering = tdml.DataFrame(\"cluster_input\")\n",
    "\n",
    "DF_input_clustering\n",
    "```\n",
    "  </div>\n",
    "</details>"
   ]
  },
  {
   "cell_type": "markdown",
   "id": "16d3e207",
   "metadata": {},
   "source": [
    "<div style=\" border-radius: 0 0 15px 15px ; background: #a8d5e2; padding: 10px;\"></div><br><br>"
   ]
  },
  {
   "cell_type": "markdown",
   "id": "7ae99fe8-e496-4250-ab1a-72f75fd9e5f6",
   "metadata": {},
   "source": [
    "## Fit Cluster and assign Cluster to rows"
   ]
  },
  {
   "cell_type": "markdown",
   "id": "66431ce2",
   "metadata": {},
   "source": [
    "This code cell prints the columns of the DataFrame DF_input_clustering."
   ]
  },
  {
   "cell_type": "code",
   "execution_count": null,
   "id": "88b02ac5-468b-45d6-b708-f7be2198d573",
   "metadata": {},
   "outputs": [],
   "source": [
    "print(DF_input_clustering.columns)"
   ]
  },
  {
   "cell_type": "markdown",
   "id": "c2f5aa4e",
   "metadata": {},
   "source": [
    "This code cell performs KMeans clustering on the data in DF_input_clustering using the specified columns as features. It creates a KMeans object with 50 clusters and prints the result."
   ]
  },
  {
   "cell_type": "markdown",
   "id": "21b34e02",
   "metadata": {},
   "source": [
    "<br><br><div style=\" border-radius: 15px 15px 0 0; background: #a8d5e2; padding: 10px;\"></div>"
   ]
  },
  {
   "cell_type": "code",
   "execution_count": null,
   "id": "16e1effe",
   "metadata": {},
   "outputs": [],
   "source": [
    "KMeans_obj = tdml.KMeans(data = DF_input_clustering,  # Provide the input data for clustering\n",
    "                        id_column = ___,  # Specify the ID column\n",
    "                         target_columns = ___,  # List the target columns for clustering\n",
    "                         num_clusters = 50,  # Define the number of clusters\n",
    "                         seed=42,  # Set the random seed for reproducibility\n",
    "                         initialcentroids_method= 'KMEANS++',  # Choose the method for initial centroids\n",
    "                     volatile  = True  # Set volatility to True or False\n",
    "                        )\n",
    "\n",
    "KMeans_obj.result"
   ]
  },
  {
   "cell_type": "markdown",
   "id": "1dc1a304",
   "metadata": {},
   "source": [
    "<details>\n",
    "  <summary style=\"font-weight:bold; color:#9b870c;\">Hint</summary>\n",
    "  <div style=\"background-color:#fff9db; padding:10px; border-radius:5px; margin-top:5px;\">\n",
    "Ensure you understand the parameters required for initializing a KMeans object. You need to specify the data, ID column, target columns, number of clusters, random seed, method for initial centroids, and whether the operation is volatile. The target columns are those columns used for calculating the cluster model\n",
    "  </div>\n",
    "</details>"
   ]
  },
  {
   "cell_type": "markdown",
   "id": "0cc6c05f",
   "metadata": {},
   "source": [
    "<details>\n",
    "  <summary style=\"font-weight:bold; color:#0c9b3b;\">Solution</summary>\n",
    "  <div style=\"background-color:#dbffdb; padding:10px; border-radius:5px; margin-top:5px;\">\n",
    "\n",
    "```python\n",
    "KMeans_obj = tdml.KMeans(data = DF_input_clustering, \n",
    "                        id_column = \"Customer_Id\",\n",
    "                         target_columns = ['pc_1', 'pc_2', 'pc_3', 'pc_4', 'pc_5', 'pc_6', 'pc_7', 'pc_8', 'pc_9', 'pc_10'],\n",
    "                         num_clusters = 50,\n",
    "                         seed=42,\n",
    "                         initialcentroids_method= 'KMEANS++',\n",
    "                     volatile  = True\n",
    "                        )\n",
    "\n",
    "KMeans_obj.result\n",
    "```\n",
    "  </div>\n",
    "</details>"
   ]
  },
  {
   "cell_type": "markdown",
   "id": "5e4796c4",
   "metadata": {},
   "source": [
    "<div style=\" border-radius: 0 0 15px 15px ; background: #a8d5e2; padding: 10px;\"></div><br><br>"
   ]
  },
  {
   "cell_type": "markdown",
   "id": "ab3958e1",
   "metadata": {},
   "source": [
    "This code cell predicts the cluster assignments for the data in DF_input_clustering using the KMeans clustering model created in the previous cell. It prints the shape of the resulting DataFrame and displays the DataFrame with cluster assignments."
   ]
  },
  {
   "cell_type": "markdown",
   "id": "b1d962e4",
   "metadata": {},
   "source": [
    "<br><br><div style=\" border-radius: 15px 15px 0 0; background: #a8d5e2; padding: 10px;\"></div>"
   ]
  },
  {
   "cell_type": "code",
   "execution_count": null,
   "id": "efa9fd95",
   "metadata": {},
   "outputs": [],
   "source": [
    "Kmeans_pred = tdml.KMeansPredict(\n",
    "    data = ___,  # Provide the input data for clustering, same as for fitting the model.\n",
    "    object = ___,  # Use the result from the KMeans object\n",
    "    volatile = True \n",
    ")\n",
    "\n",
    "DF_clusterassignment = Kmeans_pred.result\n",
    "\n",
    "print(DF_clusterassignment.shape)  # Print the shape of the result\n",
    "\n",
    "DF_clusterassignment"
   ]
  },
  {
   "cell_type": "markdown",
   "id": "c5c7ae85",
   "metadata": {},
   "source": [
    "<details>\n",
    "  <summary style=\"font-weight:bold; color:#9b870c;\">Hint</summary>\n",
    "  <div style=\"background-color:#fff9db; padding:10px; border-radius:5px; margin-top:5px;\">\n",
    "Ensure you pass the correct data and KMeans object to the `KMeansPredict` function. The `volatile` parameter is a boolean, and you need to print the shape of the DataFrame using the appropriate attribute.\n",
    "  </div>\n",
    "</details>"
   ]
  },
  {
   "cell_type": "markdown",
   "id": "25d5f624",
   "metadata": {},
   "source": [
    "<details>\n",
    "  <summary style=\"font-weight:bold; color:#0c9b3b;\">Solution</summary>\n",
    "  <div style=\"background-color:#dbffdb; padding:10px; border-radius:5px; margin-top:5px;\">\n",
    "\n",
    "```python\n",
    "Kmeans_pred = tdml.KMeansPredict(\n",
    "    data = DF_input_clustering,\n",
    "      object=KMeans_obj.result,\n",
    "       volatile = True\n",
    "              )\n",
    "\n",
    "DF_clusterassignment = Kmeans_pred.result\n",
    "\n",
    "print(DF_clusterassignment.shape)\n",
    "\n",
    "DF_clusterassignment\n",
    "```\n",
    "  </div>\n",
    "</details>"
   ]
  },
  {
   "cell_type": "markdown",
   "id": "030143de",
   "metadata": {},
   "source": [
    "<div style=\" border-radius: 0 0 15px 15px ; background: #a8d5e2; padding: 10px;\"></div><br><br>"
   ]
  },
  {
   "cell_type": "markdown",
   "id": "788bfe69-4189-4e02-9b0d-a7b8da084e70",
   "metadata": {},
   "source": [
    "## Random Samples from each Cluster"
   ]
  },
  {
   "cell_type": "markdown",
   "id": "b66b967c",
   "metadata": {},
   "source": [
    "This code cell retrieves the name of the cluster assignment table, creates a DataFrame with a sample of 5 rows per cluster, sorts the sample by cluster ID and customer ID, and then groups the sample by cluster ID and counts the number of rows in each cluster."
   ]
  },
  {
   "cell_type": "markdown",
   "id": "dfd2080f",
   "metadata": {},
   "source": [
    "<br><br><div style=\" border-radius: 15px 15px 0 0; background: #a8d5e2; padding: 10px;\"></div>"
   ]
  },
  {
   "cell_type": "code",
   "execution_count": null,
   "id": "3906978f",
   "metadata": {},
   "outputs": [],
   "source": [
    "cluster_table_name = DF_clusterassignment.db_object_name  # Access the db_object_name attribute\n",
    "print(cluster_table_name)\n",
    "\n",
    "DF_sample = tdml.DataFrame.from_query(f\"\"\"\n",
    "SELECT *\n",
    "FROM {cluster_table_name}\n",
    "QUALIFY ROW_NUMBER() OVER (PARTITION BY ___ ORDER BY HASHAMP(HASHBUCKET(HASHROW(Customer_Id || 'myseed1')))) <= 5;\n",
    "\"\"\")\n",
    "\n",
    "DF_sample.sort([\"td_clusterid_kmeans\", \"Customer_Id\"])  # Sort by cluster ID and Customer_Id\n",
    "\n",
    "DF_sample.groupby(\"td_clusterid_kmeans\").count()  # Group by cluster ID and count"
   ]
  },
  {
   "cell_type": "markdown",
   "id": "7422d987",
   "metadata": {},
   "source": [
    "<details>\n",
    "  <summary style=\"font-weight:bold; color:#9b870c;\">Hint</summary>\n",
    "  <div style=\"background-color:#fff9db; padding:10px; border-radius:5px; margin-top:5px;\">\n",
    "\n",
    " The `PARTITION BY` clause in SQL is used to define how the data is divided into partitions. Use the column that represents the cluster ID.\n",
    "\n",
    "  </div>\n",
    "</details>"
   ]
  },
  {
   "cell_type": "markdown",
   "id": "da5f2104",
   "metadata": {},
   "source": [
    "<details>\n",
    "  <summary style=\"font-weight:bold; color:#0c9b3b;\">Solution</summary>\n",
    "  <div style=\"background-color:#dbffdb; padding:10px; border-radius:5px; margin-top:5px;\">\n",
    "\n",
    "```python\n",
    "cluster_table_name = DF_clusterassignment.db_object_name\n",
    "print(cluster_table_name)\n",
    "\n",
    "DF_sample = tdml.DataFrame.from_query(f\"\"\"\n",
    "SELECT *\n",
    "FROM {cluster_table_name}\n",
    "QUALIFY ROW_NUMBER() OVER (PARTITION BY td_clusterid_kmeans ORDER BY HASHAMP(HASHBUCKET(HASHROW(Customer_Id || 'myseed1')))) <= 5;\n",
    "\"\"\")\n",
    "\n",
    "DF_sample.sort([\"td_clusterid_kmeans\",\"Customer_Id\"])\n",
    "\n",
    "DF_sample.groupby(\"td_clusterid_kmeans\").count()\n",
    "```\n",
    "  </div>\n",
    "</details>"
   ]
  },
  {
   "cell_type": "markdown",
   "id": "20ca8fde",
   "metadata": {},
   "source": [
    "<div style=\" border-radius: 0 0 15px 15px ; background: #a8d5e2; padding: 10px;\"></div><br><br>"
   ]
  },
  {
   "cell_type": "markdown",
   "id": "1f8fb051-df71-4c68-a745-631edefd5fd1",
   "metadata": {},
   "source": [
    "# clean up db & remove context"
   ]
  },
  {
   "cell_type": "markdown",
   "id": "033b7b0c",
   "metadata": {},
   "source": [
    "This code cell iterates through a list of database objects and attempts to drop tables and views with those names. It prints a message for each object deleted."
   ]
  },
  {
   "cell_type": "code",
   "execution_count": null,
   "id": "e5a75f42-2e8e-4b4f-b74e-8ab701d44b2a",
   "metadata": {},
   "outputs": [],
   "source": [
    "db_obj_list = [\n",
    " 'Account_Customer_Map',\n",
    " 'Account_Dim',\n",
    " 'Balance_Fact',\n",
    " 'Customer_Details',\n",
    " 'Customer_Dim',\n",
    " 'Interaction_Fact',\n",
    " 'Master_Table',\n",
    " 'Transaction_Fact',\n",
    " 'cluster_input',\n",
    " 'customer_BEZH_EN',\n",
    " 'master_filter',\n",
    " 'quality_customerdetails',\n",
    " 'waterfall_base'\n",
    "]\n",
    "\n",
    "for torv in db_obj_list:\n",
    "    try:\n",
    "        tdml.db_drop_table(torv)\n",
    "        print(f\"Table {torv} deleted.\")\n",
    "    except:\n",
    "        pass\n",
    "    try:\n",
    "        tdml.db_drop_view(torv)\n",
    "        print(f\"View {torv} deleted.\")\n",
    "    except:\n",
    "        pass"
   ]
  },
  {
   "cell_type": "markdown",
   "id": "f69a5d04",
   "metadata": {},
   "source": [
    "This code removes the current active context in Teradata."
   ]
  },
  {
   "cell_type": "code",
   "execution_count": null,
   "id": "6c28692f-0549-4456-8137-d83bc253000c",
   "metadata": {},
   "outputs": [],
   "source": [
    "tdml.remove_context()"
   ]
  }
 ],
 "metadata": {
  "kernelspec": {
   "display_name": "Python 3 (ipykernel)",
   "language": "python",
   "name": "python3"
  },
  "language_info": {
   "codemirror_mode": {
    "name": "ipython",
    "version": 3
   },
   "file_extension": ".py",
   "mimetype": "text/x-python",
   "name": "python",
   "nbconvert_exporter": "python",
   "pygments_lexer": "ipython3",
   "version": "3.12.0"
  }
 },
 "nbformat": 4,
 "nbformat_minor": 5
}
