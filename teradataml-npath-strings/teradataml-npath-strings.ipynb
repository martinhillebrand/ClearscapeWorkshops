{
 "cells": [
  {
   "cell_type": "markdown",
   "id": "a844bf2e-469f-49cd-bc78-49fcc220ba10",
   "metadata": {},
   "source": [
    "# Workshop: `teradataml`, NPath & String Manipulation for Feature Extraction"
   ]
  },
  {
   "cell_type": "code",
   "execution_count": null,
   "id": "b1e47ce7-05fe-4e02-a058-4374641e36a0",
   "metadata": {},
   "outputs": [],
   "source": [
    "!pip install teradataml --upgrade"
   ]
  },
  {
   "cell_type": "code",
   "execution_count": null,
   "id": "a4b6122a-f463-4a04-b471-9d87bf5681f3",
   "metadata": {},
   "outputs": [],
   "source": [
    "!pip install teradataml --upgrade\n",
    "try:\n",
    "    import tdprepview\n",
    "except ImportError:\n",
    "    !pip install tdprepview\n",
    "    import tdprepview"
   ]
  },
  {
   "cell_type": "markdown",
   "id": "1ff191cc-46b9-41d0-ba87-61f113e09f0a",
   "metadata": {},
   "source": [
    "# Database connection and synthetic upload"
   ]
  },
  {
   "cell_type": "markdown",
   "id": "e1b47273-952a-47fb-8858-08352ddf29a0",
   "metadata": {},
   "source": [
    "## Database Connection"
   ]
  },
  {
   "cell_type": "markdown",
   "id": "656811cb-fc61-4964-950d-086d061417ef",
   "metadata": {},
   "source": [
    "This code cell imports the teradataml package, prints its version, and creates a context for connecting to a Teradata database."
   ]
  },
  {
   "cell_type": "markdown",
   "id": "5849544e-bfed-4cfe-b838-2f7316bd6ce3",
   "metadata": {},
   "source": [
    "<br><br><div style=\" border-radius: 15px 15px 0 0; background: #a8d5e2; padding: 10px;\"></div>"
   ]
  },
  {
   "cell_type": "code",
   "execution_count": null,
   "id": "7e30b106-c94d-4cef-b342-532cfb07ffe1",
   "metadata": {},
   "outputs": [],
   "source": [
    "import teradataml as tdml\n",
    "print(tdml.__version__)\n",
    "tdml.create_context(host=\"___\", username=\"demo_user\", password=\"___\")"
   ]
  },
  {
   "cell_type": "markdown",
   "id": "f2f6cb02-5870-44d7-a55a-58b1d981caa3",
   "metadata": {},
   "source": [
    "<details>\n",
    "  <summary style=\"font-weight:bold; color:#9b870c;\">Hint</summary>\n",
    "  <div style=\"background-color:#fff9db; padding:10px; border-radius:5px; margin-top:5px;\">\n",
    "To create a context, you need to provide the server URL, username, and the database name. These are required to establish a connection to the Teradata environment.\n",
    "  </div>\n",
    "</details>"
   ]
  },
  {
   "cell_type": "markdown",
   "id": "b864ec50-4204-431d-a626-cc81b01da6e2",
   "metadata": {},
   "source": [
    "<details>\n",
    "  <summary style=\"font-weight:bold; color:#0c9b3b;\">Solution</summary>\n",
    "  <div style=\"background-color:#dbffdb; padding:10px; border-radius:5px; margin-top:5px;\">\n",
    "\n",
    "```python\n",
    "import teradataml as tdml\n",
    "print(tdml.__version__)\n",
    "tdml.create_context(\"see at the clearscape dashboard\",\n",
    "                    \"demo_user\", \"only you know :)\")\n",
    "```\n",
    "  </div>\n",
    "</details>"
   ]
  },
  {
   "cell_type": "markdown",
   "id": "f95f65e9-da41-4a75-a5c7-f5c522726670",
   "metadata": {},
   "source": [
    "<div style=\" border-radius: 0 0 15px 15px ; background: #a8d5e2; padding: 10px;\"></div><br><br>"
   ]
  },
  {
   "cell_type": "markdown",
   "id": "4a4986a9-2c48-41e0-9fb6-c6b8bbdc0302",
   "metadata": {},
   "source": [
    "## Data Upload"
   ]
  },
  {
   "cell_type": "markdown",
   "id": "3f2428d6-3cf5-42d4-95eb-6e293dfb2092",
   "metadata": {},
   "source": [
    "This code cell runs a notebook to generate data tables, uploads the tables to the Teradata database, and checks the data types of the tables."
   ]
  },
  {
   "cell_type": "code",
   "execution_count": null,
   "id": "23566bf3-b67b-4ee8-8e50-24d142c60923",
   "metadata": {},
   "outputs": [],
   "source": [
    "%run tables-ddls-banking.ipynb #  generates the data\n",
    "\n",
    "my_tables_dict = {\n",
    "        \"Customer_Dim\": customer_dim,\n",
    "        \"Account_Dim\": account_dim,\n",
    "        \"Account_Customer_Map\": account_customer_map,\n",
    "        \"Transaction_Fact\": transaction_fact,\n",
    "        \"Balance_Fact\": balance_fact,\n",
    "        \"Interaction_Fact\": interaction_fact,\n",
    "        \"Master_Table\": master_table,\n",
    "        \"Customer_Details\":customer_details\n",
    "    }\n",
    "\n",
    "#upload\n",
    "import warnings\n",
    "warnings.filterwarnings('ignore', category=FutureWarning)\n",
    "for tablename, table in my_tables_dict.items():\n",
    "    tdml.copy_to_sql(table, tablename,if_exists=\"replace\",primary_index= table.columns[0])\n",
    "    print(tablename, \" uploaded\")\n",
    "\n",
    "# check tdtypes\n",
    "types_dict = {}\n",
    "for tablename in my_tables_dict.keys():\n",
    "    types_dict[tablename] = tdml.DataFrame(tablename).tdtypes._column_names_and_types"
   ]
  },
  {
   "cell_type": "markdown",
   "id": "10ce4b48-1930-4402-bc22-dc1d2acda556",
   "metadata": {},
   "source": [
    "## Function for pretty printing SQLs"
   ]
  },
  {
   "cell_type": "markdown",
   "id": "dfe3e3a7-b57d-4dcf-961b-73c790c1c07e",
   "metadata": {},
   "source": [
    "This code cell defines a function `prettyprint_sql` that formats SQL queries for better readability."
   ]
  },
  {
   "cell_type": "code",
   "execution_count": null,
   "id": "ee3acc64-0aeb-476a-9600-308b1f779411",
   "metadata": {},
   "outputs": [],
   "source": [
    "import sqlparse\n",
    "def prettyprint_sql(query):\n",
    "    print(sqlparse.format(\n",
    "            query,\n",
    "            reindent=True, \n",
    "            keyword_case='upper'\n",
    "    ))"
   ]
  },
  {
   "cell_type": "markdown",
   "id": "390424a3-cb57-43db-9019-7c1aa6d23c74",
   "metadata": {},
   "source": [
    "## Inspect Data"
   ]
  },
  {
   "cell_type": "code",
   "execution_count": null,
   "id": "e76376b2-9c2a-480a-9296-b0bfd4dcf3c5",
   "metadata": {},
   "outputs": [],
   "source": [
    "import ipywidgets as widgets\n",
    "from IPython.display import display\n",
    "import pandas as pd\n",
    "\n",
    "def display_dataframes_in_tabs(table_names):\n",
    "    # Temporarily set pandas display options to ensure all columns are visible\n",
    "    with pd.option_context('display.max_columns', None):\n",
    "        # Create a list to hold each tab's contents and their titles\n",
    "        tab_contents = []\n",
    "        tab_titles = table_names\n",
    "        \n",
    "        for table_name in table_names:\n",
    "            # Get the first ten rows of the DataFrame\n",
    "            df_head = tdml.DataFrame(table_name)\n",
    "            table_output = widgets.Output()  # Create an output widget for the table\n",
    "            with table_output:\n",
    "                display(df_head)  # Display the DataFrame inside the output widget\n",
    "            tab_contents.append(table_output)  # Add to tab contents list\n",
    "\n",
    "        # Create the tabs widget\n",
    "        tabs = widgets.Tab(children=tab_contents)\n",
    "        \n",
    "        # Set tab titles\n",
    "        for i, title in enumerate(tab_titles):\n",
    "            tabs.set_title(i, title)\n",
    "\n",
    "        # Display the tabs\n",
    "        display(tabs)"
   ]
  },
  {
   "cell_type": "code",
   "execution_count": null,
   "id": "136b9a44-b4ca-45c2-b815-26bee7d89ea8",
   "metadata": {},
   "outputs": [],
   "source": [
    "display_dataframes_in_tabs(my_tables_dict.keys())"
   ]
  },
  {
   "cell_type": "markdown",
   "id": "daef6875",
   "metadata": {},
   "source": [
    "<br><br><div style=\"border-radius: 15px 15px 0 0; background: #a8d5e2; padding: 10px;\"></div>"
   ]
  },
  {
   "cell_type": "code",
   "execution_count": null,
   "id": "2c74b977",
   "metadata": {},
   "outputs": [],
   "source": [
    "display_dataframes_in_tabs(___.___)  # Call the function with the keys of my_tables_dict"
   ]
  },
  {
   "cell_type": "markdown",
   "id": "2c8ad3d9",
   "metadata": {},
   "source": [
    "<details>\n",
    "  <summary style=\"font-weight:bold; color:#9b870c;\">Hint</summary>\n",
    "  <div style=\"background-color:#fff9db; padding:10px; border-radius:5px; margin-top:5px;\">\n",
    "\n",
    "1. Hint: Use the dictionary containing your table names.\n",
    "2. Hint: Use the keys() function to get all table names as list.\n",
    "  </div>\n",
    "</details>"
   ]
  },
  {
   "cell_type": "markdown",
   "id": "2b6be3cf",
   "metadata": {},
   "source": [
    "<details>\n",
    "  <summary style=\"font-weight:bold; color:#0c9b3b;\">Solution</summary>\n",
    "  <div style=\"background-color:#dbffdb; padding:10px; border-radius:5px; margin-top:5px;\">\n",
    "\n",
    "```python\n",
    "display_dataframes_in_tabs(my_tables_dict.keys())\n",
    "```\n",
    "  </div>\n",
    "</details>"
   ]
  },
  {
   "cell_type": "markdown",
   "id": "ddcbc078",
   "metadata": {},
   "source": [
    "<div style=\" border-radius: 0 0 15px 15px ; background: #a8d5e2; padding: 10px;\"></div><br><br>"
   ]
  },
  {
   "cell_type": "markdown",
   "id": "27b110a6-1d74-4537-9324-84bdebe14cde",
   "metadata": {},
   "source": [
    "# Introduction to Python Client teradataml & tdml DataFrames"
   ]
  },
  {
   "cell_type": "markdown",
   "id": "01cd6499-b21d-4c0a-b337-6fe4563f52f3",
   "metadata": {},
   "source": [
    "## teradataml DataFrame Creation + Properties\n"
   ]
  },
  {
   "cell_type": "markdown",
   "id": "fbe1098d-b28b-45e9-b28a-3283371e245e",
   "metadata": {},
   "source": [
    "This code cell imports the teradataml package."
   ]
  },
  {
   "cell_type": "code",
   "execution_count": null,
   "id": "9398f748-a16c-4cd5-86f5-8829b6eb44d5",
   "metadata": {},
   "outputs": [],
   "source": [
    "import teradataml as tdml"
   ]
  },
  {
   "cell_type": "markdown",
   "id": "411eb225-6648-4ddb-89d3-89c9f917d701",
   "metadata": {},
   "source": [
    "This code cell creates DataFrame objects from tables in the Teradata database, including creating from table name in the default database, from a query, and from a table in a non-default database. It also inspects the created DataFrame objects."
   ]
  },
  {
   "cell_type": "markdown",
   "id": "70760c34-391d-4c35-ae7f-8c43a02438f5",
   "metadata": {},
   "source": [
    "<br><br><div style=\" border-radius: 15px 15px 0 0; background: #a8d5e2; padding: 10px;\"></div>"
   ]
  },
  {
   "cell_type": "code",
   "execution_count": null,
   "id": "ebd65d47-d737-428e-8b3e-7eb74453b2f4",
   "metadata": {},
   "outputs": [],
   "source": [
    "#create from tablename in current default database\n",
    "DF_Customer_Dim = tdml.DataFrame(\"___\")  # Specify the table name\n",
    "\n",
    "#create from query\n",
    "DF_Account_Dim = tdml.DataFrame.from_query(\"SELECT * FROM ___\")  # Complete the query with the table name\n",
    "\n",
    "#create from tablename in non-default database, this is preferred\n",
    "DF_Account_Customer_Map = tdml.DataFrame(tdml.in_schema(\"___\", \"___\"))  # Specify the schema and table name\n",
    "\n",
    "# inspect\n",
    "DF_Customer_Dim"
   ]
  },
  {
   "cell_type": "markdown",
   "id": "65233ce7-584a-4f2d-a546-0d4f8d52ca00",
   "metadata": {},
   "source": [
    "<details>\n",
    "  <summary style=\"font-weight:bold; color:#9b870c;\">Hint</summary>\n",
    "  <div style=\"background-color:#fff9db; padding:10px; border-radius:5px; margin-top:5px;\">\n",
    "For each DataFrame creation, ensure you specify the correct table name or schema. The first DataFrame is created directly from a table name, the second from a SQL query, and the third from a table in a specified schema.\n",
    "  </div>\n",
    "</details>"
   ]
  },
  {
   "cell_type": "markdown",
   "id": "92ec715d-b194-487b-9158-8801ed50b6cb",
   "metadata": {},
   "source": [
    "<details>\n",
    "  <summary style=\"font-weight:bold; color:#0c9b3b;\">Solution</summary>\n",
    "  <div style=\"background-color:#dbffdb; padding:10px; border-radius:5px; margin-top:5px;\">\n",
    "\n",
    "```python\n",
    "#create from tablename in current default database\n",
    "DF_Customer_Dim = tdml.DataFrame(\"Customer_Dim\")\n",
    "\n",
    "#create from query\n",
    "DF_Account_Dim= tdml.DataFrame.from_query(\"SELECT * FROM Account_Dim\")\n",
    "\n",
    "#create from tablename in non-default database, this is preferred\n",
    "DF_Account_Customer_Map = tdml.DataFrame(tdml.in_schema(\"demo_user\", \"Account_Customer_Map\" ))\n",
    "\n",
    "# inspect\n",
    "DF_Customer_Dim\n",
    "```\n",
    "  </div>\n",
    "</details>"
   ]
  },
  {
   "cell_type": "markdown",
   "id": "3c38eda1-69da-40e9-9307-b5189906df58",
   "metadata": {},
   "source": [
    "<div style=\" border-radius: 0 0 15px 15px ; background: #a8d5e2; padding: 10px;\"></div><br><br>"
   ]
  },
  {
   "cell_type": "markdown",
   "id": "7d71ae62-6204-4ded-b297-a437cd27dff3",
   "metadata": {},
   "source": [
    "***DataFrame Properties***"
   ]
  },
  {
   "cell_type": "markdown",
   "id": "95b9926e-0b00-4723-b7ca-83f64aa6bd46",
   "metadata": {},
   "source": [
    "This code cell retrieves the shape of the DataFrame DF_Customer_Dim."
   ]
  },
  {
   "cell_type": "markdown",
   "id": "0772783a-fa54-4d7d-a597-84622dfb55ac",
   "metadata": {},
   "source": [
    "<br><br><div style=\" border-radius: 15px 15px 0 0; background: #a8d5e2; padding: 10px;\"></div>"
   ]
  },
  {
   "cell_type": "code",
   "execution_count": null,
   "id": "0e3e8244-620e-4fc2-b60b-c29e1c8dc17e",
   "metadata": {},
   "outputs": [],
   "source": [
    "DF_Customer_Dim.___  # Access the shape attribute of the DataFrame"
   ]
  },
  {
   "cell_type": "markdown",
   "id": "1e489087-e0fe-4507-8fc6-b77154f59b82",
   "metadata": {},
   "source": [
    "<details>\n",
    "  <summary style=\"font-weight:bold; color:#9b870c;\">Hint</summary>\n",
    "  <div style=\"background-color:#fff9db; padding:10px; border-radius:5px; margin-top:5px;\">\n",
    "To find the dimensions of a DataFrame, use the `.shape` attribute. \n",
    "  </div>\n",
    "</details>"
   ]
  },
  {
   "cell_type": "markdown",
   "id": "f3c5ec4b-77db-4c48-a273-1de22162b3dc",
   "metadata": {},
   "source": [
    "<details>\n",
    "  <summary style=\"font-weight:bold; color:#0c9b3b;\">Solution</summary>\n",
    "  <div style=\"background-color:#dbffdb; padding:10px; border-radius:5px; margin-top:5px;\">\n",
    "\n",
    "```python\n",
    "DF_Customer_Dim.shape\n",
    "```\n",
    "  </div>\n",
    "</details>"
   ]
  },
  {
   "cell_type": "markdown",
   "id": "129b51b4-21b4-440c-a6b6-be33ea713626",
   "metadata": {},
   "source": [
    "<div style=\" border-radius: 0 0 15px 15px ; background: #a8d5e2; padding: 10px;\"></div><br><br>"
   ]
  },
  {
   "cell_type": "markdown",
   "id": "83bf420b-3575-4135-aac1-5f7a1ea19d0f",
   "metadata": {},
   "source": [
    "This code cell retrieves the column names of the DataFrame DF_Customer_Dim."
   ]
  },
  {
   "cell_type": "markdown",
   "id": "3412a68d-dfea-4807-b438-fcc780a9da04",
   "metadata": {},
   "source": [
    "<br><br><div style=\" border-radius: 15px 15px 0 0; background: #a8d5e2; padding: 10px;\"></div>"
   ]
  },
  {
   "cell_type": "code",
   "execution_count": null,
   "id": "da2a41b0-dac3-42d4-a12d-14ec748c31f4",
   "metadata": {},
   "outputs": [],
   "source": [
    "DF_Customer_Dim.___  # Access the columns attribute of the DataFrame"
   ]
  },
  {
   "cell_type": "markdown",
   "id": "56e2c2f1-b36f-40ee-aa0f-2c1413253b3a",
   "metadata": {},
   "source": [
    "<details>\n",
    "  <summary style=\"font-weight:bold; color:#9b870c;\">Hint</summary>\n",
    "  <div style=\"background-color:#fff9db; padding:10px; border-radius:5px; margin-top:5px;\">\n",
    "To view the column names of a DataFrame, use the `columns` attribute. This attribute does not require parentheses as it is not a method.\n",
    "  </div>\n",
    "</details>"
   ]
  },
  {
   "cell_type": "markdown",
   "id": "79ee48c1-b2dd-4edf-8de8-624d384b0903",
   "metadata": {},
   "source": [
    "<details>\n",
    "  <summary style=\"font-weight:bold; color:#0c9b3b;\">Solution</summary>\n",
    "  <div style=\"background-color:#dbffdb; padding:10px; border-radius:5px; margin-top:5px;\">\n",
    "\n",
    "```python\n",
    "DF_Customer_Dim.columns\n",
    "```\n",
    "  </div>\n",
    "</details>"
   ]
  },
  {
   "cell_type": "markdown",
   "id": "cc362756-fc93-4ff3-80c6-239aaf469311",
   "metadata": {},
   "source": [
    "<div style=\" border-radius: 0 0 15px 15px ; background: #a8d5e2; padding: 10px;\"></div><br><br>"
   ]
  },
  {
   "cell_type": "markdown",
   "id": "a16e7238-4770-4df8-b8bb-2df7538060f4",
   "metadata": {},
   "source": [
    "This code cell retrieves the data types of each column in the DataFrame DF_Customer_Dim."
   ]
  },
  {
   "cell_type": "markdown",
   "id": "d70ba1c9-2a94-4caf-bc45-fc4a4def7603",
   "metadata": {},
   "source": [
    "<br><br><div style=\" border-radius: 15px 15px 0 0; background: #a8d5e2; padding: 10px;\"></div>"
   ]
  },
  {
   "cell_type": "code",
   "execution_count": null,
   "id": "e87b5922-2eb2-4270-aa48-54a158837666",
   "metadata": {},
   "outputs": [],
   "source": [
    "DF_Customer_Dim.___  # Check the data types of the DataFrame columns"
   ]
  },
  {
   "cell_type": "markdown",
   "id": "041fbcf9-bad0-4f4b-8de2-8fc735bef422",
   "metadata": {},
   "source": [
    "<details>\n",
    "  <summary style=\"font-weight:bold; color:#9b870c;\">Hint</summary>\n",
    "  <div style=\"background-color:#fff9db; padding:10px; border-radius:5px; margin-top:5px;\">\n",
    "Use the `dtypes` attribute to view the data types of each column in a DataFrame.\n",
    "  </div>\n",
    "</details>"
   ]
  },
  {
   "cell_type": "markdown",
   "id": "03181980-81ca-46d0-84b8-7120b592ae38",
   "metadata": {},
   "source": [
    "<details>\n",
    "  <summary style=\"font-weight:bold; color:#0c9b3b;\">Solution</summary>\n",
    "  <div style=\"background-color:#dbffdb; padding:10px; border-radius:5px; margin-top:5px;\">\n",
    "\n",
    "```python\n",
    "DF_Customer_Dim.dtypes\n",
    "```\n",
    "  </div>\n",
    "</details>"
   ]
  },
  {
   "cell_type": "markdown",
   "id": "2c9919a7-e7c9-4310-8d43-40a41865c707",
   "metadata": {},
   "source": [
    "<div style=\" border-radius: 0 0 15px 15px ; background: #a8d5e2; padding: 10px;\"></div><br><br>"
   ]
  },
  {
   "cell_type": "markdown",
   "id": "ab9bb381-c587-4fbe-8739-d234805cccb7",
   "metadata": {},
   "source": [
    "This code cell attempts to retrieve the Teradata data types of the columns in the DataFrame DF_Customer_Dim."
   ]
  },
  {
   "cell_type": "markdown",
   "id": "ddd5741e-f491-4523-a8b2-36fcc3a983d0",
   "metadata": {},
   "source": [
    "<br><br><div style=\" border-radius: 15px 15px 0 0; background: #a8d5e2; padding: 10px;\"></div>"
   ]
  },
  {
   "cell_type": "code",
   "execution_count": null,
   "id": "7ae0005b-64c7-412a-b885-305c2dfa678e",
   "metadata": {},
   "outputs": [],
   "source": [
    "DF_Customer_Dim.___  # Use the appropriate method to check the Teradata data types of the DataFrame"
   ]
  },
  {
   "cell_type": "markdown",
   "id": "e9e01afa-2e93-49ce-b23c-46ce9295753f",
   "metadata": {},
   "source": [
    "<details>\n",
    "  <summary style=\"font-weight:bold; color:#9b870c;\">Hint</summary>\n",
    "  <div style=\"background-color:#fff9db; padding:10px; border-radius:5px; margin-top:5px;\">\n",
    "To check the Teradata data types of each column in a DataFrame, use the property (tdtypes) that provides this information. \n",
    "  </div>\n",
    "</details>"
   ]
  },
  {
   "cell_type": "markdown",
   "id": "afa194e6-51c4-4ad1-8465-27d2f10bc962",
   "metadata": {},
   "source": [
    "<details>\n",
    "  <summary style=\"font-weight:bold; color:#0c9b3b;\">Solution</summary>\n",
    "  <div style=\"background-color:#dbffdb; padding:10px; border-radius:5px; margin-top:5px;\">\n",
    "\n",
    "```python\n",
    "DF_Customer_Dim.tdtypes\n",
    "```\n",
    "  </div>\n",
    "</details>"
   ]
  },
  {
   "cell_type": "markdown",
   "id": "fa8e5c9a-f45a-460f-9c6b-c6068e803a8b",
   "metadata": {},
   "source": [
    "<div style=\" border-radius: 0 0 15px 15px ; background: #a8d5e2; padding: 10px;\"></div><br><br>"
   ]
  },
  {
   "cell_type": "markdown",
   "id": "8bc247fe-8d1a-4dce-b7c8-cc687f4635a0",
   "metadata": {},
   "source": [
    "## SQL within Python (1): dynamic query building using format strings & `tdml.DataFrame.from_query()` "
   ]
  },
  {
   "cell_type": "markdown",
   "id": "146d6af9-3ce8-48ee-a0a3-b03c80eb3b4d",
   "metadata": {},
   "source": [
    "This code cell constructs a SQL query using format strings and a list of conditions. The final query is printed and executed using the teradataml package."
   ]
  },
  {
   "cell_type": "markdown",
   "id": "9a536f3b-a784-418e-9594-c3751748f42b",
   "metadata": {},
   "source": [
    "<br><br><div style=\" border-radius: 15px 15px 0 0; background: #a8d5e2; padding: 10px;\"></div>"
   ]
  },
  {
   "cell_type": "code",
   "execution_count": null,
   "id": "dcdbd3a0-6140-4350-8e54-cf43312272de",
   "metadata": {},
   "outputs": [],
   "source": [
    "# use format strings to construct queries\n",
    "query_f = \"SELECT Customer_Id FROM Customer_Dim WHERE {conditions} \"\n",
    "conditions_list = [\"Preferred_Language_Code = 'EN' \",\n",
    "                          \"Region IS IN ('BE', 'ZH') \"]\n",
    "\n",
    "query_final = query_f.format(conditions= \" AND \".join(___))  # Join conditions with 'AND'\n",
    "\n",
    "prettyprint_sql(___)  # Pretty print the final query\n",
    "\n",
    "tdml.DataFrame.from_query(___)  # Create DataFrame from the query"
   ]
  },
  {
   "cell_type": "markdown",
   "id": "565f9c64-e69f-45c9-ac30-1be3ff2a6aeb",
   "metadata": {},
   "source": [
    "<details>\n",
    "  <summary style=\"font-weight:bold; color:#9b870c;\">Hint</summary>\n",
    "  <div style=\"background-color:#fff9db; padding:10px; border-radius:5px; margin-top:5px;\">\n",
    "To construct the final query, you need to join the conditions in `conditions_list` with 'AND'. Then, use the `prettyprint_sql` function to display the query and `tdml.DataFrame.from_query` to execute it.\n",
    "  </div>\n",
    "</details>"
   ]
  },
  {
   "cell_type": "markdown",
   "id": "ab6ac3d5-6be3-4ce3-9bbc-992722c53f84",
   "metadata": {},
   "source": [
    "<details>\n",
    "  <summary style=\"font-weight:bold; color:#0c9b3b;\">Solution</summary>\n",
    "  <div style=\"background-color:#dbffdb; padding:10px; border-radius:5px; margin-top:5px;\">\n",
    "\n",
    "```python\n",
    "# use format strings to construct queries\n",
    "query_f = \"SELECT Customer_Id FROM Customer_Dim WHERE {conditions} \"\n",
    "conditions_list = [\"Preferred_Language_Code = 'EN' \",\n",
    "                          \"Region IS IN ('BE', 'ZH') \"]\n",
    "\n",
    "query_final = query_f.format(conditions= \" AND \".join(conditions_list))\n",
    "\n",
    "prettyprint_sql(query_final)\n",
    "\n",
    "tdml.DataFrame.from_query(query_final)\n",
    "```\n",
    "  </div>\n",
    "</details>"
   ]
  },
  {
   "cell_type": "markdown",
   "id": "e903dd79-db56-4aa3-bd03-5f87ea8fdbb7",
   "metadata": {},
   "source": [
    "<div style=\" border-radius: 0 0 15px 15px ; background: #a8d5e2; padding: 10px;\"></div><br><br>"
   ]
  },
  {
   "cell_type": "markdown",
   "id": "ef3338a5-ec08-4f97-b8c7-895b3e8895ad",
   "metadata": {},
   "source": [
    "## Filtering DataFrames"
   ]
  },
  {
   "cell_type": "markdown",
   "id": "d6db72ba-c26c-4010-bb99-4146f38553ec",
   "metadata": {},
   "source": [
    "This code filters the `DF_Customer_Dim` DataFrame based on the conditions that the Preferred Language Code is \"EN\" and the Region is either \"BE\" or \"ZH\". It then selects only the Customer_Id column and stores the result in `DF_myfilter`."
   ]
  },
  {
   "cell_type": "markdown",
   "id": "f678b5ac-6e1b-41ca-8116-188caba492a4",
   "metadata": {},
   "source": [
    "<br><br><div style=\" border-radius: 15px 15px 0 0; background: #a8d5e2; padding: 10px;\"></div>"
   ]
  },
  {
   "cell_type": "code",
   "execution_count": null,
   "id": "641c04b4-e7ff-46d0-ba45-fd80fd8b0874",
   "metadata": {},
   "outputs": [],
   "source": [
    "DF_myfilter = DF_Customer_Dim[\n",
    "    (DF_Customer_Dim[\"Preferred_Language_Code\"] == ___) &  # Filter for English language, EN\n",
    "    (DF_Customer_Dim[\"Region\"].isin([___, ___]))  # Filter for specific regions, BE, ZH\n",
    "][[___]]  # Select the Customer_Id column\n",
    "\n",
    "DF_myfilter"
   ]
  },
  {
   "cell_type": "markdown",
   "id": "a5ad58d6-056a-4f42-b855-877d58d9baf3",
   "metadata": {},
   "source": [
    "<details>\n",
    "  <summary style=\"font-weight:bold; color:#9b870c;\">Hint</summary>\n",
    "  <div style=\"background-color:#fff9db; padding:10px; border-radius:5px; margin-top:5px;\">\n",
    "You need to filter the DataFrame based on the preferred language being \"EN\" and the region being either 'BE' or 'ZH'. After filtering, select only the \"Customer_Id\" column.\n",
    "  </div>\n",
    "</details>"
   ]
  },
  {
   "cell_type": "markdown",
   "id": "0bc77fa1-0ce6-4db1-b51b-b9f80451fdeb",
   "metadata": {},
   "source": [
    "<details>\n",
    "  <summary style=\"font-weight:bold; color:#0c9b3b;\">Solution</summary>\n",
    "  <div style=\"background-color:#dbffdb; padding:10px; border-radius:5px; margin-top:5px;\">\n",
    "\n",
    "```python\n",
    "DF_myfilter = DF_Customer_Dim[\n",
    "    (DF_Customer_Dim[\"Preferred_Language_Code\"] == \"EN\") &\n",
    "    (DF_Customer_Dim[\"Region\"].isin(['BE', 'ZH']))\n",
    "][[\"Customer_Id\"]]\n",
    "\n",
    "DF_myfilter\n",
    "```\n",
    "  </div>\n",
    "</details>"
   ]
  },
  {
   "cell_type": "markdown",
   "id": "74cefc84-1153-4556-96c0-55be8066784e",
   "metadata": {},
   "source": [
    "<div style=\" border-radius: 0 0 15px 15px ; background: #a8d5e2; padding: 10px;\"></div><br><br>"
   ]
  },
  {
   "cell_type": "markdown",
   "id": "598ec9e0-7fd0-4eb4-b46b-77c305009e32",
   "metadata": {},
   "source": [
    "## SQL within Python (2):  `show_query`, format strings,  `tdml.execute_sql()` to crystallise logic for later use"
   ]
  },
  {
   "cell_type": "markdown",
   "id": "23e6a3cd-ee92-4d92-b4fe-694eb7459a3b",
   "metadata": {},
   "source": [
    "This code cell is used to inspect the SQL query behind the `DF_Account_Dim` DataFrame using the `prettyprint_sql` function."
   ]
  },
  {
   "cell_type": "code",
   "execution_count": null,
   "id": "4ae6c3c7-5420-436c-8de4-7d4ad6bc520b",
   "metadata": {},
   "outputs": [],
   "source": [
    "# inspect the query behind a DF, not interesting\n",
    "prettyprint_sql(DF_Account_Dim.show_query())"
   ]
  },
  {
   "cell_type": "markdown",
   "id": "93b03a75-d9aa-451a-b3f0-59c100c0bb74",
   "metadata": {},
   "source": [
    "This code cell is used to inspect the SQL query behind the processed `DF_myfilter` DataFrame using the `prettyprint_sql` function."
   ]
  },
  {
   "cell_type": "markdown",
   "id": "4e2dae7a-00c9-4785-ba8e-0f236c6b1b09",
   "metadata": {},
   "source": [
    "<br><br><div style=\" border-radius: 15px 15px 0 0; background: #a8d5e2; padding: 10px;\"></div>"
   ]
  },
  {
   "cell_type": "code",
   "execution_count": null,
   "id": "b299c7fd-dce5-44b6-8621-2501134fa18e",
   "metadata": {},
   "outputs": [],
   "source": [
    "# inspect the query behind a processed DF \n",
    "prettyprint_sql(DF_myfilter.____)  # Use the method to show the query of the DataFrame"
   ]
  },
  {
   "cell_type": "markdown",
   "id": "4cd9f0da-a4c7-44cd-a9ef-1a8595d1bff1",
   "metadata": {},
   "source": [
    "<details>\n",
    "  <summary style=\"font-weight:bold; color:#9b870c;\">Hint</summary>\n",
    "  <div style=\"background-color:#fff9db; padding:10px; border-radius:5px; margin-top:5px;\">\n",
    "You need to call the `show_query()` method on the DataFrame object to retrieve the SQL query. Make sure to pass the correct DataFrame variable to the `prettyprint_sql` function.\n",
    "  </div>\n",
    "</details>"
   ]
  },
  {
   "cell_type": "markdown",
   "id": "1dd8a2ff-a511-4d85-b7d1-275ecb044318",
   "metadata": {},
   "source": [
    "<details>\n",
    "  <summary style=\"font-weight:bold; color:#0c9b3b;\">Solution</summary>\n",
    "  <div style=\"background-color:#dbffdb; padding:10px; border-radius:5px; margin-top:5px;\">\n",
    "\n",
    "```python\n",
    "# inspect the query behind a processed DF \n",
    "prettyprint_sql(DF_myfilter.show_query())\n",
    "```\n",
    "  </div>\n",
    "</details>"
   ]
  },
  {
   "cell_type": "markdown",
   "id": "a7a71fc8-8665-43b5-8390-b557cab32abb",
   "metadata": {},
   "source": [
    "<div style=\" border-radius: 0 0 15px 15px ; background: #a8d5e2; padding: 10px;\"></div><br><br>"
   ]
  },
  {
   "cell_type": "markdown",
   "id": "5459a66a-a77e-4a61-a759-5ef8a257c3cd",
   "metadata": {},
   "source": [
    "This code cell replaces a view named `customer_BEZH_EN` with the query of the `DF_myfilter` DataFrame. It then executes the SQL query to create the view and retrieves the DataFrame associated with the view."
   ]
  },
  {
   "cell_type": "markdown",
   "id": "615f87b7-32df-4332-9c02-6d710ab44fff",
   "metadata": {},
   "source": [
    "<br><br><div style=\" border-radius: 15px 15px 0 0; background: #a8d5e2; padding: 10px;\"></div>"
   ]
  },
  {
   "cell_type": "code",
   "execution_count": null,
   "id": "12ce04e0-9524-4fdb-b1b1-ff93f8a12ec1",
   "metadata": {},
   "outputs": [],
   "source": [
    "replace_view_f = \"\"\"REPLACE VIEW {view_name} AS\n",
    "{query}\"\"\"\n",
    "view_name = \"customer_BEZH_EN\"  # Define the name of the view\n",
    "\n",
    "replace_view_ddl = replace_view_f.format(view_name = view_name, \n",
    "                                         query = ___.___)  # Use the method to get the query\n",
    "prettyprint_sql(replace_view_ddl)  # Pretty print the SQL statement\n",
    "\n",
    "tdml.execute_sql(replace_view_ddl)  # Execute the SQL statement\n",
    "\n",
    "tdml.DataFrame(___)  # Create a DataFrame from the view name"
   ]
  },
  {
   "cell_type": "markdown",
   "id": "24db5033-ccc7-4495-84e0-2371b231d4e9",
   "metadata": {},
   "source": [
    "<details>\n",
    "  <summary style=\"font-weight:bold; color:#9b870c;\">Hint</summary>\n",
    "  <div style=\"background-color:#fff9db; padding:10px; border-radius:5px; margin-top:5px;\">\n",
    "First, define the `view_name` variable with the appropriate view name. Then, ensure you call the `show_query()` method on the correct object to get the SQL query. Use the formatted SQL statement in the `prettyprint_sql`, `execute_sql`, and `DataFrame` functions.\n",
    "  </div>\n",
    "</details>"
   ]
  },
  {
   "cell_type": "markdown",
   "id": "4278789b-c471-4745-85d8-cd9f0d017e11",
   "metadata": {},
   "source": [
    "<details>\n",
    "  <summary style=\"font-weight:bold; color:#0c9b3b;\">Solution</summary>\n",
    "  <div style=\"background-color:#dbffdb; padding:10px; border-radius:5px; margin-top:5px;\">\n",
    "\n",
    "```python\n",
    "replace_view_f =\"\"\"REPLACE VIEW {view_name} AS\n",
    "{query}\"\"\"\n",
    "view_name = \"customer_BEZH_EN\"\n",
    "\n",
    "\n",
    "replace_view_ddl = replace_view_f.format(view_name = view_name, \n",
    "                                         query = DF_myfilter.show_query())\n",
    "prettyprint_sql(replace_view_ddl)\n",
    "\n",
    "tdml.execute_sql(replace_view_ddl)\n",
    "\n",
    "tdml.DataFrame(view_name)\n",
    "```\n",
    "  </div>\n",
    "</details>"
   ]
  },
  {
   "cell_type": "markdown",
   "id": "8e0a1fa5-dade-48a9-a133-12e83caa0e91",
   "metadata": {},
   "source": [
    "<div style=\" border-radius: 0 0 15px 15px ; background: #a8d5e2; padding: 10px;\"></div><br><br>"
   ]
  },
  {
   "cell_type": "markdown",
   "id": "6b135377-e62d-4877-bf0d-c5fa74f730b7",
   "metadata": {},
   "source": [
    "## Simple Joins"
   ]
  },
  {
   "cell_type": "markdown",
   "id": "059ce5f9-d30e-455f-acb3-dbfaa40d4a90",
   "metadata": {},
   "source": [
    "This code retrieves the DataFrames `DF_Transaction_Fact` and `DF_Account_Customer_Map` using the `tdml.DataFrame` function to join transactions with customer_dim via the account_customer map."
   ]
  },
  {
   "cell_type": "code",
   "execution_count": null,
   "id": "ff094ca2-5ac0-4922-892f-077ad7571850",
   "metadata": {},
   "outputs": [],
   "source": [
    "# join transactions with customer_dim via account_customer map\n",
    "DF_Transaction_Fact = tdml.DataFrame(\"Transaction_Fact\")\n",
    "\n",
    "DF_Account_Customer_Map = tdml.DataFrame(\"Account_Customer_Map\")"
   ]
  },
  {
   "cell_type": "markdown",
   "id": "dbbf2b8c-a546-401b-a01c-5ae734ee14fe",
   "metadata": {},
   "source": [
    "This code cell references the DataFrame DF_Customer_Dim."
   ]
  },
  {
   "cell_type": "code",
   "execution_count": null,
   "id": "6daae266-2cae-4485-95cd-81bfe845f7ad",
   "metadata": {},
   "outputs": [],
   "source": [
    "DF_Customer_Dim"
   ]
  },
  {
   "cell_type": "markdown",
   "id": "2d63bc46-a68f-4032-b627-fcccf48b4ebe",
   "metadata": {},
   "source": [
    "This code cell references the DataFrame DF_Account_Customer_Map."
   ]
  },
  {
   "cell_type": "code",
   "execution_count": null,
   "id": "61508b7b-055c-4aae-9def-5ecfce1df57b",
   "metadata": {},
   "outputs": [],
   "source": [
    "DF_Account_Customer_Map"
   ]
  },
  {
   "cell_type": "markdown",
   "id": "36c2faaf-551d-4c27-8144-5f01a244e6a0",
   "metadata": {},
   "source": [
    "This code cell joins the DF_Transaction_Fact with DF_Account_Customer_Map and DF_Customer_Dim. It drops unnecessary columns and displays the SQL query used for the join operation."
   ]
  },
  {
   "cell_type": "markdown",
   "id": "ec520b9d-f76d-47d0-81de-c9ce9fb14923",
   "metadata": {},
   "source": [
    "<br><br><div style=\" border-radius: 15px 15px 0 0; background: #a8d5e2; padding: 10px;\"></div>"
   ]
  },
  {
   "cell_type": "code",
   "execution_count": null,
   "id": "2904e809-9166-4ddc-96e1-63802779d1b5",
   "metadata": {},
   "outputs": [],
   "source": [
    "DF_transaction_joined = DF_Transaction_Fact.join(\n",
    "    DF_Account_Customer_Map, \n",
    "    on = ___,  # Specify the column to join on\n",
    "    how = ___,  # Specify the type of join\n",
    "    rprefix = \"mymap\"  # Specify the prefix for the right DataFrame\n",
    ").join(\n",
    "    DF_Customer_Dim,\n",
    "    on = ___,  # Specify the column to join on\n",
    "    how = ___,  # Specify the type of join\n",
    "    lprefix = \"mymap\"  # Specify the prefix for the left DataFrame\n",
    ").drop(columns=[\"mymap_Account_Id\",\"mymap_Customer_Id\"])  # Drop unnecessary columns\n",
    "\n",
    "prettyprint_sql(DF_transaction_joined.show_query())\n",
    "\n",
    "DF_transaction_joined"
   ]
  },
  {
   "cell_type": "markdown",
   "id": "3e019165-9190-42fa-8364-04abeefd94b9",
   "metadata": {},
   "source": [
    "<details>\n",
    "  <summary style=\"font-weight:bold; color:#9b870c;\">Hint</summary>\n",
    "  <div style=\"background-color:#fff9db; padding:10px; border-radius:5px; margin-top:5px;\">\n",
    "When joining DataFrames, ensure you specify the correct column names for the `on` parameter and choose the appropriate join type (`left`, `right`, `inner`, etc.). Use `rprefix` and `lprefix` to avoid column name conflicts. Finally, drop any columns that are not needed in the final DataFrame.\n",
    "  </div>\n",
    "</details>"
   ]
  },
  {
   "cell_type": "markdown",
   "id": "aca62bec-190d-4a26-af96-9b05bce1e4f0",
   "metadata": {},
   "source": [
    "<details>\n",
    "  <summary style=\"font-weight:bold; color:#0c9b3b;\">Solution</summary>\n",
    "  <div style=\"background-color:#dbffdb; padding:10px; border-radius:5px; margin-top:5px;\">\n",
    "\n",
    "```python\n",
    "DF_transaction_joined = DF_Transaction_Fact.join(\n",
    "    DF_Account_Customer_Map, \n",
    "    on = \"Account_Id\", \n",
    "    how=\"left\", rprefix =\"mymap\"\n",
    ").join(\n",
    "    DF_Customer_Dim,\n",
    "    on = \"Customer_Id\",\n",
    "    how = \"left\", lprefix =\"mymap\"\n",
    ").drop(columns=[\"mymap_Account_Id\",\"mymap_Customer_Id\"])\n",
    "\n",
    "prettyprint_sql(DF_transaction_joined.show_query())\n",
    "\n",
    "DF_transaction_joined\n",
    "```\n",
    "  </div>\n",
    "</details>"
   ]
  },
  {
   "cell_type": "markdown",
   "id": "7f6154e8-7c3d-423b-9db5-173dc07b52db",
   "metadata": {},
   "source": [
    "<div style=\" border-radius: 0 0 15px 15px ; background: #a8d5e2; padding: 10px;\"></div><br><br>"
   ]
  },
  {
   "cell_type": "markdown",
   "id": "02fef82c-399e-4195-b6cc-8da3c39569f6",
   "metadata": {},
   "source": [
    "This code cell demonstrates an alternative approach to joining multiple tables using SQL query directly. It shows that proficient SQL users may find it faster to write the join operation in SQL rather than chaining operations in Python."
   ]
  },
  {
   "cell_type": "markdown",
   "id": "82a9e234-5641-480a-94f3-24cc3a476ef3",
   "metadata": {},
   "source": [
    "<br><br><div style=\" border-radius: 15px 15px 0 0; background: #a8d5e2; padding: 10px;\"></div>"
   ]
  },
  {
   "cell_type": "code",
   "execution_count": null,
   "id": "8369b9b7-6dff-4d21-bf78-400744468ab3",
   "metadata": {},
   "outputs": [],
   "source": [
    "tdml.DataFrame.____(\"\"\"\n",
    "SELECT \n",
    "    mytransaction.*,\n",
    "    cust_dim.*\n",
    "FROM \n",
    "    Transaction_Fact AS mytransaction\n",
    "LEFT JOIN\n",
    "    Account_Customer_Map AS mymap\n",
    "ON\n",
    "    (mytransaction.___ = mymap.___) \n",
    "LEFT JOIN\n",
    "    Customer_Dim AS cust_dim\n",
    "ON \n",
    "    (mymap.___ = cust_dim.___)  \n",
    "\n",
    "\"\"\"   \n",
    ")"
   ]
  },
  {
   "cell_type": "markdown",
   "id": "4a2e0fa0-7249-42fb-97cd-87261ddc22ff",
   "metadata": {},
   "source": [
    "<details>\n",
    "  <summary style=\"font-weight:bold; color:#9b870c;\">Hint</summary>\n",
    "  <div style=\"background-color:#fff9db; padding:10px; border-radius:5px; margin-top:5px;\">\n",
    "When performing a SQL JOIN, ensure that the fields you are joining on are correctly matched. Look for the common fields between the tables involved in the JOIN operations. use from_query to get a DataFrame based on a query.\n",
    "  </div>\n",
    "</details>"
   ]
  },
  {
   "cell_type": "markdown",
   "id": "39957b5e-91bc-4d3b-a543-237185c46f7f",
   "metadata": {},
   "source": [
    "<details>\n",
    "  <summary style=\"font-weight:bold; color:#0c9b3b;\">Solution</summary>\n",
    "  <div style=\"background-color:#dbffdb; padding:10px; border-radius:5px; margin-top:5px;\">\n",
    "\n",
    "```python\n",
    "tdml.DataFrame.from_query(\"\"\"\n",
    "SELECT \n",
    "    mytransaction.*,\n",
    "    cust_dim.*\n",
    "FROM \n",
    "    Transaction_Fact AS mytransaction\n",
    "LEFT JOIN\n",
    "    Account_Customer_Map AS mymap\n",
    "ON\n",
    "    (mytransaction.Account_id = mymap.Account_id) \n",
    "LEFT JOIN\n",
    "    Customer_Dim AS cust_dim\n",
    "ON \n",
    "    (mymap.Customer_Id = cust_dim.Customer_Id) \n",
    "\n",
    "\"\"\"   \n",
    ")\n",
    "```\n",
    "  </div>\n",
    "</details>"
   ]
  },
  {
   "cell_type": "markdown",
   "id": "b598dfb1-48d3-4a75-88c5-1d0d764a472c",
   "metadata": {},
   "source": [
    "<div style=\" border-radius: 0 0 15px 15px ; background: #a8d5e2; padding: 10px;\"></div><br><br>"
   ]
  },
  {
   "cell_type": "markdown",
   "id": "87a86129-d79f-4d95-8106-aaa7d81d1e86",
   "metadata": {},
   "source": [
    "## DataFrame manipulation: simple aggregates"
   ]
  },
  {
   "cell_type": "markdown",
   "id": "68a77769-44d5-4941-951d-c1e8c26b65d4",
   "metadata": {},
   "source": [
    "This code cell calculates aggregate values based on the joined DataFrame DF_transaction_joined. It groups by \"Customer_Id\" and calculates the sum and mean of \"Transaction_Amount\". The SQL query used for this aggregation is displayed."
   ]
  },
  {
   "cell_type": "markdown",
   "id": "f67c76e1-49f3-4721-ba49-b4bc7b91e706",
   "metadata": {},
   "source": [
    "<br><br><div style=\" border-radius: 15px 15px 0 0; background: #a8d5e2; padding: 10px;\"></div>"
   ]
  },
  {
   "cell_type": "code",
   "execution_count": null,
   "id": "434ddefc-11aa-4efd-9793-b4fce47b5a6e",
   "metadata": {},
   "outputs": [],
   "source": [
    "DF_tj = DF_transaction_joined\n",
    "DF_tr_agg = DF_tj.groupby(\"____\").agg(\n",
    "    [DF_tj['Transaction_Amount'].____().alias(\"Total_Transaction_Amount\"),  # Alias for total transaction amount\n",
    "     DF_tj['Transaction_Amount'].____().alias(\"Average_Transaction_Amount\"),  # Alias for average transaction amount\n",
    "    ])\n",
    "\n",
    "prettyprint_sql(DF_tr_agg.____())  # Show the SQL query for the aggregation\n",
    "\n",
    "DF_tr_agg"
   ]
  },
  {
   "cell_type": "markdown",
   "id": "64de42e9-40fe-436a-843a-0220590aa075",
   "metadata": {},
   "source": [
    "<details>\n",
    "  <summary style=\"font-weight:bold; color:#9b870c;\">Hint</summary>\n",
    "  <div style=\"background-color:#fff9db; padding:10px; border-radius:5px; margin-top:5px;\">\n",
    "You need to provide meaningful aliases for the aggregated columns. Think about what each aggregation represents. Also, ensure you call the method to display the SQL query for the DataFrame.\n",
    "  </div>\n",
    "</details>"
   ]
  },
  {
   "cell_type": "markdown",
   "id": "9d7ba76c-5ea4-4585-be66-8c99c480f1b6",
   "metadata": {},
   "source": [
    "<details>\n",
    "  <summary style=\"font-weight:bold; color:#0c9b3b;\">Solution</summary>\n",
    "  <div style=\"background-color:#dbffdb; padding:10px; border-radius:5px; margin-top:5px;\">\n",
    "\n",
    "```python\n",
    "DF_tj = DF_transaction_joined\n",
    "DF_tr_agg = DF_tj.groupby(\"Customer_Id\").agg(\n",
    "    [DF_tj['Transaction_Amount'].sum().alias(\"Total_Transaction_Amount\"),\n",
    "     DF_tj['Transaction_Amount'].mean().alias(\"Average_Transaction_Amount\"),\n",
    "    ])\n",
    "\n",
    "prettyprint_sql(DF_tr_agg.show_query())\n",
    "\n",
    "DF_tr_agg\n",
    "```\n",
    "  </div>\n",
    "</details>"
   ]
  },
  {
   "cell_type": "markdown",
   "id": "9e75d45b-a900-4642-96c4-108ad2c42d25",
   "metadata": {},
   "source": [
    "<div style=\" border-radius: 0 0 15px 15px ; background: #a8d5e2; padding: 10px;\"></div><br><br>"
   ]
  },
  {
   "cell_type": "markdown",
   "id": "953256ca-6def-4c60-9da8-1bf878292e03",
   "metadata": {},
   "source": [
    "## Select columns based on datatypes"
   ]
  },
  {
   "cell_type": "markdown",
   "id": "0d108003-2253-4a68-b4f9-1c031acf360e",
   "metadata": {},
   "source": [
    "This code cell retrieves the data types of columns in the DF_master DataFrame and categorizes them into integer, float, and string features. It then selects columns with float data types from the DF_master DataFrame."
   ]
  },
  {
   "cell_type": "code",
   "execution_count": null,
   "id": "bad8d6e4-7b13-42be-b4ac-0cf424bd5948",
   "metadata": {},
   "outputs": [],
   "source": [
    "master_types = DF_master.dtypes._column_names_and_types\n",
    "print(master_types)\n",
    "\n",
    "int_feats = [c[0] for c in master_types if c[1] == \"int\"]\n",
    "float_feats = [c[0] for c in master_types if c[1] == \"float\"]\n",
    "str_feats = [c[0] for c in master_types if c[1] == \"str\"]\n",
    "\n",
    "DF_master.select(float_feats)"
   ]
  },
  {
   "cell_type": "markdown",
   "id": "e2458f7d-dfd1-4197-8846-b448968f5ac4",
   "metadata": {},
   "source": [
    "## Create columns, constant values and case whens\n",
    "https://docs.teradata.com/r/Enterprise/Teradata-Package-for-Python-Function-Reference-20.00/teradataml-Data-Preparation-Functions/Date-and-Time-Functions/current_date"
   ]
  },
  {
   "cell_type": "markdown",
   "id": "bcc3a9e3-7eea-4fbf-a584-42d32c936b66",
   "metadata": {},
   "source": [
    "This code cell adds constants (campaign_id, campaign_author, campaign_planning_date) to the DF_master DataFrame for a campaign. The SQL query for displaying the DataFrame is printed, and the modified DataFrame DF_campaign is displayed."
   ]
  },
  {
   "cell_type": "markdown",
   "id": "fd93a2ae-628d-462f-8699-8e9bf36a6c0d",
   "metadata": {},
   "source": [
    "<br><br><div style=\" border-radius: 15px 15px 0 0; background: #a8d5e2; padding: 10px;\"></div>"
   ]
  },
  {
   "cell_type": "code",
   "execution_count": null,
   "id": "e3330576-8fd8-4afe-adca-00069f4cb825",
   "metadata": {},
   "outputs": [],
   "source": [
    "# add constants to DF for a campaign\n",
    "from sqlalchemy import func as f\n",
    "\n",
    "thiscampaign_id = \"f3354_002\"\n",
    "thiscampaign_author = \"martin\"\n",
    "\n",
    "DF_campaign = DF_master.assign(\n",
    "    campaign_id = ___,\n",
    "    campaign_author = ___,\n",
    "    campaign_planning_date = f.___()  # Use an SQL function to get the current date\n",
    ")\n",
    "\n",
    "prettyprint_sql(DF_campaign.___())  # Show the SQL query\n",
    "\n",
    "DF_campaign"
   ]
  },
  {
   "cell_type": "markdown",
   "id": "0ba045f1-2351-4493-a1be-b1085fe86ec4",
   "metadata": {},
   "source": [
    "<details>\n",
    "  <summary style=\"font-weight:bold; color:#9b870c;\">Hint</summary>\n",
    "  <div style=\"background-color:#fff9db; padding:10px; border-radius:5px; margin-top:5px;\">\n",
    "You need to assign values to `thiscampaign_id` and `thiscampaign_author`. Use `f.current_date()` to get today's date. To display the SQL query, use the `show_query()` method on `DF_campaign`.\n",
    "  </div>\n",
    "</details>"
   ]
  },
  {
   "cell_type": "markdown",
   "id": "8d78a358-929a-4a80-9137-bd12a5123807",
   "metadata": {},
   "source": [
    "<details>\n",
    "  <summary style=\"font-weight:bold; color:#0c9b3b;\">Solution</summary>\n",
    "  <div style=\"background-color:#dbffdb; padding:10px; border-radius:5px; margin-top:5px;\">\n",
    "\n",
    "```python\n",
    "# add constants to DF for a campaign\n",
    "from sqlalchemy import func as f\n",
    "\n",
    "thiscampaign_id = \"f3354_002\"\n",
    "thiscampaign_author = \"martin\"\n",
    "\n",
    "DF_campaign = DF_master.assign(\n",
    "    campaign_id = thiscampaign_id,\n",
    "    campaign_author = thiscampaign_author,\n",
    "    campaign_planning_date = f.current_date() # today\n",
    ")\n",
    "\n",
    "prettyprint_sql(DF_campaign.show_query())\n",
    "\n",
    "DF_campaign\n",
    "```\n",
    "  </div>\n",
    "</details>"
   ]
  },
  {
   "cell_type": "markdown",
   "id": "6281f619-5344-4ae7-89e4-25fdd6587633",
   "metadata": {},
   "source": [
    "<div style=\" border-radius: 0 0 15px 15px ; background: #a8d5e2; padding: 10px;\"></div><br><br>"
   ]
  },
  {
   "cell_type": "markdown",
   "id": "2a0ddc78-f385-4f17-b8fe-65f0f25f5477",
   "metadata": {},
   "source": [
    "This code cell demonstrates how to manually set new columns in a DataFrame using different options such as full SQL, SQL literal_column, and DataFrame Column Expression. It assigns new columns based on certain conditions like Customer_Segment and Region. The resulting DataFrame is displayed and returned."
   ]
  },
  {
   "cell_type": "markdown",
   "id": "a151a9ef-87f2-4e5c-a25d-6c04fd48e76b",
   "metadata": {},
   "source": [
    "<br><br><div style=\" border-radius: 15px 15px 0 0; background: #a8d5e2; padding: 10px;\"></div>"
   ]
  },
  {
   "cell_type": "code",
   "execution_count": null,
   "id": "b672c0e6-7e0d-4a6c-96f6-0e7cd8bc73da",
   "metadata": {},
   "outputs": [],
   "source": [
    "from sqlalchemy.sql import literal_column as col\n",
    "# works for both picking out a column and injecting in some SQL\n",
    "\n",
    "# manual settings of new columns\n",
    "DF_c2 = DF_campaign.___(\n",
    "    # Option 1: FULL SQL\n",
    "      flag_PB =  \n",
    "          col(\"CASE WHEN Customer_Segment = 'Private Banking' THEN 1 ELSE 0 END\"),\n",
    "        \n",
    "        # Option 2: pick out column with SQL literal_column\n",
    "     flag_ZH =\n",
    "        tdml.case([(___(\"Region\") == ___ , 1)], else_=0),      \n",
    "    \n",
    "    # Option 3: pick out column with DataFrame Column Expression\n",
    "    flag_BE =\n",
    "        tdml.case([(DF_campaign.___ == 'BE' , 1)], else_=0),\n",
    ")\n",
    "\n",
    "prettyprint_sql(DF_c2.show_query())\n",
    "\n",
    "DF_c2"
   ]
  },
  {
   "cell_type": "markdown",
   "id": "f3e95913-9b48-4877-b8cb-1c5a762f6e14",
   "metadata": {},
   "source": [
    "<details>\n",
    "  <summary style=\"font-weight:bold; color:#9b870c;\">Hint</summary>\n",
    "  <div style=\"background-color:#fff9db; padding:10px; border-radius:5px; margin-top:5px;\">\n",
    "For the `flag_ZH` and `flag_BE` columns, you need to specify the region code that should be checked against the \"Region\" column. The first one should check for \"ZH\" and the second one for \"BE\".\n",
    "  </div>\n",
    "</details>"
   ]
  },
  {
   "cell_type": "markdown",
   "id": "21d35843-12ea-4b99-9b21-0d673d23cff5",
   "metadata": {},
   "source": [
    "<details>\n",
    "  <summary style=\"font-weight:bold; color:#0c9b3b;\">Solution</summary>\n",
    "  <div style=\"background-color:#dbffdb; padding:10px; border-radius:5px; margin-top:5px;\">\n",
    "\n",
    "```python\n",
    "from sqlalchemy.sql import literal_column as col\n",
    "# works for both picking out a column and injecting in some SQL\n",
    "\n",
    "# manual settings of new columns\n",
    "DF_c2 = DF_campaign.assign(\n",
    "    # Option 1: FULL SQL\n",
    "      flag_PB =  \n",
    "          col(\"CASE WHEN Customer_Segment = 'Private Banking' THEN 1 ELSE 0 END\"),\n",
    "        \n",
    "        # Option 2: pick out column with SQL literal_column\n",
    "     flag_ZH =\n",
    "        tdml.case([(col(\"Region\") == \"ZH\" , 1)], else_=0),      \n",
    "    \n",
    "    # Option 3: pick out column with DataFrame Column Expression\n",
    "    flag_BE =\n",
    "        tdml.case([(DF_campaign.Region == \"BE\" , 1)], else_=0),\n",
    ")\n",
    "\n",
    "prettyprint_sql(DF_c2.show_query())\n",
    "\n",
    "DF_c2\n",
    "```\n",
    "  </div>\n",
    "</details>"
   ]
  },
  {
   "cell_type": "markdown",
   "id": "e0e5dc37-14d1-416b-a66b-9dc931cbc565",
   "metadata": {},
   "source": [
    "<div style=\" border-radius: 0 0 15px 15px ; background: #a8d5e2; padding: 10px;\"></div><br><br>"
   ]
  },
  {
   "cell_type": "markdown",
   "id": "ad241e2d-fbb8-4a2d-910a-5af88ec0fc23",
   "metadata": {},
   "source": [
    "# NPath for Sequence Analysis"
   ]
  },
  {
   "cell_type": "markdown",
   "id": "a7b715b5-18c4-4e95-8933-e33a8e979bbe",
   "metadata": {},
   "source": [
    "https://docs.teradata.com/r/Enterprise_IntelliFlex_VMware/Database-Analytic-Functions/Path-and-Pattern-Analysis-Functions/nPath"
   ]
  },
  {
   "cell_type": "code",
   "execution_count": null,
   "id": "e5c9959d-e4d3-42ee-a507-a97786b6855c",
   "metadata": {},
   "outputs": [],
   "source": [
    "DF_interaction = tdml.DataFrame(\"Interaction_Fact\")\n",
    "DF_interaction"
   ]
  },
  {
   "cell_type": "markdown",
   "id": "94a6a481-9895-4e9a-a606-79f688b46c87",
   "metadata": {},
   "source": [
    "## Simple NPath"
   ]
  },
  {
   "cell_type": "markdown",
   "id": "2bd26b5f-112f-4c5c-a1a6-ae14a227ef56",
   "metadata": {},
   "source": [
    "https://docs.teradata.com/r/Teradata-VantageCloud-Lake/Analyzing-Your-Data/Analytics-Database-Analytic-Functions/Path-and-Pattern-Analysis-Functions/nPath"
   ]
  },
  {
   "cell_type": "markdown",
   "id": "e6aa2256-e06a-49f4-9cf9-0574e4826b54",
   "metadata": {},
   "source": [
    "Count Tuples of Interaction Type Events"
   ]
  },
  {
   "cell_type": "markdown",
   "id": "4801606b",
   "metadata": {},
   "source": [
    "<br><br><div style=\"border-radius: 15px 15px 0 0; background: #a8d5e2; padding: 10px;\"></div>"
   ]
  },
  {
   "cell_type": "code",
   "execution_count": null,
   "id": "83a7afd3",
   "metadata": {},
   "outputs": [],
   "source": [
    "npath_obj = tdml.NPath(\n",
    "    data1= ___,  # DataFrame to be used for NPath analysis\n",
    "    data1_partition_column = \"___\",  # Column to partition the data\n",
    "    data1_order_column = \"___\",  # Column to order the data\n",
    "    \n",
    "    mode = \"OVERLAPPING\",\n",
    "    symbols = [\"___ IS NOT NULL AS E\" ],  # Symbols for pattern matching\n",
    "    pattern = \"___\" ,  # Pattern to be matched    \n",
    "    result = [\"NTH(___, 1 OF E) AS n1\",  # Result columns for the analysis\n",
    "              \"NTH(___, 2 OF E) AS n2\", ],\n",
    "\n",
    "    volatile = True  \n",
    ")"
   ]
  },
  {
   "cell_type": "markdown",
   "id": "330e26aa",
   "metadata": {},
   "source": [
    "<details>\n",
    "  <summary style=\"font-weight:bold; color:#9b870c;\">Hint</summary>\n",
    "  <div style=\"background-color:#fff9db; padding:10px; border-radius:5px; margin-top:5px;\">\n",
    "\n",
    "1. Hint: Use the DataFrame you created for the Interaction_Fact table.\n",
    "2. Hint: This is the column used to partition the data, typically a unique identifier like \"Customer_Id\".\n",
    "3. Hint: This is the column used to order the data, typically a date column like \"Interaction_Date\".\n",
    "5. Hint: This is the column used for pattern matching, typically \"Interaction_Type\".\n",
    "6. Hint: This is the pattern you want to match, often a sequence like \"E.E\".\n",
    "7. Hint: This is the column used in the NTH function, typically \"Interaction_Type\".\n",
    "8. Hint: This is the column used in the NTH function, typically \"Interaction_Type\".\n",
    "  </div>\n",
    "</details>"
   ]
  },
  {
   "cell_type": "markdown",
   "id": "40a14b19",
   "metadata": {},
   "source": [
    "<details>\n",
    "  <summary style=\"font-weight:bold; color:#0c9b3b;\">Solution</summary>\n",
    "  <div style=\"background-color:#dbffdb; padding:10px; border-radius:5px; margin-top:5px;\">\n",
    "\n",
    "```python\n",
    "npath_obj = tdml.NPath(\n",
    "    data1= DF_interaction,\n",
    "    data1_partition_column = \"Customer_Id\",\n",
    "    data1_order_column = \"Interaction_Date\",\n",
    "    \n",
    "    mode = \"OVERLAPPING\",\n",
    "    symbols = [\"Interaction_Type IS NOT NULL AS E\" ],\n",
    "    pattern = \"E.E\" ,    \n",
    "    result = [\"NTH(Interaction_Type, 1 OF E) AS n1\", \n",
    "              \"NTH(Interaction_Type, 2 OF E) AS n2\", ],\n",
    "\n",
    "    volatile = True    \n",
    ")\n",
    "```\n",
    "  </div>\n",
    "</details>"
   ]
  },
  {
   "cell_type": "markdown",
   "id": "ecb320ff",
   "metadata": {},
   "source": [
    "<div style=\" border-radius: 0 0 15px 15px ; background: #a8d5e2; padding: 10px;\"></div><br><br>"
   ]
  },
  {
   "cell_type": "code",
   "execution_count": null,
   "id": "18b5504d-21c4-4166-b9f7-c1a0b7db5f22",
   "metadata": {},
   "outputs": [],
   "source": [
    "print(npath_obj.show_query())"
   ]
  },
  {
   "cell_type": "code",
   "execution_count": null,
   "id": "bc140953-3dda-4eca-970a-511d1e55e036",
   "metadata": {},
   "outputs": [],
   "source": [
    "DF_npath_result = npath_obj.result\n",
    "DF_npath_result"
   ]
  },
  {
   "cell_type": "markdown",
   "id": "5f3a5600",
   "metadata": {},
   "source": [
    "<br><br><div style=\"border-radius: 15px 15px 0 0; background: #a8d5e2; padding: 10px;\"></div>"
   ]
  },
  {
   "cell_type": "code",
   "execution_count": null,
   "id": "4d22134c",
   "metadata": {},
   "outputs": [],
   "source": [
    "DF_npath_counts = (DF_npath_result\n",
    "                   .___(mycount = 1)  # Assign a new column 'mycount' with value 1\n",
    "                   .___([\"n1\", \"n2\"]).count())  # Group by 'n1' and 'n2'\n",
    "DF_npath_counts"
   ]
  },
  {
   "cell_type": "markdown",
   "id": "a8df5fd6",
   "metadata": {},
   "source": [
    "<details>\n",
    "  <summary style=\"font-weight:bold; color:#9b870c;\">Hint</summary>\n",
    "  <div style=\"background-color:#fff9db; padding:10px; border-radius:5px; margin-top:5px;\">\n",
    "\n",
    "1. Hint: You are creating a new column to count occurrences; the function name is assign\n",
    "2. Hint: You need to group by the first two columns from the result. \n",
    "  </div>\n",
    "</details>"
   ]
  },
  {
   "cell_type": "markdown",
   "id": "90f55fc0",
   "metadata": {},
   "source": [
    "<details>\n",
    "  <summary style=\"font-weight:bold; color:#0c9b3b;\">Solution</summary>\n",
    "  <div style=\"background-color:#dbffdb; padding:10px; border-radius:5px; margin-top:5px;\">\n",
    "\n",
    "```python\n",
    "DF_npath_counts = (DF_npath_result\n",
    "                   .assign(mycount = 1)\n",
    "                   .groupby([\"n1\",\"n2\"]).count())\n",
    "DF_npath_counts\n",
    "```\n",
    "  </div>\n",
    "</details>"
   ]
  },
  {
   "cell_type": "markdown",
   "id": "482eabd6",
   "metadata": {},
   "source": [
    "<div style=\" border-radius: 0 0 15px 15px ; background: #a8d5e2; padding: 10px;\"></div><br><br>"
   ]
  },
  {
   "cell_type": "markdown",
   "id": "fee73c15-2374-41ed-8ba1-4c55f65973be",
   "metadata": {},
   "source": [
    "## Use NPath to analyse events changing before and after an event"
   ]
  },
  {
   "cell_type": "markdown",
   "id": "475ec76e-0c70-44f9-91b4-4d1bc6b56008",
   "metadata": {},
   "source": [
    "let's assume we have a change in policy around June 2021 and we want to investigate changes in pattern"
   ]
  },
  {
   "cell_type": "code",
   "execution_count": null,
   "id": "bf248e83-acc3-4294-beaf-3a3b464af4a4",
   "metadata": {},
   "outputs": [],
   "source": [
    "# upload table indicating that change\n",
    "tdml.DataFrame.from_query(\"\"\"\n",
    "    SELECT \n",
    "    CAST(TO_TIMESTAMP('2021/06/01', 'YYYY/MM/DD') AS TIMESTAMP(6)) AS change_date,\n",
    "    'change_rule' AS change_info\n",
    "    \"\"\").to_sql(\"change_date_table\", if_exists=\"replace\")\n",
    "tdml.DataFrame(\"change_date_table\")"
   ]
  },
  {
   "cell_type": "markdown",
   "id": "e4a16031",
   "metadata": {},
   "source": [
    "<br><br><div style=\"border-radius: 15px 15px 0 0; background: #a8d5e2; padding: 10px;\"></div>"
   ]
  },
  {
   "cell_type": "code",
   "execution_count": null,
   "id": "48c7aaee",
   "metadata": {},
   "outputs": [],
   "source": [
    "n_path_query = \"\"\"\n",
    "\n",
    "SELECT * FROM nPath(\n",
    "\tON \"Interaction_Fact\"  PARTITION BY \"Customer_Id\" ORDER BY \"Interaction_Date\"\n",
    "    ON \"change_date_table\"  DIMENSION ORDER BY ___  -- Order by the change date\n",
    "\tUSING\n",
    "\tMode(NONOVERLAPPING)\n",
    "\tPattern('E.C.E')\n",
    "\tSymbols(\n",
    "        Interaction_Fact.Interaction_Type IS NOT NULL AS ___,  -- Symbol for interaction type\n",
    "        change_date_table.change_info IS NOT NULL AS ___  -- Symbol for change info\n",
    "    \n",
    "    )\n",
    "\tResult(\n",
    "        FIRST(Customer_Id OF E) AS Customer_Id,\n",
    "        FIRST(Interaction_Type OF E) AS n1,\n",
    "        FIRST(Interaction_Date OF E) AS ts1,\n",
    "        LAST(Interaction_Type  OF E) AS n2,\n",
    "        LAST(Interaction_Date  OF E) AS ts2\n",
    "        \n",
    "    )\n",
    ") as sqlmr\n",
    "\n",
    "\"\"\""
   ]
  },
  {
   "cell_type": "markdown",
   "id": "f993ac34",
   "metadata": {},
   "source": [
    "<details>\n",
    "  <summary style=\"font-weight:bold; color:#9b870c;\">Hint</summary>\n",
    "  <div style=\"background-color:#fff9db; padding:10px; border-radius:5px; margin-top:5px;\">\n",
    "\n",
    "1. Hint: You need to order by the column that represents the change date.\n",
    "2. Hint: This symbol represents events in the interaction fact. See in the Pattern Parameter\n",
    "3. Hint: This symbol represents the change event. See in the Pattern Parameter\n",
    "  </div>\n",
    "</details>"
   ]
  },
  {
   "cell_type": "markdown",
   "id": "69449f05",
   "metadata": {},
   "source": [
    "<details>\n",
    "  <summary style=\"font-weight:bold; color:#0c9b3b;\">Solution</summary>\n",
    "  <div style=\"background-color:#dbffdb; padding:10px; border-radius:5px; margin-top:5px;\">\n",
    "\n",
    "```python\n",
    "n_path_query = \"\"\"\n",
    "\n",
    "SELECT * FROM nPath(\n",
    "\tON \"Interaction_Fact\"  PARTITION BY \"Customer_Id\" ORDER BY \"Interaction_Date\"\n",
    "    ON \"change_date_table\"  DIMENSION ORDER BY change_date\n",
    "\tUSING\n",
    "\tMode(NONOVERLAPPING)\n",
    "\tPattern('E.C.E')\n",
    "\tSymbols(\n",
    "        Interaction_Fact.Interaction_Type IS NOT NULL AS E,\n",
    "        change_date_table.change_info IS NOT NULL AS C\n",
    "    \n",
    "    )\n",
    "\tResult(\n",
    "        FIRST(Customer_Id OF E) AS Customer_Id,\n",
    "        FIRST(Interaction_Type OF E) AS n1,\n",
    "        FIRST(Interaction_Date OF E) AS ts1,\n",
    "        LAST(Interaction_Type  OF E) AS n2,\n",
    "        LAST(Interaction_Date  OF E) AS ts2\n",
    "        \n",
    "    )\n",
    ") as sqlmr\n",
    "\n",
    "\"\"\"\n",
    "```\n",
    "  </div>\n",
    "</details>"
   ]
  },
  {
   "cell_type": "markdown",
   "id": "f12cf148",
   "metadata": {},
   "source": [
    "<div style=\" border-radius: 0 0 15px 15px ; background: #a8d5e2; padding: 10px;\"></div><br><br>"
   ]
  },
  {
   "cell_type": "code",
   "execution_count": null,
   "id": "49491863-ce01-4943-abf0-60f765540128",
   "metadata": {},
   "outputs": [],
   "source": [
    "# check plausibility of npath results\n",
    "tdml.DataFrame.from_query(n_path_query)"
   ]
  },
  {
   "cell_type": "code",
   "execution_count": null,
   "id": "74123572-3f9c-4fe6-b204-0842925e78ec",
   "metadata": {},
   "outputs": [],
   "source": [
    "# count changes\n",
    "tdml.DataFrame.from_query(f\"\"\"\n",
    "SELECT n1, n2, COUNT(*) as count_rows\n",
    "FROM\n",
    "({n_path_query}) t\n",
    "GROUP BY n1, n2\n",
    "\"\"\")"
   ]
  },
  {
   "cell_type": "markdown",
   "id": "24754d86-70c4-401c-a532-3c7992c3375e",
   "metadata": {},
   "source": [
    "# String based Feature Engineering"
   ]
  },
  {
   "cell_type": "markdown",
   "id": "f6ba898e-00e5-4082-acd1-8d836c12611b",
   "metadata": {},
   "source": [
    "derive important information from text based fields."
   ]
  },
  {
   "cell_type": "markdown",
   "id": "76b9825f-f290-41b7-9708-0f6abf2da23a",
   "metadata": {},
   "source": [
    "https://docs.teradata.com/r/Enterprise_IntelliFlex_VMware/SQL-Functions-Expressions-and-Predicates/String-Operators-and-Functions\n",
    "\n",
    "https://docs.teradata.com/r/Enterprise_IntelliFlex_VMware/SQL-Functions-Expressions-and-Predicates/Logical-Predicates/LIKE/NOT-LIKE"
   ]
  },
  {
   "cell_type": "code",
   "execution_count": null,
   "id": "f25b5e14-b22c-483c-877f-57cb9f0c7573",
   "metadata": {},
   "outputs": [],
   "source": [
    "# data generation\n",
    "import pandas as pd\n",
    "company_names = \"Global Tech GmbH;Future Solutions Inc.;Green Plumbing Ltd.;Quick Consulting AG;Bright Logistics NV;Royal Media BV;Blue Bank SA;Spring Water Group;Urban Energy Partners;National Health GmbH;Schmidt Tech GmbH;Müller Consulting Ltd.;Johnson Media AG;Taylor Energy SA;Dupont Logistics NV;Peeters Water BV;Van den Berg Partners AG;Kowalski Tech GmbH;Berlin Logistics Group;London Media Ltd.;Brussels Health SA;Hamburg Water GmbH;Munich Energy NV;Antwerp Consulting BV;Leuven Logistics AG;Stuttgart Bank GmbH;Dortmund Tech SA;Amsterdam Solutions NV;Global Energy AG;Future Water BV;Green Media SA;Quick Tech NV;Bright Consulting Ltd.;Royal Bank GmbH;Blue Logistics AG;Spring Energy SA;Urban Solutions BV;National Tech GmbH;Schmidt Logistics AG;Müller Bank NV;Johnson Water SA;Taylor Consulting BV;Dupont Tech GmbH;Peeters Media AG;Van den Berg Energy SA;Kowalski Consulting NV;Berlin Bank GmbH;London Tech Ltd.;Brussels Solutions SA;Hamburg Logistics NV;Munich Media GmbH;Antwerp Energy AG;Leuven Tech SA;Stuttgart Consulting BV;Dortmund Bank NV;Amsterdam Logistics AG;Global Water GmbH;Future Tech Ltd.;Green Energy SA;Quick Bank NV;Bright Media AG;Royal Solutions GmbH;Blue Tech BV;Spring Consulting AG;Urban Logistics SA;National Water GmbH;Schmidt Media NV;Müller Energy AG;Johnson Solutions SA;Taylor Logistics BV;Dupont Water GmbH;Peeters Consulting AG;Van den Berg Bank NV;Kowalski Energy BV;Berlin Tech GmbH;London Logistics AG;Brussels Media SA;Hamburg Bank NV;Munich Solutions BV;Antwerp Tech AG;Leuven Energy SA;Stuttgart Water GmbH;Dortmund Media AG;Amsterdam Consulting BV\"\n",
    "company_names = company_names.split(\";\")\n",
    "df_c = pd.DataFrame(data={\"company_name\":company_names})\n",
    "tdml.copy_to_sql(df_c, \"company_names\")"
   ]
  },
  {
   "cell_type": "markdown",
   "id": "74ed8775",
   "metadata": {},
   "source": [
    "<br><br><div style=\"border-radius: 15px 15px 0 0; background: #a8d5e2; padding: 10px;\"></div>"
   ]
  },
  {
   "cell_type": "code",
   "execution_count": null,
   "id": "99594b52",
   "metadata": {},
   "outputs": [],
   "source": [
    "DF_companies = tdml.DataFrame(___)  # Load the DataFrame from the \"company_names\" table\n",
    "DF_companies"
   ]
  },
  {
   "cell_type": "markdown",
   "id": "921a3804",
   "metadata": {},
   "source": [
    "<details>\n",
    "  <summary style=\"font-weight:bold; color:#9b870c;\">Hint</summary>\n",
    "  <div style=\"background-color:#fff9db; padding:10px; border-radius:5px; margin-top:5px;\">\n",
    "\n",
    "1. Hint: You need to specify the name of the table to load into the DataFrame.\n",
    "  </div>\n",
    "</details>"
   ]
  },
  {
   "cell_type": "markdown",
   "id": "34434b6b",
   "metadata": {},
   "source": [
    "<details>\n",
    "  <summary style=\"font-weight:bold; color:#0c9b3b;\">Solution</summary>\n",
    "  <div style=\"background-color:#dbffdb; padding:10px; border-radius:5px; margin-top:5px;\">\n",
    "\n",
    "```python\n",
    "DF_companies = tdml.DataFrame(\"company_names\")\n",
    "DF_companies\n",
    "```\n",
    "  </div>\n",
    "</details>"
   ]
  },
  {
   "cell_type": "markdown",
   "id": "c5e12848",
   "metadata": {},
   "source": [
    "<div style=\" border-radius: 0 0 15px 15px ; background: #a8d5e2; padding: 10px;\"></div><br><br>"
   ]
  },
  {
   "cell_type": "markdown",
   "id": "8b6d68d4-6956-49e1-981e-bccf285fc5e3",
   "metadata": {},
   "source": [
    "## step 1: manual queries"
   ]
  },
  {
   "cell_type": "markdown",
   "id": "38d81a4c",
   "metadata": {},
   "source": [
    "<br><br><div style=\"border-radius: 15px 15px 0 0; background: #a8d5e2; padding: 10px;\"></div>"
   ]
  },
  {
   "cell_type": "code",
   "execution_count": null,
   "id": "41c9231a",
   "metadata": {},
   "outputs": [],
   "source": [
    "tdml.DataFrame.from_query(\"\"\"\n",
    "SELECT\n",
    "    company_name,\n",
    "    -- length\n",
    "    CHARACTER_LENGTH(company_name) AS name_length,\n",
    "\n",
    "    -- like\n",
    "    CASE WHEN company_name LIKE '%GmbH%' THEN ___ ELSE ___ END AS is_gmbh,  -- Name the column for GmbH presence\n",
    "    \n",
    "    -- regex\n",
    "    CASE WHEN REGEXP_SUBSTR(company_name, '[A-Za-z]{3,} bank') IS NOT NULL THEN ___ ELSE ___ END AS has_bank_keyword  -- Name the column for bank keyword presence\n",
    "\n",
    "FROM\n",
    "    company_names\n",
    "\"\"\")"
   ]
  },
  {
   "cell_type": "markdown",
   "id": "c1f36623",
   "metadata": {},
   "source": [
    "<details>\n",
    "  <summary style=\"font-weight:bold; color:#9b870c;\">Hint</summary>\n",
    "  <div style=\"background-color:#fff9db; padding:10px; border-radius:5px; margin-top:5px;\">\n",
    "\n",
    "1. Hint: This value indicates the presence of 'GmbH'.\n",
    "3. Hint: This value indicates the absence of 'GmbH'.\n",
    "5. Hint: This value indicates the presence of a bank keyword.\n",
    "6. Hint: This value indicates the absence of a bank keyword.\n",
    "  </div>\n",
    "</details>"
   ]
  },
  {
   "cell_type": "markdown",
   "id": "f84bc28d",
   "metadata": {},
   "source": [
    "<details>\n",
    "  <summary style=\"font-weight:bold; color:#0c9b3b;\">Solution</summary>\n",
    "  <div style=\"background-color:#dbffdb; padding:10px; border-radius:5px; margin-top:5px;\">\n",
    "\n",
    "```python\n",
    "tdml.DataFrame.from_query(\"\"\"\n",
    "SELECT\n",
    "    company_name,\n",
    "    -- length\n",
    "    CHARACTER_LENGTH(company_name) AS name_length,\n",
    "\n",
    "    -- like\n",
    "    CASE WHEN company_name LIKE '%GmbH%' THEN 1 ELSE 0 END AS is_gmbh,\n",
    "    \n",
    "    -- regex\n",
    "    CASE WHEN REGEXP_SUBSTR(company_name, '[A-Za-z]{3,} bank') IS NOT NULL THEN 1 ELSE 0 END AS has_bank_keyword\n",
    "\n",
    "FROM\n",
    "    company_names\n",
    "\"\"\")\n",
    "```\n",
    "  </div>\n",
    "</details>"
   ]
  },
  {
   "cell_type": "markdown",
   "id": "8e556aaa",
   "metadata": {},
   "source": [
    "<div style=\" border-radius: 0 0 15px 15px ; background: #a8d5e2; padding: 10px;\"></div><br><br>"
   ]
  },
  {
   "cell_type": "markdown",
   "id": "08b14bee-f653-45cd-af83-c88dd21032f3",
   "metadata": {},
   "source": [
    "## step 2: automated queries based on a list of keywords"
   ]
  },
  {
   "cell_type": "code",
   "execution_count": null,
   "id": "53537b93-2dca-4bc5-b36b-be76f2fc59f0",
   "metadata": {},
   "outputs": [],
   "source": [
    "suffixes = [\"LLC\", \"Inc\", \"Ltd\", \"GmbH\", \"AG\", \"NV\", \"BV\", \"SA\", \"Group\", \"Partners\"]"
   ]
  },
  {
   "cell_type": "markdown",
   "id": "37c0e28a",
   "metadata": {},
   "source": [
    "<br><br><div style=\"border-radius: 15px 15px 0 0; background: #a8d5e2; padding: 10px;\"></div>"
   ]
  },
  {
   "cell_type": "code",
   "execution_count": null,
   "id": "0d81704f",
   "metadata": {},
   "outputs": [],
   "source": [
    "indicator_columns = [\n",
    "    f\"CASE WHEN company_name LIKE '%{___}%' THEN 1 ELSE 0 END AS is_{___}\"  # first blank: suffix variable, second blank: suffix variable\n",
    "    for s in ___  # suffixes list\n",
    "]"
   ]
  },
  {
   "cell_type": "markdown",
   "id": "b2633aa4",
   "metadata": {},
   "source": [
    "<details>\n",
    "  <summary style=\"font-weight:bold; color:#9b870c;\">Hint</summary>\n",
    "  <div style=\"background-color:#fff9db; padding:10px; border-radius:5px; margin-top:5px;\">\n",
    "\n",
    "1. Hint: This is the variable that holds the suffixes you want to check in the company names.\n",
    "2. Hint: This is the same variable as the first blank, used to create the alias for the column.\n",
    "3. Hint: This is the list of suffixes you are iterating over.\n",
    "  </div>\n",
    "</details>"
   ]
  },
  {
   "cell_type": "markdown",
   "id": "dc996807",
   "metadata": {},
   "source": [
    "<details>\n",
    "  <summary style=\"font-weight:bold; color:#0c9b3b;\">Solution</summary>\n",
    "  <div style=\"background-color:#dbffdb; padding:10px; border-radius:5px; margin-top:5px;\">\n",
    "\n",
    "```python\n",
    "indicator_columns = [\n",
    "    f\"CASE WHEN company_name LIKE '%{s}%' THEN 1 ELSE 0 END AS is_{s}\"\n",
    "    for s in suffixes\n",
    "] \n",
    "```\n",
    "  </div>\n",
    "</details>"
   ]
  },
  {
   "cell_type": "markdown",
   "id": "5bce430c",
   "metadata": {},
   "source": [
    "<div style=\" border-radius: 0 0 15px 15px ; background: #a8d5e2; padding: 10px;\"></div><br><br>"
   ]
  },
  {
   "cell_type": "code",
   "execution_count": null,
   "id": "a9e64372-e557-4434-a4a4-903590e40ec5",
   "metadata": {},
   "outputs": [],
   "source": [
    "my_query = f\"\"\"\n",
    "SELECT\n",
    "    company_name,\n",
    "    {\",\\n    \".join(indicator_columns)}\n",
    "FROM\n",
    "    company_names\n",
    "\"\"\"\n",
    "print(my_query)"
   ]
  },
  {
   "cell_type": "markdown",
   "id": "4dbfef0e",
   "metadata": {},
   "source": [
    "<br><br><div style=\"border-radius: 15px 15px 0 0; background: #a8d5e2; padding: 10px;\"></div>"
   ]
  },
  {
   "cell_type": "code",
   "execution_count": null,
   "id": "1cc3faa5",
   "metadata": {},
   "outputs": [],
   "source": [
    "tdml.DataFrame.___(my_query)  # method to execute the query"
   ]
  },
  {
   "cell_type": "markdown",
   "id": "4978bd04",
   "metadata": {},
   "source": [
    "<details>\n",
    "  <summary style=\"font-weight:bold; color:#9b870c;\">Hint</summary>\n",
    "  <div style=\"background-color:#fff9db; padding:10px; border-radius:5px; margin-top:5px;\">\n",
    "\n",
    "1. Hint: This is the method used to create a DataFrame **from** a SQL **query**.\n",
    "  </div>\n",
    "</details>"
   ]
  },
  {
   "cell_type": "markdown",
   "id": "996364e0",
   "metadata": {},
   "source": [
    "<details>\n",
    "  <summary style=\"font-weight:bold; color:#0c9b3b;\">Solution</summary>\n",
    "  <div style=\"background-color:#dbffdb; padding:10px; border-radius:5px; margin-top:5px;\">\n",
    "\n",
    "```python\n",
    "tdml.DataFrame.from_query(my_query)\n",
    "```\n",
    "  </div>\n",
    "</details>"
   ]
  },
  {
   "cell_type": "markdown",
   "id": "cf03fda2",
   "metadata": {},
   "source": [
    "<div style=\" border-radius: 0 0 15px 15px ; background: #a8d5e2; padding: 10px;\"></div><br><br>"
   ]
  },
  {
   "cell_type": "markdown",
   "id": "938a4661-6e7c-4733-86e5-8daafbac4528",
   "metadata": {},
   "source": [
    "### step 3: \"persist\" the logic as a view"
   ]
  },
  {
   "cell_type": "markdown",
   "id": "1e9ae2a8",
   "metadata": {},
   "source": [
    "<br><br><div style=\"border-radius: 15px 15px 0 0; background: #a8d5e2; padding: 10px;\"></div>"
   ]
  },
  {
   "cell_type": "code",
   "execution_count": null,
   "id": "1ab04637",
   "metadata": {},
   "outputs": [],
   "source": [
    "tdml.execute_sql(f\"REPLACE ___ company_features AS ({my_query})\")  # database object to contain logic, not data"
   ]
  },
  {
   "cell_type": "markdown",
   "id": "1e335c91",
   "metadata": {},
   "source": [
    "<details>\n",
    "  <summary style=\"font-weight:bold; color:#9b870c;\">Hint</summary>\n",
    "  <div style=\"background-color:#fff9db; padding:10px; border-radius:5px; margin-top:5px;\">\n",
    "\n",
    "1. Hint: This db object does not contain data, it is just *view*ing the data in a certain way.\n",
    "  </div>\n",
    "</details>"
   ]
  },
  {
   "cell_type": "markdown",
   "id": "48bd4dbe",
   "metadata": {},
   "source": [
    "<details>\n",
    "  <summary style=\"font-weight:bold; color:#0c9b3b;\">Solution</summary>\n",
    "  <div style=\"background-color:#dbffdb; padding:10px; border-radius:5px; margin-top:5px;\">\n",
    "\n",
    "```python\n",
    "tdml.execute_sql(f\"REPLACE VIEW company_features AS ({my_query})\")\n",
    "```\n",
    "  </div>\n",
    "</details>"
   ]
  },
  {
   "cell_type": "markdown",
   "id": "1719d5b0",
   "metadata": {},
   "source": [
    "<div style=\" border-radius: 0 0 15px 15px ; background: #a8d5e2; padding: 10px;\"></div><br><br>"
   ]
  },
  {
   "cell_type": "code",
   "execution_count": null,
   "id": "4854488a-de0e-4c1e-abe0-12a7f901ff79",
   "metadata": {},
   "outputs": [],
   "source": [
    "tdml.DataFrame(\"company_features\")"
   ]
  },
  {
   "cell_type": "markdown",
   "id": "d03948d3-e148-4b64-a8be-517a0676137a",
   "metadata": {},
   "source": [
    "__outlook:__ Use a feature store for better feature management: available in latest teradataml version https://pypi.org/project/teradataml/ "
   ]
  },
  {
   "cell_type": "markdown",
   "id": "1f8fb051-df71-4c68-a745-631edefd5fd1",
   "metadata": {},
   "source": [
    "# clean up db & remove context"
   ]
  },
  {
   "cell_type": "code",
   "execution_count": null,
   "id": "e5a75f42-2e8e-4b4f-b74e-8ab701d44b2a",
   "metadata": {},
   "outputs": [],
   "source": [
    "db_obj_list = [\n",
    " 'Account_Customer_Map',\n",
    " 'Account_Dim',\n",
    " 'Balance_Fact',\n",
    " 'Customer_Details',\n",
    " 'Customer_Dim',\n",
    " 'Interaction_Fact',\n",
    " 'Master_Table',\n",
    " 'Transaction_Fact',\n",
    " 'cluster_input',\n",
    " 'customer_BEZH_EN',\n",
    " 'master_filter',\n",
    " 'quality_customerdetails',\n",
    " 'waterfall_base',\n",
    "\"change_date_table\",\n",
    "\"company_names\",\n",
    "\"company_features\",\n",
    "]\n",
    "\n",
    "for torv in db_obj_list:\n",
    "    try:\n",
    "        tdml.db_drop_table(torv)\n",
    "        print(f\"Table {torv} deleted.\")\n",
    "    except:\n",
    "        pass\n",
    "    try:\n",
    "        tdml.db_drop_view(torv)\n",
    "        print(f\"View {torv} deleted.\")\n",
    "    except:\n",
    "        pass"
   ]
  },
  {
   "cell_type": "code",
   "execution_count": null,
   "id": "6c28692f-0549-4456-8137-d83bc253000c",
   "metadata": {},
   "outputs": [],
   "source": [
    "tdml.remove_context()"
   ]
  },
  {
   "cell_type": "code",
   "execution_count": null,
   "id": "be10fa9a-1497-496b-b0f7-de3ebc710c51",
   "metadata": {},
   "outputs": [],
   "source": []
  },
  {
   "cell_type": "code",
   "execution_count": null,
   "id": "0b02bbec-9870-44a4-99dd-66d1672e76c0",
   "metadata": {},
   "outputs": [],
   "source": []
  }
 ],
 "metadata": {
  "kernelspec": {
   "display_name": "Python 3 (ipykernel)",
   "language": "python",
   "name": "python3"
  },
  "language_info": {
   "codemirror_mode": {
    "name": "ipython",
    "version": 3
   },
   "file_extension": ".py",
   "mimetype": "text/x-python",
   "name": "python",
   "nbconvert_exporter": "python",
   "pygments_lexer": "ipython3",
   "version": "3.12.0"
  }
 },
 "nbformat": 4,
 "nbformat_minor": 5
}
